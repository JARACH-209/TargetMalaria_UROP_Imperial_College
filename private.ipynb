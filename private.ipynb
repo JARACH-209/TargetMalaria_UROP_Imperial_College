{
 "cells": [
  {
   "cell_type": "code",
   "execution_count": 6,
   "id": "c0622ed5",
   "metadata": {},
   "outputs": [
    {
     "data": {
      "text/html": [
       "<ol class=list-inline>\n",
       "\t<li>'fsum'</li>\n",
       "\t<li>'gc2'</li>\n",
       "\t<li>'haplotype'</li>\n",
       "\t<li>'i'</li>\n",
       "\t<li>'label'</li>\n",
       "\t<li>'M'</li>\n",
       "\t<li>'pop'</li>\n",
       "\t<li>'POS'</li>\n",
       "\t<li>'s'</li>\n",
       "</ol>\n"
      ],
      "text/latex": [
       "\\begin{enumerate*}\n",
       "\\item 'fsum'\n",
       "\\item 'gc2'\n",
       "\\item 'haplotype'\n",
       "\\item 'i'\n",
       "\\item 'label'\n",
       "\\item 'M'\n",
       "\\item 'pop'\n",
       "\\item 'POS'\n",
       "\\item 's'\n",
       "\\end{enumerate*}\n"
      ],
      "text/markdown": [
       "1. 'fsum'\n",
       "2. 'gc2'\n",
       "3. 'haplotype'\n",
       "4. 'i'\n",
       "5. 'label'\n",
       "6. 'M'\n",
       "7. 'pop'\n",
       "8. 'POS'\n",
       "9. 's'\n",
       "\n",
       "\n"
      ],
      "text/plain": [
       "[1] \"fsum\"      \"gc2\"       \"haplotype\" \"i\"         \"label\"     \"M\"        \n",
       "[7] \"pop\"       \"POS\"       \"s\"        "
      ]
     },
     "metadata": {},
     "output_type": "display_data"
    }
   ],
   "source": [
    "# HOW PRIVATE OUR SNPs ARE?\n",
    "require(compiler)\n",
    "require(RSpectra)\n",
    "\n",
    "setMKLthreads(16)\n",
    "#setwd('ag1000g_phase2/learning')\n",
    "load('Haplotype_16Filtered.RData')\n",
    "ls()"
   ]
  },
  {
   "cell_type": "code",
   "execution_count": 7,
   "id": "7d7c8a9f",
   "metadata": {},
   "outputs": [],
   "source": [
    "# JUST SOME FUNCTIONS\n",
    "fsum<-function(x) {.Primitive('sum')(x)}\n",
    "gc2<-function() {invisible(gc())}"
   ]
  },
  {
   "cell_type": "code",
   "execution_count": 8,
   "id": "81a589b9",
   "metadata": {},
   "outputs": [
    {
     "data": {
      "text/html": [
       "<ol class=list-inline>\n",
       "\t<li>2234</li>\n",
       "\t<li>117461</li>\n",
       "</ol>\n"
      ],
      "text/latex": [
       "\\begin{enumerate*}\n",
       "\\item 2234\n",
       "\\item 117461\n",
       "\\end{enumerate*}\n"
      ],
      "text/markdown": [
       "1. 2234\n",
       "2. 117461\n",
       "\n",
       "\n"
      ],
      "text/plain": [
       "[1]   2234 117461"
      ]
     },
     "metadata": {},
     "output_type": "display_data"
    }
   ],
   "source": [
    "# REMOVE SOME POPULATIONS\n",
    "s<-!(label %in% c('GQgam', 'GHgam', 'GNcol'))\n",
    "haplotype<-haplotype[s,]\n",
    "label<-label[s]\n",
    "dim(haplotype)\n",
    "mode(haplotype)<-'numeric'\n",
    "rm(s); gc2()"
   ]
  },
  {
   "cell_type": "code",
   "execution_count": 11,
   "id": "7b4a974a",
   "metadata": {},
   "outputs": [
    {
     "data": {
      "image/png": "[encoded data removed]",
      "text/plain": [
       "Plot with title \"minor allele freq\""
      ]
     },
     "metadata": {},
     "output_type": "display_data"
    }
   ],
   "source": [
    "# GLOBAL MAF\n",
    "maf<-apply(haplotype, 2, fsum)/(2*nrow(haplotype))\n",
    "maf[maf>0.5]<-1-maf[maf>0.5]\n",
    "hist(maf, main='minor allele freq')"
   ]
  },
  {
   "cell_type": "code",
   "execution_count": 9,
   "id": "494b1b1a",
   "metadata": {},
   "outputs": [
    {
     "data": {
      "text/html": [
       "<ol class=list-inline>\n",
       "\t<li>'BFcol'</li>\n",
       "\t<li>'BFgam'</li>\n",
       "\t<li>'AOcol'</li>\n",
       "\t<li>'CIcol'</li>\n",
       "\t<li>'CMgam'</li>\n",
       "\t<li>'FRgam'</li>\n",
       "\t<li>'GAgam'</li>\n",
       "\t<li>'GHcol'</li>\n",
       "\t<li>'GM'</li>\n",
       "\t<li>'GNgam'</li>\n",
       "\t<li>'GW'</li>\n",
       "\t<li>'KE'</li>\n",
       "\t<li>'UGgam'</li>\n",
       "</ol>\n"
      ],
      "text/latex": [
       "\\begin{enumerate*}\n",
       "\\item 'BFcol'\n",
       "\\item 'BFgam'\n",
       "\\item 'AOcol'\n",
       "\\item 'CIcol'\n",
       "\\item 'CMgam'\n",
       "\\item 'FRgam'\n",
       "\\item 'GAgam'\n",
       "\\item 'GHcol'\n",
       "\\item 'GM'\n",
       "\\item 'GNgam'\n",
       "\\item 'GW'\n",
       "\\item 'KE'\n",
       "\\item 'UGgam'\n",
       "\\end{enumerate*}\n"
      ],
      "text/markdown": [
       "1. 'BFcol'\n",
       "2. 'BFgam'\n",
       "3. 'AOcol'\n",
       "4. 'CIcol'\n",
       "5. 'CMgam'\n",
       "6. 'FRgam'\n",
       "7. 'GAgam'\n",
       "8. 'GHcol'\n",
       "9. 'GM'\n",
       "10. 'GNgam'\n",
       "11. 'GW'\n",
       "12. 'KE'\n",
       "13. 'UGgam'\n",
       "\n",
       "\n"
      ],
      "text/plain": [
       " [1] \"BFcol\" \"BFgam\" \"AOcol\" \"CIcol\" \"CMgam\" \"FRgam\" \"GAgam\" \"GHcol\" \"GM\"   \n",
       "[10] \"GNgam\" \"GW\"    \"KE\"    \"UGgam\""
      ]
     },
     "metadata": {},
     "output_type": "display_data"
    },
    {
     "name": "stdout",
     "output_type": "stream",
     "text": [
      "[1] \"BFcol\"\n",
      "[1] \"BFgam\"\n",
      "[1] \"AOcol\"\n",
      "[1] \"CIcol\"\n",
      "[1] \"CMgam\"\n",
      "[1] \"FRgam\"\n",
      "[1] \"GAgam\"\n",
      "[1] \"GHcol\"\n",
      "[1] \"GM\"\n",
      "[1] \"GNgam\"\n",
      "[1] \"GW\"\n",
      "[1] \"KE\"\n",
      "[1] \"UGgam\"\n"
     ]
    }
   ],
   "source": [
    "# FIND UNIQUE LABELS AS POPULAITON\n",
    "pop<-unique(label)\n",
    "pop\n",
    "# CREATE MATRIX TO STORE ALL THE ALLELE FREQ\n",
    "M<-matrix(nc=ncol(haplotype), nr=length(pop))\n",
    "# CALCULATE ALLELE FREQ FOR EACH POPULATION\n",
    "for (i in 1:length(pop))\n",
    "    {\n",
    "    s<-(label==pop[i])\n",
    "    print(pop[i])\n",
    "    temp_haplotype<-haplotype[s,]\n",
    "    # FOR EACH LOCUS\n",
    "    M[i,]<-apply(temp_haplotype, 2, fsum)/(2*nrow(temp_haplotype))\n",
    "    }"
   ]
  },
  {
   "cell_type": "code",
   "execution_count": 14,
   "id": "d35cae54",
   "metadata": {},
   "outputs": [
    {
     "data": {
      "text/html": [
       "117461"
      ],
      "text/latex": [
       "117461"
      ],
      "text/markdown": [
       "117461"
      ],
      "text/plain": [
       "[1] 117461"
      ]
     },
     "metadata": {},
     "output_type": "display_data"
    },
    {
     "data": {
      "image/png": "[encoded data removed]",
      "text/plain": [
       "Plot with title \"Histogram of Y\""
      ]
     },
     "metadata": {},
     "output_type": "display_data"
    }
   ],
   "source": [
    "# Y IS VECTOR STORING IN HOW MANY POPULATIONS (OUT OF 13) THE SNP IS POLYMORPHIC\n",
    "Y<-apply(M, 2, function(x) {sum(x>0)})\n",
    "length(Y)\n",
    "hist(Y, xlab='have >0 allele freq in how many populations')"
   ]
  },
  {
   "cell_type": "code",
   "execution_count": 15,
   "id": "778c9b6b",
   "metadata": {},
   "outputs": [
    {
     "data": {
      "text/html": [
       "39038"
      ],
      "text/latex": [
       "39038"
      ],
      "text/markdown": [
       "39038"
      ],
      "text/plain": [
       "[1] 39038"
      ]
     },
     "metadata": {},
     "output_type": "display_data"
    }
   ],
   "source": [
    "# NUMBER OF SNPS THAT IS POLYMORPHIC IN ALL 13 POPULATIONS\n",
    "sum(Y==13)"
   ]
  },
  {
   "cell_type": "code",
   "execution_count": 16,
   "id": "42ba0b73",
   "metadata": {},
   "outputs": [
    {
     "data": {
      "text/html": [
       "0"
      ],
      "text/latex": [
       "0"
      ],
      "text/markdown": [
       "0"
      ],
      "text/plain": [
       "[1] 0"
      ]
     },
     "metadata": {},
     "output_type": "display_data"
    }
   ],
   "source": [
    "# ANY VERY PRIVATE ONES?\n",
    "sum(Y==1)"
   ]
  },
  {
   "cell_type": "code",
   "execution_count": null,
   "id": "97757093",
   "metadata": {},
   "outputs": [],
   "source": []
  }
 ],
 "metadata": {
  "kernelspec": {
   "display_name": "R",
   "language": "R",
   "name": "ir"
  },
  "language_info": {
   "codemirror_mode": "r",
   "file_extension": ".r",
   "mimetype": "text/x-r-source",
   "name": "R",
   "pygments_lexer": "r",
   "version": "3.5.3"
  }
 },
 "nbformat": 4,
 "nbformat_minor": 5
}
