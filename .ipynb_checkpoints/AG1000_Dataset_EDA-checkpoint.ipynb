{
 "cells": [
  {
   "cell_type": "code",
   "execution_count": 1,
   "id": "284d336c",
   "metadata": {
    "scrolled": true
   },
   "outputs": [
    {
     "name": "stderr",
     "output_type": "stream",
     "text": [
      "/home/achal/miniconda3/envs/Imp-Res/lib/python3.7/site-packages/rpy2/robjects/pandas2ri.py:17: FutureWarning: pandas.core.index is deprecated and will be removed in a future version.  The public classes are available in the top-level namespace.\n",
      "  from pandas.core.index import Index as PandasIndex\n"
     ]
    }
   ],
   "source": [
    "import pandas as pd\n",
    "import numpy as np\n",
    "import matplotlib.pyplot as plt\n",
    "import seaborn as sns\n",
    "%matplotlib inline\n",
    "\n",
    "import os\n",
    "import allel\n",
    "os.environ['R_USER'] = 'D:\\Anaconda3\\Lib\\site-packages\\rpy2'\n",
    "import rpy2.robjects as robjects\n",
    "from rpy2.robjects import pandas2ri\n",
    "import rpy2.robjects.numpy2ri as rpyn\n",
    "pandas2ri.activate()"
   ]
  },
  {
   "cell_type": "code",
   "execution_count": 3,
   "id": "3be84a37",
   "metadata": {},
   "outputs": [],
   "source": [
    "home = os.path.expanduser('~')\n",
    "directory = os.path.join('Imp_Research','Dataset')\n",
    "\n",
    "pop_name = 'BFcol.3R'\n",
    "\n",
    "# ignore 3L choromosome for now\n",
    "filename = f'haplotype.intergenic.{pop_name}.Rdata'\n",
    "data_path = os.path.join(home, directory, filename)"
   ]
  },
  {
   "cell_type": "code",
   "execution_count": 4,
   "id": "b3678348",
   "metadata": {},
   "outputs": [
    {
     "data": {
      "text/html": [
       "\n",
       "    <span>StrVector with 2 elements.</span>\n",
       "    <table>\n",
       "      <tbody>\n",
       "      <tr>\n",
       "      \n",
       "      <td>\n",
       "        'haplotype'\n",
       "      </td>\n",
       "      \n",
       "      <td>\n",
       "        'POS'\n",
       "      </td>\n",
       "      \n",
       "      </tr>\n",
       "      </tbody>\n",
       "    </table>\n",
       "    "
      ],
      "text/plain": [
       "R object with classes: ('character',) mapped to:\n",
       "<StrVector - Python:0x7f185c8c6c08 / R:0x564465d9a8c8>\n",
       "['haplotype', 'POS']"
      ]
     },
     "execution_count": 4,
     "metadata": {},
     "output_type": "execute_result"
    }
   ],
   "source": [
    "robjects.r['load'](data_path)"
   ]
  },
  {
   "cell_type": "code",
   "execution_count": 88,
   "id": "b1115944",
   "metadata": {},
   "outputs": [
    {
     "name": "stdout",
     "output_type": "stream",
     "text": [
      "Type :  <class 'rpy2.robjects.vectors.Matrix'>\n"
     ]
    }
   ],
   "source": [
    "type(robjects.r['haplotype'])"
   ]
  },
  {
   "cell_type": "code",
   "execution_count": 5,
   "id": "52e8785d",
   "metadata": {},
   "outputs": [
    {
     "data": {
      "text/plain": [
       "(4836295, 150)"
      ]
     },
     "execution_count": 5,
     "metadata": {},
     "output_type": "execute_result"
    }
   ],
   "source": [
    "# taking the transpose\n",
    "haplotype = np.array(robjects.r['haplotype']).T\n",
    "haplo_len = len(haplotype)\n",
    "haplotype.shape"
   ]
  },
  {
   "cell_type": "code",
   "execution_count": 6,
   "id": "e384c3c2",
   "metadata": {},
   "outputs": [
    {
     "data": {
      "text/plain": [
       "(4836295,)"
      ]
     },
     "execution_count": 6,
     "metadata": {},
     "output_type": "execute_result"
    }
   ],
   "source": [
    "POS = np.array(robjects.r['POS'])\n",
    "POS.shape"
   ]
  },
  {
   "cell_type": "code",
   "execution_count": 5,
   "id": "1078171a",
   "metadata": {},
   "outputs": [
    {
     "data": {
      "text/plain": [
       "15252710"
      ]
     },
     "execution_count": 5,
     "metadata": {},
     "output_type": "execute_result"
    }
   ],
   "source": [
    "len(haplo[haplo==1])"
   ]
  },
  {
   "cell_type": "markdown",
   "id": "6bf0b743",
   "metadata": {},
   "source": [
    "### Coverting Datasets from Rdata to HDF5 \n",
    "#### Removes a lot of dependencies as we can only need Pandas"
   ]
  },
  {
   "cell_type": "code",
   "execution_count": 7,
   "id": "46976f6f",
   "metadata": {
    "collapsed": true
   },
   "outputs": [
    {
     "ename": "KeyboardInterrupt",
     "evalue": "",
     "output_type": "error",
     "traceback": [
      "\u001b[0;31m---------------------------------------------------------------------------\u001b[0m",
      "\u001b[0;31mKeyboardInterrupt\u001b[0m                         Traceback (most recent call last)",
      "\u001b[0;32m<ipython-input-7-1288b97cdb83>\u001b[0m in \u001b[0;36m<module>\u001b[0;34m\u001b[0m\n\u001b[1;32m     26\u001b[0m         \u001b[0;31m# To read the dataset, keys present in name can be used : 'Haplotype' and 'POS'\u001b[0m\u001b[0;34m\u001b[0m\u001b[0;34m\u001b[0m\u001b[0m\n\u001b[1;32m     27\u001b[0m         \u001b[0mstorefile\u001b[0m \u001b[0;34m=\u001b[0m \u001b[0mos\u001b[0m\u001b[0;34m.\u001b[0m\u001b[0mpath\u001b[0m\u001b[0;34m.\u001b[0m\u001b[0mjoin\u001b[0m\u001b[0;34m(\u001b[0m\u001b[0mstore_path\u001b[0m\u001b[0;34m,\u001b[0m \u001b[0;34mf'Haplotype.POS.{pop_name}.hd5'\u001b[0m\u001b[0;34m)\u001b[0m\u001b[0;34m\u001b[0m\u001b[0m\n\u001b[0;32m---> 28\u001b[0;31m         \u001b[0mhap\u001b[0m \u001b[0;34m=\u001b[0m \u001b[0mpd\u001b[0m\u001b[0;34m.\u001b[0m\u001b[0mDataFrame\u001b[0m\u001b[0;34m(\u001b[0m\u001b[0mhaplotype\u001b[0m\u001b[0;34m)\u001b[0m\u001b[0;34m.\u001b[0m\u001b[0mastype\u001b[0m\u001b[0;34m(\u001b[0m\u001b[0;34m'int8'\u001b[0m\u001b[0;34m)\u001b[0m\u001b[0;34m\u001b[0m\u001b[0m\n\u001b[0m\u001b[1;32m     29\u001b[0m         \u001b[0mpos\u001b[0m \u001b[0;34m=\u001b[0m \u001b[0mpd\u001b[0m\u001b[0;34m.\u001b[0m\u001b[0mDataFrame\u001b[0m\u001b[0;34m(\u001b[0m\u001b[0mPOS\u001b[0m\u001b[0;34m)\u001b[0m\u001b[0;34m\u001b[0m\u001b[0m\n\u001b[1;32m     30\u001b[0m         \u001b[0;31m# To prevent out of memory error Delete the variables\u001b[0m\u001b[0;34m\u001b[0m\u001b[0;34m\u001b[0m\u001b[0m\n",
      "\u001b[0;32m~/miniconda3/envs/Imp-Res/lib/python3.7/site-packages/pandas/core/generic.py\u001b[0m in \u001b[0;36mastype\u001b[0;34m(self, dtype, copy, errors)\u001b[0m\n\u001b[1;32m   5546\u001b[0m         \u001b[0;32melse\u001b[0m\u001b[0;34m:\u001b[0m\u001b[0;34m\u001b[0m\u001b[0m\n\u001b[1;32m   5547\u001b[0m             \u001b[0;31m# else, only a single dtype is given\u001b[0m\u001b[0;34m\u001b[0m\u001b[0;34m\u001b[0m\u001b[0m\n\u001b[0;32m-> 5548\u001b[0;31m             \u001b[0mnew_data\u001b[0m \u001b[0;34m=\u001b[0m \u001b[0mself\u001b[0m\u001b[0;34m.\u001b[0m\u001b[0m_mgr\u001b[0m\u001b[0;34m.\u001b[0m\u001b[0mastype\u001b[0m\u001b[0;34m(\u001b[0m\u001b[0mdtype\u001b[0m\u001b[0;34m=\u001b[0m\u001b[0mdtype\u001b[0m\u001b[0;34m,\u001b[0m \u001b[0mcopy\u001b[0m\u001b[0;34m=\u001b[0m\u001b[0mcopy\u001b[0m\u001b[0;34m,\u001b[0m \u001b[0merrors\u001b[0m\u001b[0;34m=\u001b[0m\u001b[0merrors\u001b[0m\u001b[0;34m,\u001b[0m\u001b[0;34m)\u001b[0m\u001b[0;34m\u001b[0m\u001b[0m\n\u001b[0m\u001b[1;32m   5549\u001b[0m             \u001b[0;32mreturn\u001b[0m \u001b[0mself\u001b[0m\u001b[0;34m.\u001b[0m\u001b[0m_constructor\u001b[0m\u001b[0;34m(\u001b[0m\u001b[0mnew_data\u001b[0m\u001b[0;34m)\u001b[0m\u001b[0;34m.\u001b[0m\u001b[0m__finalize__\u001b[0m\u001b[0;34m(\u001b[0m\u001b[0mself\u001b[0m\u001b[0;34m,\u001b[0m \u001b[0mmethod\u001b[0m\u001b[0;34m=\u001b[0m\u001b[0;34m\"astype\"\u001b[0m\u001b[0;34m)\u001b[0m\u001b[0;34m\u001b[0m\u001b[0m\n\u001b[1;32m   5550\u001b[0m \u001b[0;34m\u001b[0m\u001b[0m\n",
      "\u001b[0;32m~/miniconda3/envs/Imp-Res/lib/python3.7/site-packages/pandas/core/internals/managers.py\u001b[0m in \u001b[0;36mastype\u001b[0;34m(self, dtype, copy, errors)\u001b[0m\n\u001b[1;32m    602\u001b[0m         \u001b[0mself\u001b[0m\u001b[0;34m,\u001b[0m \u001b[0mdtype\u001b[0m\u001b[0;34m,\u001b[0m \u001b[0mcopy\u001b[0m\u001b[0;34m:\u001b[0m \u001b[0mbool\u001b[0m \u001b[0;34m=\u001b[0m \u001b[0;32mFalse\u001b[0m\u001b[0;34m,\u001b[0m \u001b[0merrors\u001b[0m\u001b[0;34m:\u001b[0m \u001b[0mstr\u001b[0m \u001b[0;34m=\u001b[0m \u001b[0;34m\"raise\"\u001b[0m\u001b[0;34m\u001b[0m\u001b[0m\n\u001b[1;32m    603\u001b[0m     ) -> \"BlockManager\":\n\u001b[0;32m--> 604\u001b[0;31m         \u001b[0;32mreturn\u001b[0m \u001b[0mself\u001b[0m\u001b[0;34m.\u001b[0m\u001b[0mapply\u001b[0m\u001b[0;34m(\u001b[0m\u001b[0;34m\"astype\"\u001b[0m\u001b[0;34m,\u001b[0m \u001b[0mdtype\u001b[0m\u001b[0;34m=\u001b[0m\u001b[0mdtype\u001b[0m\u001b[0;34m,\u001b[0m \u001b[0mcopy\u001b[0m\u001b[0;34m=\u001b[0m\u001b[0mcopy\u001b[0m\u001b[0;34m,\u001b[0m \u001b[0merrors\u001b[0m\u001b[0;34m=\u001b[0m\u001b[0merrors\u001b[0m\u001b[0;34m)\u001b[0m\u001b[0;34m\u001b[0m\u001b[0m\n\u001b[0m\u001b[1;32m    605\u001b[0m \u001b[0;34m\u001b[0m\u001b[0m\n\u001b[1;32m    606\u001b[0m     def convert(\n",
      "\u001b[0;32m~/miniconda3/envs/Imp-Res/lib/python3.7/site-packages/pandas/core/internals/managers.py\u001b[0m in \u001b[0;36mapply\u001b[0;34m(self, f, align_keys, **kwargs)\u001b[0m\n\u001b[1;32m    407\u001b[0m                 \u001b[0mapplied\u001b[0m \u001b[0;34m=\u001b[0m \u001b[0mb\u001b[0m\u001b[0;34m.\u001b[0m\u001b[0mapply\u001b[0m\u001b[0;34m(\u001b[0m\u001b[0mf\u001b[0m\u001b[0;34m,\u001b[0m \u001b[0;34m**\u001b[0m\u001b[0mkwargs\u001b[0m\u001b[0;34m)\u001b[0m\u001b[0;34m\u001b[0m\u001b[0m\n\u001b[1;32m    408\u001b[0m             \u001b[0;32melse\u001b[0m\u001b[0;34m:\u001b[0m\u001b[0;34m\u001b[0m\u001b[0m\n\u001b[0;32m--> 409\u001b[0;31m                 \u001b[0mapplied\u001b[0m \u001b[0;34m=\u001b[0m \u001b[0mgetattr\u001b[0m\u001b[0;34m(\u001b[0m\u001b[0mb\u001b[0m\u001b[0;34m,\u001b[0m \u001b[0mf\u001b[0m\u001b[0;34m)\u001b[0m\u001b[0;34m(\u001b[0m\u001b[0;34m**\u001b[0m\u001b[0mkwargs\u001b[0m\u001b[0;34m)\u001b[0m\u001b[0;34m\u001b[0m\u001b[0m\n\u001b[0m\u001b[1;32m    410\u001b[0m             \u001b[0mresult_blocks\u001b[0m \u001b[0;34m=\u001b[0m \u001b[0m_extend_blocks\u001b[0m\u001b[0;34m(\u001b[0m\u001b[0mapplied\u001b[0m\u001b[0;34m,\u001b[0m \u001b[0mresult_blocks\u001b[0m\u001b[0;34m)\u001b[0m\u001b[0;34m\u001b[0m\u001b[0m\n\u001b[1;32m    411\u001b[0m \u001b[0;34m\u001b[0m\u001b[0m\n",
      "\u001b[0;32m~/miniconda3/envs/Imp-Res/lib/python3.7/site-packages/pandas/core/internals/blocks.py\u001b[0m in \u001b[0;36mastype\u001b[0;34m(self, dtype, copy, errors)\u001b[0m\n\u001b[1;32m    591\u001b[0m \u001b[0;34m\u001b[0m\u001b[0m\n\u001b[1;32m    592\u001b[0m             \u001b[0;31m# _astype_nansafe works fine with 1-d only\u001b[0m\u001b[0;34m\u001b[0m\u001b[0;34m\u001b[0m\u001b[0m\n\u001b[0;32m--> 593\u001b[0;31m             \u001b[0mvals1d\u001b[0m \u001b[0;34m=\u001b[0m \u001b[0mvalues\u001b[0m\u001b[0;34m.\u001b[0m\u001b[0mravel\u001b[0m\u001b[0;34m(\u001b[0m\u001b[0;34m)\u001b[0m\u001b[0;34m\u001b[0m\u001b[0m\n\u001b[0m\u001b[1;32m    594\u001b[0m             \u001b[0;32mtry\u001b[0m\u001b[0;34m:\u001b[0m\u001b[0;34m\u001b[0m\u001b[0m\n\u001b[1;32m    595\u001b[0m                 \u001b[0mvalues\u001b[0m \u001b[0;34m=\u001b[0m \u001b[0mastype_nansafe\u001b[0m\u001b[0;34m(\u001b[0m\u001b[0mvals1d\u001b[0m\u001b[0;34m,\u001b[0m \u001b[0mdtype\u001b[0m\u001b[0;34m,\u001b[0m \u001b[0mcopy\u001b[0m\u001b[0;34m=\u001b[0m\u001b[0;32mTrue\u001b[0m\u001b[0;34m)\u001b[0m\u001b[0;34m\u001b[0m\u001b[0m\n",
      "\u001b[0;31mKeyboardInterrupt\u001b[0m: "
     ]
    }
   ],
   "source": [
    "'''\n",
    "Converting from Rdata and saving datasets in HDF5 format with compression.\n",
    "Naming : key1.key2.Population.arm.hd5\n",
    "e.g, Haplotype.POS.BFcol.3L.hd5\n",
    "\n",
    "Preferrably use as a .py script in terminal for efficiency.\n",
    "'''\n",
    "\n",
    "populations = ['BFcol','BFgam','AOcol','CIcol','CMgam','FRgam',\n",
    "              'GAgam','GHcol','GHgam','GM','GNcol','GNgam','GQgam',\n",
    "              'GW','KE','UGgam']\n",
    "chromo_arms = ['3R','3L']\n",
    "for population in populations:\n",
    "    for arm in chromo_arms:\n",
    "        \n",
    "        pop_name = population+'.'+arm\n",
    "        filename = f'haplotype.intergenic.{pop_name}.Rdata'\n",
    "        data_path = os.path.join(home, directory, filename)\n",
    "        store_path = os.path.join(home,directory,\"HDF_Dataset\")\n",
    "\n",
    "        data = robjects.r['load'](data_path)\n",
    "        # storing transpose of Haplotype because sk-allel takes SNP x samples as input\n",
    "        haplotype = np.array(robjects.r['haplotype'],dtype=np.uint8).T\n",
    "        POS = np.array(robjects.r['POS'])\n",
    "\n",
    "        # To read the dataset, keys present in name can be used : 'Haplotype' and 'POS'\n",
    "        storefile = os.path.join(store_path, f'Haplotype.POS.{pop_name}.hd5')\n",
    "        hap = pd.DataFrame(haplotype).astype('int8')\n",
    "        pos = pd.DataFrame(POS)\n",
    "        # To prevent out of memory error Delete the variables\n",
    "        del haplotype, POS\n",
    "        hap.to_hdf(storefile,key='Haplotype',format='fixed',mode='w',complevel=9)\n",
    "        del hap\n",
    "        pos.to_hdf(storefile,key='POS',format='fixed',mode='a',complevel=9)\n",
    "        del pos\n"
   ]
  },
  {
   "cell_type": "code",
   "execution_count": 8,
   "id": "e8e824c4",
   "metadata": {},
   "outputs": [
    {
     "data": {
      "image/png": "[encoded data removed]",
      "text/plain": [
       "<Figure size 1000x1000 with 2 Axes>"
      ]
     },
     "metadata": {
      "needs_background": "light"
     },
     "output_type": "display_data"
    }
   ],
   "source": [
    "# Funtion definitions are changed in scikit-allel \n",
    "# refer the documentation before using the code\n",
    "def plot_ld(gn, title):\n",
    "    m = allel.rogers_huff_r(gn)**2\n",
    "    ax = allel.plot_pairwise_ld(m)\n",
    "    ax.set_title(title)\n",
    "plot_ld(haplotype[:1000], 'Pairwise LD for first 1000 SNP of 150 samples from BFcol.3R')"
   ]
  },
  {
   "cell_type": "markdown",
   "id": "de56dd94",
   "metadata": {},
   "source": [
    "### Selecting 1-37MBP"
   ]
  },
  {
   "cell_type": "code",
   "execution_count": 9,
   "id": "d41ec4c6",
   "metadata": {},
   "outputs": [],
   "source": [
    "'''\n",
    "get_MBP()\n",
    "Funtction takes in POS array, start and end Mega Base Pair \n",
    "return : Indices of the MBPs\n",
    "'''\n",
    "# runs in 12.6 seconds\n",
    "# def get_MBP(POS,start = 1,end = 37):\n",
    "#     index = []\n",
    "#     for i in range(len(POS)):\n",
    "#         if POS[i] > 1000000 and POS[i] <= 37000000:\n",
    "#             index.append(i)\n",
    "#     return index\n",
    "\n",
    "# Library function runs in 0.16 seconds\n",
    "def get_MBP(POS,start = 1,end = 37):\n",
    "    return np.where(POS[np.where(POS>=1e6)]<=37e6)[0]\n",
    "# import timeit\n",
    "# start = timeit.default_timer()\n",
    "# index = get_MBP2(POS)\n",
    "# stop = timeit.default_timer()\n",
    "# print(stop-start)\n",
    "# >>> 0.16424157\n",
    "'''\n",
    "get_haplo_MBP()\n",
    "takes a haplotype matrix and POS \n",
    "returns haplotype matrix with only selected MBP positions\n",
    "'''\n",
    "def get_haplo_MBP(haplotype,POS,start = 1,end = 37):\n",
    "    index = get_MBP(POS,start,end)\n",
    "    return np.take(haplotype,index,0)\n"
   ]
  },
  {
   "cell_type": "code",
   "execution_count": 38,
   "id": "ee821c3f",
   "metadata": {},
   "outputs": [],
   "source": [
    "haplotypeF = get_haplo_MBP(haplotype,POS)"
   ]
  },
  {
   "cell_type": "code",
   "execution_count": 39,
   "id": "ab10d8ad",
   "metadata": {},
   "outputs": [
    {
     "data": {
      "text/plain": [
       "(3651720, 150)"
      ]
     },
     "execution_count": 39,
     "metadata": {},
     "output_type": "execute_result"
    }
   ],
   "source": [
    "haplotypeF.shape\n",
    "# 3651720 SNPs are left"
   ]
  },
  {
   "cell_type": "markdown",
   "id": "6f21f81d",
   "metadata": {},
   "source": [
    "### Filtering SNPs with Rare Allele using Minor Allel Frequency (MAF)"
   ]
  },
  {
   "cell_type": "code",
   "execution_count": 12,
   "id": "2a321aee",
   "metadata": {},
   "outputs": [],
   "source": [
    "'''\n",
    "The function removes the rare allel using minor frequency threshold.\n",
    "MFA means an allel with lower relative count. MAF0 = Count(0)/Total\n",
    "if MAF > 0.5 then its major otherwise minor, and vice versa.\n",
    "\n",
    "Params: Haplotype Matrix, Threshold in percent\n",
    "return : Filtered Haplotype Matrix\n",
    "'''\n",
    "\n",
    "def filter_MAF(haplo,threshold = 5):\n",
    "    if threshold >= 50 : \n",
    "        print(\"MAF threshold cannot be more than 49%\")\n",
    "        return\n",
    "    samples = haplo.shape[1]\n",
    "    minor = samples*threshold/100\n",
    "    major = samples*(100-threshold)/100\n",
    "    sums = haplo.sum(axis=1)\n",
    "    # Selects indexes where allels are >threshold or all 0 and all 1.\n",
    "    index = np.where((sums==samples)|(sums==0)| (sums>=minor)& (sums<=major))[0]\n",
    "    print(\"Number of SNPs removed = \",len(haplo)-len(index))\n",
    "    return np.take(haplo,index,0)\n",
    "        "
   ]
  },
  {
   "cell_type": "code",
   "execution_count": 40,
   "id": "70f8ef2b",
   "metadata": {},
   "outputs": [
    {
     "name": "stdout",
     "output_type": "stream",
     "text": [
      "Number of SNPs removed =  853742\n"
     ]
    },
    {
     "data": {
      "text/plain": [
       "(2797978, 150)"
      ]
     },
     "execution_count": 40,
     "metadata": {},
     "output_type": "execute_result"
    }
   ],
   "source": [
    "haplotypeF = filter_MAF(haplotypeF)\n",
    "haplotypeF.shape"
   ]
  },
  {
   "cell_type": "markdown",
   "id": "f6f0fc0b",
   "metadata": {},
   "source": [
    "### LD Pruning (Alistair's Method)"
   ]
  },
  {
   "cell_type": "code",
   "execution_count": 119,
   "id": "05ed23d6",
   "metadata": {},
   "outputs": [],
   "source": [
    "'''\n",
    "Params : \n",
    "gn = Haplotype Matrix\n",
    "size = window size to be consdered for LD calculation and pruning\n",
    "step = overlap size between windows\n",
    "threshold = Maximum value of r**2 to include variants. \n",
    "'''\n",
    "\n",
    "def ld_pruning(gn, size, step, threshold=.1, n_iter=1):\n",
    "    for i in range(n_iter):\n",
    "        loc_unlinked = allel.locate_unlinked(gn, size=size, step=step, threshold=threshold)\n",
    "        n = np.count_nonzero(loc_unlinked)\n",
    "        n_remove = gn.shape[0] - n\n",
    "        print('iteration', i+1, 'retaining', n, 'removing', n_remove, 'variants')\n",
    "        gn = gn.compress(loc_unlinked, axis=0)\n",
    "    return gn"
   ]
  },
  {
   "cell_type": "code",
   "execution_count": null,
   "id": "b01fe196",
   "metadata": {},
   "outputs": [],
   "source": [
    "# Takes a long long time on 2.7M SNP\n",
    "gnu = ld_pruning(haplotypeF, size=10000, step=100, threshold=.1, n_iter=2)"
   ]
  },
  {
   "cell_type": "code",
   "execution_count": 36,
   "id": "3f041eac",
   "metadata": {},
   "outputs": [
    {
     "data": {
      "text/plain": [
       "2797978"
      ]
     },
     "execution_count": 36,
     "metadata": {},
     "output_type": "execute_result"
    }
   ],
   "source": [
    "len(haplotypeF)"
   ]
  },
  {
   "cell_type": "code",
   "execution_count": 46,
   "id": "b3a15f51",
   "metadata": {},
   "outputs": [
    {
     "data": {
      "text/plain": [
       "(27979, 150)"
      ]
     },
     "execution_count": 46,
     "metadata": {},
     "output_type": "execute_result"
    }
   ],
   "source": [
    "# For the time being, taking random 1% of MAF filtered SNP's\n",
    "rindexes = np.random.randint(len(haplotypeF),size=int((len(haplotypeF)*0.01)))\n",
    "haplotypeFF = haplotypeF[rindexes]\n",
    "haplotypeFF.shape"
   ]
  },
  {
   "cell_type": "code",
   "execution_count": 47,
   "id": "491f5533",
   "metadata": {},
   "outputs": [
    {
     "data": {
      "image/png": "[encoded data removed]",
      "text/plain": [
       "<Figure size 1000x1000 with 2 Axes>"
      ]
     },
     "metadata": {
      "needs_background": "light"
     },
     "output_type": "display_data"
    }
   ],
   "source": [
    "plot_ld(haplotypeFF[:1000],'LD for first 1000 of 1% SNP of 150 samples from BFcol.3R after rare allele filtering')"
   ]
  },
  {
   "cell_type": "markdown",
   "id": "19221c4d",
   "metadata": {},
   "source": [
    "### Some Preliminary Plots"
   ]
  },
  {
   "cell_type": "code",
   "execution_count": 62,
   "id": "f9e187fa",
   "metadata": {},
   "outputs": [
    {
     "data": {
      "text/plain": [
       "(array([[0., 0., 0., 0., 0., 0., 0., 1., 0., 1.],\n",
       "        [0., 0., 0., 1., 0., 0., 1., 0., 0., 0.],\n",
       "        [1., 1., 0., 2., 2., 1., 0., 0., 0., 1.],\n",
       "        [2., 3., 1., 3., 1., 3., 4., 2., 2., 1.],\n",
       "        [3., 4., 4., 1., 2., 1., 3., 4., 5., 3.],\n",
       "        [4., 3., 4., 5., 4., 5., 2., 3., 4., 0.],\n",
       "        [1., 2., 3., 2., 5., 1., 3., 4., 1., 6.],\n",
       "        [3., 1., 2., 0., 1., 4., 2., 0., 2., 3.],\n",
       "        [1., 1., 0., 0., 0., 0., 0., 1., 0., 0.],\n",
       "        [0., 0., 1., 1., 0., 0., 0., 0., 1., 0.]]),\n",
       " array([479., 489., 499., 509., 519., 529., 539., 549., 559., 569., 579.]),\n",
       " array([  0. ,  14.9,  29.8,  44.7,  59.6,  74.5,  89.4, 104.3, 119.2,\n",
       "        134.1, 149. ]),\n",
       " <matplotlib.collections.QuadMesh at 0x7f182eadf7f0>)"
      ]
     },
     "execution_count": 62,
     "metadata": {},
     "output_type": "execute_result"
    },
    {
     "data": {
      "image/png": "[encoded data removed]",
      "text/plain": [
       "<Figure size 432x288 with 1 Axes>"
      ]
     },
     "metadata": {
      "needs_background": "light"
     },
     "output_type": "display_data"
    }
   ],
   "source": [
    "# Histograms of Allels\n",
    "n_bins = 25\n",
    "sums = haplotypeFF.sum(axis=0)\n",
    "indexes = range(0,150)\n",
    "plt.hist2d(sums,indexes)"
   ]
  }
 ],
 "metadata": {
  "kernelspec": {
   "display_name": "Python 3",
   "language": "python",
   "name": "python3"
  },
  "language_info": {
   "codemirror_mode": {
    "name": "ipython",
    "version": 3
   },
   "file_extension": ".py",
   "mimetype": "text/x-python",
   "name": "python",
   "nbconvert_exporter": "python",
   "pygments_lexer": "ipython3",
   "version": "3.7.0"
  }
 },
 "nbformat": 4,
 "nbformat_minor": 5
}
