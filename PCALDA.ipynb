{
 "cells": [
  {
   "cell_type": "code",
   "execution_count": 1,
   "id": "fed73725",
   "metadata": {},
   "outputs": [
    {
     "name": "stderr",
     "output_type": "stream",
     "text": [
      "Loading required package: compiler\n",
      "Loading required package: RSpectra\n",
      "Loading required package: MASS\n",
      "Loading required package: nnet\n"
     ]
    }
   ],
   "source": [
    "# PCA AND LDA SCRIPT\n",
    "require(compiler)\n",
    "require(RSpectra)\n",
    "require(MASS)\n",
    "require(nnet)\n",
    "setMKLthreads(16)\n",
    "#setwd('ag1000g_phase2/learning')"
   ]
  },
  {
   "cell_type": "code",
   "execution_count": 2,
   "id": "7f9fd60c",
   "metadata": {},
   "outputs": [
    {
     "data": {
      "text/html": [
       "<ol class=list-inline>\n",
       "\t<li>'haplotype'</li>\n",
       "\t<li>'label'</li>\n",
       "\t<li>'POS'</li>\n",
       "</ol>\n"
      ],
      "text/latex": [
       "\\begin{enumerate*}\n",
       "\\item 'haplotype'\n",
       "\\item 'label'\n",
       "\\item 'POS'\n",
       "\\end{enumerate*}\n"
      ],
      "text/markdown": [
       "1. 'haplotype'\n",
       "2. 'label'\n",
       "3. 'POS'\n",
       "\n",
       "\n"
      ],
      "text/plain": [
       "[1] \"haplotype\" \"label\"     \"POS\"      "
      ]
     },
     "metadata": {},
     "output_type": "display_data"
    }
   ],
   "source": [
    "load('Haplotype_16Filtered.RData')\n",
    "ls()\n",
    "# HAPLOTYPE ALREADY MAF FILTERED AND LD PRUNNED"
   ]
  },
  {
   "cell_type": "code",
   "execution_count": 3,
   "id": "5743315a",
   "metadata": {},
   "outputs": [
    {
     "data": {
      "text/html": [
       "<ol class=list-inline>\n",
       "\t<li>1142</li>\n",
       "\t<li>117461</li>\n",
       "</ol>\n"
      ],
      "text/latex": [
       "\\begin{enumerate*}\n",
       "\\item 1142\n",
       "\\item 117461\n",
       "\\end{enumerate*}\n"
      ],
      "text/markdown": [
       "1. 1142\n",
       "2. 117461\n",
       "\n",
       "\n"
      ],
      "text/plain": [
       "[1]   1142 117461"
      ]
     },
     "metadata": {},
     "output_type": "display_data"
    },
    {
     "data": {
      "text/html": [
       "1142"
      ],
      "text/latex": [
       "1142"
      ],
      "text/markdown": [
       "1142"
      ],
      "text/plain": [
       "[1] 1142"
      ]
     },
     "metadata": {},
     "output_type": "display_data"
    }
   ],
   "source": [
    "# GET GENOTYPE, ITS LABEL, AND COLOUR CODE\n",
    "odd<-seq(1, nrow(haplotype), 2)\n",
    "even<-seq(2, nrow(haplotype), 2)\n",
    "mode(haplotype)<-'numeric'\n",
    "genotype<-haplotype[odd,]+haplotype[even,]\n",
    "genotype_label<-label[odd]\n",
    "genotype_col<-colors()[as.numeric(factor(genotype_label))*4]\n",
    "dim(genotype)\n",
    "length(genotype_label)"
   ]
  },
  {
   "cell_type": "code",
   "execution_count": 4,
   "id": "48da8f30",
   "metadata": {},
   "outputs": [
    {
     "data": {
      "text/html": [
       "<ol class=list-inline>\n",
       "\t<li>1117</li>\n",
       "\t<li>117461</li>\n",
       "</ol>\n"
      ],
      "text/latex": [
       "\\begin{enumerate*}\n",
       "\\item 1117\n",
       "\\item 117461\n",
       "\\end{enumerate*}\n"
      ],
      "text/markdown": [
       "1. 1117\n",
       "2. 117461\n",
       "\n",
       "\n"
      ],
      "text/plain": [
       "[1]   1117 117461"
      ]
     },
     "metadata": {},
     "output_type": "display_data"
    },
    {
     "data": {
      "text/html": [
       "1117"
      ],
      "text/latex": [
       "1117"
      ],
      "text/markdown": [
       "1117"
      ],
      "text/plain": [
       "[1] 1117"
      ]
     },
     "metadata": {},
     "output_type": "display_data"
    },
    {
     "data": {
      "text/html": [
       "1117"
      ],
      "text/latex": [
       "1117"
      ],
      "text/markdown": [
       "1117"
      ],
      "text/plain": [
       "[1] 1117"
      ]
     },
     "metadata": {},
     "output_type": "display_data"
    }
   ],
   "source": [
    "# REMOVE POPULATIONS GQgam, GHgam, GNcol BECAUSE OF SMALL POPULATION SIZE\n",
    "s<-!(genotype_label %in% c('GQgam', 'GHgam', 'GNcol'))\n",
    "genotype<-genotype[s,]\n",
    "genotype_label<-genotype_label[s]\n",
    "genotype_col<-genotype_col[s]\n",
    "dim(genotype)\n",
    "length(genotype_label)\n",
    "length(genotype_col)\n",
    "rm(s); invisible(gc());"
   ]
  },
  {
   "cell_type": "code",
   "execution_count": 5,
   "id": "e918b664",
   "metadata": {},
   "outputs": [
    {
     "data": {
      "text/html": [
       "0.0456580125335721"
      ],
      "text/latex": [
       "0.0456580125335721"
      ],
      "text/markdown": [
       "0.0456580125335721"
      ],
      "text/plain": [
       "[1] 0.04565801"
      ]
     },
     "metadata": {},
     "output_type": "display_data"
    },
    {
     "data": {
      "text/html": [
       "0.951208594449418"
      ],
      "text/latex": [
       "0.951208594449418"
      ],
      "text/markdown": [
       "0.951208594449418"
      ],
      "text/plain": [
       "[1] 0.9512086"
      ]
     },
     "metadata": {},
     "output_type": "display_data"
    },
    {
     "data": {
      "text/plain": [
       "   user  system elapsed \n",
       "  17.53    0.06    6.34 "
      ]
     },
     "metadata": {},
     "output_type": "display_data"
    },
    {
     "data": {
      "text/html": [
       "<ol class=list-inline>\n",
       "\t<li>1117</li>\n",
       "\t<li>1117</li>\n",
       "</ol>\n"
      ],
      "text/latex": [
       "\\begin{enumerate*}\n",
       "\\item 1117\n",
       "\\item 1117\n",
       "\\end{enumerate*}\n"
      ],
      "text/markdown": [
       "1. 1117\n",
       "2. 1117\n",
       "\n",
       "\n"
      ],
      "text/plain": [
       "[1] 1117 1117"
      ]
     },
     "metadata": {},
     "output_type": "display_data"
    }
   ],
   "source": [
    "# PATTERSON NORMALISATION\n",
    "allele_freq<-apply(genotype, 2, .Primitive('sum'))/(2*nrow(genotype))\n",
    "min(allele_freq); max(allele_freq);\n",
    "allele_freq<-matrix(allele_freq, nc=ncol(genotype), nr=nrow(genotype), byrow=T)\n",
    "normal_genotype<-(genotype-2*allele_freq)/sqrt(allele_freq*(1-allele_freq))\n",
    "system.time(x<-normal_genotype%*%t(normal_genotype))\n",
    "x<-x/nrow(normal_genotype)\n",
    "rm(allele_freq); invisible(gc());\n",
    "dim(x)"
   ]
  },
  {
   "cell_type": "code",
   "execution_count": 6,
   "id": "2042acfc",
   "metadata": {},
   "outputs": [
    {
     "data": {
      "text/plain": [
       "   user  system elapsed \n",
       "   5.28    0.00    0.36 "
      ]
     },
     "metadata": {},
     "output_type": "display_data"
    },
    {
     "data": {
      "image/png": "[encoded data removed]",
      "text/plain": [
       "Plot with title \"eigen(x)\""
      ]
     },
     "metadata": {},
     "output_type": "display_data"
    }
   ],
   "source": [
    "# PCA 1. USING eigen() ON x (COV) MATRIX\n",
    "system.time(e<-eigen(x))\n",
    "PC1<-x%*%e$vector[,1]\n",
    "PC2<-x%*%e$vector[,2]\n",
    "PC3<-x%*%e$vector[,3]\n",
    "PC4<-x%*%e$vector[,4]\n",
    "PC5<-x%*%e$vector[,5]\n",
    "PC6<-x%*%e$vector[,6]\n",
    "PC7<-x%*%e$vector[,7]\n",
    "PC8<-x%*%e$vector[,8]\n",
    "plot(PC1, PC2, col=genotype_col, main='eigen(x)')"
   ]
  },
  {
   "cell_type": "code",
   "execution_count": 7,
   "id": "f9a20262",
   "metadata": {},
   "outputs": [
    {
     "data": {
      "text/plain": [
       "   user  system elapsed \n",
       " 108.97    1.89   18.92 "
      ]
     },
     "metadata": {},
     "output_type": "display_data"
    },
    {
     "data": {
      "image/png": "[encoded data removed]",
      "text/plain": [
       "Plot with title \"prcomp(normal_genotype)\""
      ]
     },
     "metadata": {},
     "output_type": "display_data"
    }
   ],
   "source": [
    "# PCA 2. USING prcomp ON THE DATA MATRIX\n",
    "system.time(e<-prcomp(normal_genotype))\n",
    "PC1<-e$x[,1]\n",
    "PC2<-e$x[,2]\n",
    "# OR USE THE FIRST TWO COLUMNS OF normal_genotype%*%e$rotation\n",
    "plot(PC1, PC2, col=genotype_col, main='prcomp(normal_genotype)')"
   ]
  },
  {
   "cell_type": "code",
   "execution_count": 8,
   "id": "4210d6c4",
   "metadata": {},
   "outputs": [
    {
     "data": {
      "text/plain": [
       "   user  system elapsed \n",
       "   5.03    0.00    0.34 "
      ]
     },
     "metadata": {},
     "output_type": "display_data"
    },
    {
     "data": {
      "image/png": "[encoded data removed]",
      "text/plain": [
       "Plot with title \"prcomp(x)\""
      ]
     },
     "metadata": {},
     "output_type": "display_data"
    }
   ],
   "source": [
    "# PCA 3. USING prcomp() ON x\n",
    "system.time(e<-prcomp(x))\n",
    "PC1<-e$x[,1]\n",
    "PC2<-e$x[,2]\n",
    "plot(PC1, PC2, col=genotype_col, main='prcomp(x)')"
   ]
  },
  {
   "cell_type": "code",
   "execution_count": 9,
   "id": "67e64fa1",
   "metadata": {},
   "outputs": [
    {
     "data": {
      "text/plain": [
       "   user  system elapsed \n",
       "  88.72    9.21   39.80 "
      ]
     },
     "metadata": {},
     "output_type": "display_data"
    },
    {
     "data": {
      "image/png": "[encoded data removed]",
      "text/plain": [
       "Plot with title \"eigen(t(normal_genotype)%*%normal_genotype)\""
      ]
     },
     "metadata": {},
     "output_type": "display_data"
    }
   ],
   "source": [
    "# PCA 4. eigen() ON THE BIG LOCI*LOCI MATRIX. PERFORM ONLY DO ON A SUBSET OF 25,000 SNPS\n",
    "# eigs() IS A FASTER VERSION OF eigen() IF YOU DON'T NEED ALL COMPONENTS\n",
    "s<-sample(1:ncol(normal_genotype), size=25000)\n",
    "s<-sort(s)\n",
    "system.time(e<-eigs(t(normal_genotype[,s])%*%normal_genotype[,s], 4))\n",
    "PC1<-normal_genotype[,s]%*%e$vector[,1]\n",
    "PC2<-normal_genotype[,s]%*%e$vector[,2]\n",
    "plot(PC1, PC2, col=genotype_col, main='eigen(t(normal_genotype)%*%normal_genotype)')"
   ]
  },
  {
   "cell_type": "code",
   "execution_count": 10,
   "id": "ed1f6435",
   "metadata": {},
   "outputs": [],
   "source": [
    "# SO ALL PCA PROCEDURES ARE EQUIVALENT. THERE ARE SOME SCALING ISSUES BUT DO NOT AFFECT THE OVERSALL SHAPE. \n",
    "rm(s); invisible(gc())"
   ]
  },
  {
   "cell_type": "code",
   "execution_count": 11,
   "id": "5f96b20d",
   "metadata": {},
   "outputs": [
    {
     "name": "stdout",
     "output_type": "stream",
     "text": [
      "[1] \"BFcol 75\"\n",
      "[1] \"BFgam 92\"\n",
      "[1] \"AOcol 78\"\n",
      "[1] \"CIcol 71\"\n",
      "[1] \"CMgam 297\"\n",
      "[1] \"FRgam 24\"\n",
      "[1] \"GAgam 69\"\n",
      "[1] \"GHcol 55\"\n",
      "[1] \"GM 65\"\n",
      "[1] \"GNgam 40\"\n",
      "[1] \"GW 91\"\n",
      "[1] \"KE 48\"\n",
      "[1] \"UGgam 112\"\n"
     ]
    }
   ],
   "source": [
    "#################################################\n",
    "# NOW TURN TO SUPERVISED LEARNING\n",
    "#################################################\n",
    "# CREATE TRAINING AND TESTING SET. 75:25, STRATEFIED\n",
    "train_genotype<-NULL\n",
    "train_label<-NULL\n",
    "train_col<-NULL\n",
    "test_genotype<-NULL\n",
    "test_label<-NULL\n",
    "test_col<-NULL\n",
    "\n",
    "set.seed(12345)\n",
    "pop<-unique(genotype_label)\n",
    "for (i in 1:length(pop))\n",
    "{\n",
    "\ttemp<-genotype[genotype_label==pop[i],]\n",
    "\ttemp1<-genotype_label[genotype_label==pop[i]]\n",
    "\ttemp2<-genotype_col[genotype_label==pop[i]]\n",
    "    print(paste(pop[i], nrow(temp)))\n",
    "\ts<-sample(nrow(temp), size=round(0.75*nrow(temp)))\n",
    "\ttrain_genotype<-rbind(train_genotype, temp[s,])\n",
    "\ttrain_label<-c(train_label, temp1[s])\n",
    "\ttrain_col<-c(train_col, temp2[s])\n",
    "\ttest_genotype<-rbind(test_genotype, temp[-s,])\n",
    "\ttest_label<-c(test_label, temp1[-s])\n",
    "\ttest_col<-c(test_col, temp2[-s])\n",
    "}\n",
    "rm(temp); rm(temp1); rm(s); invisible(gc()); "
   ]
  },
  {
   "cell_type": "code",
   "execution_count": 12,
   "id": "1942c9e0",
   "metadata": {},
   "outputs": [
    {
     "data": {
      "text/html": [
       "<ol class=list-inline>\n",
       "\t<li>837</li>\n",
       "\t<li>117461</li>\n",
       "</ol>\n"
      ],
      "text/latex": [
       "\\begin{enumerate*}\n",
       "\\item 837\n",
       "\\item 117461\n",
       "\\end{enumerate*}\n"
      ],
      "text/markdown": [
       "1. 837\n",
       "2. 117461\n",
       "\n",
       "\n"
      ],
      "text/plain": [
       "[1]    837 117461"
      ]
     },
     "metadata": {},
     "output_type": "display_data"
    },
    {
     "data": {
      "text/html": [
       "837"
      ],
      "text/latex": [
       "837"
      ],
      "text/markdown": [
       "837"
      ],
      "text/plain": [
       "[1] 837"
      ]
     },
     "metadata": {},
     "output_type": "display_data"
    },
    {
     "data": {
      "text/html": [
       "837"
      ],
      "text/latex": [
       "837"
      ],
      "text/markdown": [
       "837"
      ],
      "text/plain": [
       "[1] 837"
      ]
     },
     "metadata": {},
     "output_type": "display_data"
    },
    {
     "data": {
      "text/html": [
       "<ol class=list-inline>\n",
       "\t<li>280</li>\n",
       "\t<li>117461</li>\n",
       "</ol>\n"
      ],
      "text/latex": [
       "\\begin{enumerate*}\n",
       "\\item 280\n",
       "\\item 117461\n",
       "\\end{enumerate*}\n"
      ],
      "text/markdown": [
       "1. 280\n",
       "2. 117461\n",
       "\n",
       "\n"
      ],
      "text/plain": [
       "[1]    280 117461"
      ]
     },
     "metadata": {},
     "output_type": "display_data"
    },
    {
     "data": {
      "text/html": [
       "280"
      ],
      "text/latex": [
       "280"
      ],
      "text/markdown": [
       "280"
      ],
      "text/plain": [
       "[1] 280"
      ]
     },
     "metadata": {},
     "output_type": "display_data"
    },
    {
     "data": {
      "text/html": [
       "280"
      ],
      "text/latex": [
       "280"
      ],
      "text/markdown": [
       "280"
      ],
      "text/plain": [
       "[1] 280"
      ]
     },
     "metadata": {},
     "output_type": "display_data"
    }
   ],
   "source": [
    "# CHECK DIMENSIONS\n",
    "dim(train_genotype); length(train_label); length(train_col); \n",
    "dim(test_genotype); length(test_label); length(test_col);"
   ]
  },
  {
   "cell_type": "code",
   "execution_count": 13,
   "id": "02bfe2ea",
   "metadata": {},
   "outputs": [
    {
     "data": {
      "text/plain": [
       "   user  system elapsed \n",
       "  67.19    1.61   10.73 "
      ]
     },
     "metadata": {},
     "output_type": "display_data"
    }
   ],
   "source": [
    "# REPEAT PATTERSON'S NORMALISATION AND PCA BUT ONLY ON THE TRAINING SET\n",
    "allele_freq<-apply(train_genotype, 2, .Primitive('sum'))/(2*nrow(train_genotype))\n",
    "allele_freq2<-matrix(allele_freq, nc=ncol(train_genotype), nr=nrow(train_genotype), byrow=T)\n",
    "normal_train_genotype<-(train_genotype-2*allele_freq2)/sqrt(allele_freq2*(1-allele_freq2))\n",
    "system.time(e<-prcomp(normal_train_genotype))"
   ]
  },
  {
   "cell_type": "code",
   "execution_count": 14,
   "id": "2d3c3aff",
   "metadata": {},
   "outputs": [
    {
     "data": {
      "text/html": [
       "<ol class=list-inline>\n",
       "\t<li>837</li>\n",
       "\t<li>50</li>\n",
       "</ol>\n"
      ],
      "text/latex": [
       "\\begin{enumerate*}\n",
       "\\item 837\n",
       "\\item 50\n",
       "\\end{enumerate*}\n"
      ],
      "text/markdown": [
       "1. 837\n",
       "2. 50\n",
       "\n",
       "\n"
      ],
      "text/plain": [
       "[1] 837  50"
      ]
     },
     "metadata": {},
     "output_type": "display_data"
    }
   ],
   "source": [
    "# USE FIRST n COMPONENTS AS FEATURES. n=50, SAY. \n",
    "n<-50\n",
    "train_feature<-normal_train_genotype%*%e$rotation[,1:n]\n",
    "# THESE FEATURES HAVE MEAN ABOUT ZERO\n",
    "#apply(train_feature, 2, mean)\n",
    "dim(train_feature)"
   ]
  },
  {
   "cell_type": "code",
   "execution_count": 15,
   "id": "a4ae08ad",
   "metadata": {},
   "outputs": [
    {
     "data": {
      "image/png": "[encoded data removed]",
      "text/plain": [
       "Plot with title \"LDA first 2 components (out of 12)\""
      ]
     },
     "metadata": {},
     "output_type": "display_data"
    }
   ],
   "source": [
    "# LDA USING train_feature AND A UNIFORM PRIOR\n",
    "# THERE WILL BE 12 LD COMPONENTS AS THERE ARE 13 CLASSES (POPULATIONS)\n",
    "m_lda<-lda(train_feature, grouping=train_label, prior=rep(1/length(pop), length(pop)))\n",
    "LD1_train<-train_feature%*%m_lda$scaling[,1]\n",
    "LD2_train<-train_feature%*%m_lda$scaling[,2]\n",
    "LD3_train<-train_feature%*%m_lda$scaling[,3]\n",
    "LD4_train<-train_feature%*%m_lda$scaling[,4]\n",
    "LD5_train<-train_feature%*%m_lda$scaling[,5]\n",
    "LD6_train<-train_feature%*%m_lda$scaling[,6]\n",
    "LD7_train<-train_feature%*%m_lda$scaling[,7]\n",
    "LD8_train<-train_feature%*%m_lda$scaling[,8]\n",
    "plot(LD1_train, LD2_train, col=train_col, \n",
    "\txlab='LD1', ylab='LD2', main='LDA first 2 components (out of 12)')\n"
   ]
  },
  {
   "cell_type": "code",
   "execution_count": 16,
   "id": "9f36d9cf",
   "metadata": {},
   "outputs": [
    {
     "data": {
      "text/html": [
       "<ol class=list-inline>\n",
       "\t<li>280</li>\n",
       "\t<li>50</li>\n",
       "</ol>\n"
      ],
      "text/latex": [
       "\\begin{enumerate*}\n",
       "\\item 280\n",
       "\\item 50\n",
       "\\end{enumerate*}\n"
      ],
      "text/markdown": [
       "1. 280\n",
       "2. 50\n",
       "\n",
       "\n"
      ],
      "text/plain": [
       "[1] 280  50"
      ]
     },
     "metadata": {},
     "output_type": "display_data"
    }
   ],
   "source": [
    "# NOW TURN TO THE TEST SET. FIRST NORMALISE IT VIA THE SAME PATTERSON FORMULA AND allele_freq\n",
    "# THEN CREATE test_feature USING THE SAME PCA ROTATION\n",
    "allele_freq2<-matrix(allele_freq, nc=ncol(test_genotype), nr=nrow(test_genotype), byrow=T)\n",
    "normal_test_genotype<-(test_genotype-2*allele_freq2)/sqrt(allele_freq2*(1-allele_freq))\n",
    "test_feature<-normal_test_genotype%*%e$rotation[,1:n]\n",
    "dim(test_feature)"
   ]
  },
  {
   "cell_type": "code",
   "execution_count": 17,
   "id": "7a85df42",
   "metadata": {},
   "outputs": [
    {
     "data": {
      "text/html": [
       "0.9"
      ],
      "text/latex": [
       "0.9"
      ],
      "text/markdown": [
       "0.9"
      ],
      "text/plain": [
       "[1] 0.9"
      ]
     },
     "metadata": {},
     "output_type": "display_data"
    }
   ],
   "source": [
    "# FIT? PREDICT? USING THE EXISTING LDA MODEL. ACCURACY AND PLOT\n",
    "result_lda<-predict(m_lda, test_feature)$class\n",
    "result_lda<-as.character(result_lda)\n",
    "# ACCURACY\n",
    "sum(result_lda==test_label)/length(test_label)"
   ]
  },
  {
   "cell_type": "code",
   "execution_count": 18,
   "id": "a8db741d",
   "metadata": {},
   "outputs": [
    {
     "data": {
      "image/png": "[encoded data removed]",
      "text/plain": [
       "Plot with title \"LDA 7-8 components (out of 12)\""
      ]
     },
     "metadata": {},
     "output_type": "display_data"
    }
   ],
   "source": [
    "# PLOT THE LD COMPONENTS\n",
    "LD1_test<-test_feature%*%m_lda$scaling[,1]\n",
    "LD2_test<-test_feature%*%m_lda$scaling[,2]\n",
    "LD3_test<-test_feature%*%m_lda$scaling[,3]\n",
    "LD4_test<-test_feature%*%m_lda$scaling[,4]\n",
    "LD5_test<-test_feature%*%m_lda$scaling[,5]\n",
    "LD6_test<-test_feature%*%m_lda$scaling[,6]\n",
    "LD7_test<-test_feature%*%m_lda$scaling[,7]\n",
    "LD8_test<-test_feature%*%m_lda$scaling[,8]\n",
    "# PLOTS\n",
    "par(mfrow=c(2,2))\n",
    "plot(LD1_train, LD2_train, col=train_col, \n",
    "\txlab='LD1', ylab='LD2', main='LDA first 2 components (out of 12)')\n",
    "points(LD1_test, LD2_test, col=test_col, pch=3)\n",
    "legend('topleft', legend=c('train', 'test'), pch=c(1,3))\n",
    "plot(LD3_train, LD4_train, col=train_col, \n",
    "\txlab='LD3', ylab='LD4', main='LDA 3-4 components (out of 12)')\n",
    "points(LD3_test, LD4_test, col=test_col, pch=3)\n",
    "legend('topleft', legend=c('train', 'test'), pch=c(1,3))\n",
    "plot(LD5_train, LD6_train, col=train_col, \n",
    "\txlab='LD5', ylab='LD6', main='LDA 5-6 components (out of 12)')\n",
    "points(LD5_test, LD6_test, col=test_col, pch=3)\n",
    "legend('topleft', legend=c('train', 'test'), pch=c(1,3))\n",
    "plot(LD7_train, LD8_train, col=train_col, \n",
    "\txlab='LD7', ylab='LD8', main='LDA 7-8 components (out of 12)')\n",
    "points(LD7_test, LD8_test, col=test_col, pch=3)\n",
    "legend('topleft', legend=c('train', 'test'), pch=c(1,3))"
   ]
  },
  {
   "cell_type": "code",
   "execution_count": 19,
   "id": "0a5ad70b",
   "metadata": {},
   "outputs": [
    {
     "data": {
      "image/png": "[encoded data removed]",
      "text/plain": [
       "plot without title"
      ]
     },
     "metadata": {},
     "output_type": "display_data"
    }
   ],
   "source": [
    "# WHICH LOCI CONTRIBUTE MOST TO THE DISCRIMINANT ANALYSIS?\n",
    "# LD1 IS A LINEAR COMBINATION OF PC1-PC50, AND PC1-PC50 ARE LINEAR COMBINATIONS OF SNPS\n",
    "# NOTE THAT LDA1_train<-train_feature%*%m_lda$scaling[,1]\n",
    "# AND THAT train_feature<-train_normal_genotype%*%e$rotation[,1:n]\n",
    "# THEN I GUESS YOU CAN PICK (BY EYEBALL OR OTHERWISE) THE SNPS WITH THE MOST EXTREME WEIGHTS\n",
    "plot(e$rotation[,1:n]%*%m_lda$scaling[,1], ylab='SNP contribution(? weight?) to LD1', xlab='SNP order 1:117461')\n",
    "invisible(gc())"
   ]
  },
  {
   "cell_type": "code",
   "execution_count": 20,
   "id": "7b510a40",
   "metadata": {},
   "outputs": [
    {
     "name": "stdout",
     "output_type": "stream",
     "text": [
      "# weights:  676 (612 variable)\n",
      "initial  value 2146.862612 \n",
      "iter  10 value 60.371696\n",
      "iter  20 value 50.931941\n",
      "iter  30 value 48.163214\n",
      "iter  40 value 46.395027\n",
      "iter  50 value 44.725102\n",
      "iter  60 value 42.235899\n",
      "iter  70 value 38.638564\n",
      "iter  80 value 35.005933\n",
      "iter  90 value 33.660933\n",
      "iter 100 value 31.657616\n",
      "final  value 31.657616 \n",
      "stopped after 100 iterations\n"
     ]
    }
   ],
   "source": [
    "# HOW ABOUT USING LOGISTIC REGRESSION AS OUR CLASSIFIER? USE muiltinom() FROM PAKAGE nnet. \n",
    "# BUT WE NEED TO PUT train_label AND train_feature INTO A DATA FRAME. \n",
    "train_df<-data.frame(train_label=train_label, train_feature=train_feature)\n",
    "m_lr<-multinom(train_label~., data=train_df)"
   ]
  },
  {
   "cell_type": "code",
   "execution_count": 21,
   "id": "3b8dcc3c",
   "metadata": {},
   "outputs": [
    {
     "data": {
      "text/html": [
       "0.903571428571429"
      ],
      "text/latex": [
       "0.903571428571429"
      ],
      "text/markdown": [
       "0.903571428571429"
      ],
      "text/plain": [
       "[1] 0.9035714"
      ]
     },
     "metadata": {},
     "output_type": "display_data"
    }
   ],
   "source": [
    "# PREDICT WITH OUT TEST SET\n",
    "test_df<-data.frame(test_feature=test_feature)\n",
    "# SOMEHOW I NEED TO SET THE COLUMN NAMES OF test_df TO THOSE OF train_df\n",
    "names(test_df)<-names(train_df)[-1]\n",
    "# PUT THE test_df TO TEST THE ALGORITHM\n",
    "result_lr<-predict(m_lr, test_df, type='class')\n",
    "result_lr<-as.character(result_lr)\n",
    "# ACCURACY\n",
    "sum(result_lr==test_label)/length(test_label)"
   ]
  },
  {
   "cell_type": "code",
   "execution_count": null,
   "id": "56a97634",
   "metadata": {},
   "outputs": [],
   "source": []
  }
 ],
 "metadata": {
  "kernelspec": {
   "display_name": "R",
   "language": "R",
   "name": "ir"
  },
  "language_info": {
   "codemirror_mode": "r",
   "file_extension": ".r",
   "mimetype": "text/x-r-source",
   "name": "R",
   "pygments_lexer": "r",
   "version": "3.5.3"
  }
 },
 "nbformat": 4,
 "nbformat_minor": 5
}
