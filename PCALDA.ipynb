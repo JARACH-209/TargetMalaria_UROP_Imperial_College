{
 "cells": [
  {
   "cell_type": "code",
   "execution_count": 1,
   "id": "fed73725",
   "metadata": {
    "scrolled": true
   },
   "outputs": [
    {
     "name": "stderr",
     "output_type": "stream",
     "text": [
      "Loading required package: compiler\n",
      "Loading required package: RSpectra\n",
      "Loading required package: MASS\n",
      "Loading required package: nnet\n"
     ]
    }
   ],
   "source": [
    "# PCA AND LDA SCRIPT\n",
    "require(compiler)\n",
    "require(RSpectra)\n",
    "require(MASS)\n",
    "require(nnet)\n",
    "setMKLthreads(16)\n",
    "#setwd('ag1000g_phase2/learning')"
   ]
  },
  {
   "cell_type": "code",
   "execution_count": 2,
   "id": "7f9fd60c",
   "metadata": {},
   "outputs": [
    {
     "data": {
      "text/html": [
       "<ol class=list-inline>\n",
       "\t<li>'haplotype'</li>\n",
       "\t<li>'label'</li>\n",
       "\t<li>'POS'</li>\n",
       "</ol>\n"
      ],
      "text/latex": [
       "\\begin{enumerate*}\n",
       "\\item 'haplotype'\n",
       "\\item 'label'\n",
       "\\item 'POS'\n",
       "\\end{enumerate*}\n"
      ],
      "text/markdown": [
       "1. 'haplotype'\n",
       "2. 'label'\n",
       "3. 'POS'\n",
       "\n",
       "\n"
      ],
      "text/plain": [
       "[1] \"haplotype\" \"label\"     \"POS\"      "
      ]
     },
     "metadata": {},
     "output_type": "display_data"
    }
   ],
   "source": [
    "load('Haplotype_16Filtered.RData')\n",
    "ls()\n",
    "# HAPLOTYPE ALREADY MAF FILTERED AND LD PRUNNED"
   ]
  },
  {
   "cell_type": "code",
   "execution_count": 3,
   "id": "5743315a",
   "metadata": {},
   "outputs": [
    {
     "data": {
      "text/html": [
       "<ol class=list-inline>\n",
       "\t<li>1142</li>\n",
       "\t<li>117461</li>\n",
       "</ol>\n"
      ],
      "text/latex": [
       "\\begin{enumerate*}\n",
       "\\item 1142\n",
       "\\item 117461\n",
       "\\end{enumerate*}\n"
      ],
      "text/markdown": [
       "1. 1142\n",
       "2. 117461\n",
       "\n",
       "\n"
      ],
      "text/plain": [
       "[1]   1142 117461"
      ]
     },
     "metadata": {},
     "output_type": "display_data"
    },
    {
     "data": {
      "text/html": [
       "1142"
      ],
      "text/latex": [
       "1142"
      ],
      "text/markdown": [
       "1142"
      ],
      "text/plain": [
       "[1] 1142"
      ]
     },
     "metadata": {},
     "output_type": "display_data"
    }
   ],
   "source": [
    "# GET GENOTYPE, ITS LABEL, AND COLOUR CODE\n",
    "odd<-seq(1, nrow(haplotype), 2)\n",
    "even<-seq(2, nrow(haplotype), 2)\n",
    "mode(haplotype)<-'numeric'\n",
    "genotype<-haplotype[odd,]+haplotype[even,]\n",
    "genotype_label<-label[odd]\n",
    "genotype_col<-colors()[as.numeric(factor(genotype_label))*4]\n",
    "dim(genotype)\n",
    "length(genotype_label)\n",
    "rm(odd); rm(even);"
   ]
  },
  {
   "cell_type": "code",
   "execution_count": 4,
   "id": "48da8f30",
   "metadata": {},
   "outputs": [
    {
     "data": {
      "text/html": [
       "<ol class=list-inline>\n",
       "\t<li>1117</li>\n",
       "\t<li>117461</li>\n",
       "</ol>\n"
      ],
      "text/latex": [
       "\\begin{enumerate*}\n",
       "\\item 1117\n",
       "\\item 117461\n",
       "\\end{enumerate*}\n"
      ],
      "text/markdown": [
       "1. 1117\n",
       "2. 117461\n",
       "\n",
       "\n"
      ],
      "text/plain": [
       "[1]   1117 117461"
      ]
     },
     "metadata": {},
     "output_type": "display_data"
    },
    {
     "data": {
      "text/html": [
       "1117"
      ],
      "text/latex": [
       "1117"
      ],
      "text/markdown": [
       "1117"
      ],
      "text/plain": [
       "[1] 1117"
      ]
     },
     "metadata": {},
     "output_type": "display_data"
    },
    {
     "data": {
      "text/html": [
       "1117"
      ],
      "text/latex": [
       "1117"
      ],
      "text/markdown": [
       "1117"
      ],
      "text/plain": [
       "[1] 1117"
      ]
     },
     "metadata": {},
     "output_type": "display_data"
    }
   ],
   "source": [
    "# REMOVE POPULATIONS GQgam, GHgam, GNcol BECAUSE OF SMALL SAMPLE SIZE\n",
    "s<-!(genotype_label %in% c('GQgam', 'GHgam', 'GNcol'))\n",
    "genotype<-genotype[s,]\n",
    "genotype_label<-genotype_label[s]\n",
    "genotype_col<-genotype_col[s]\n",
    "dim(genotype)\n",
    "length(genotype_label)\n",
    "length(genotype_col)\n",
    "rm(s);"
   ]
  },
  {
   "cell_type": "code",
   "execution_count": 5,
   "id": "e918b664",
   "metadata": {},
   "outputs": [
    {
     "data": {
      "text/html": [
       "0.0456580125335721"
      ],
      "text/latex": [
       "0.0456580125335721"
      ],
      "text/markdown": [
       "0.0456580125335721"
      ],
      "text/plain": [
       "[1] 0.04565801"
      ]
     },
     "metadata": {},
     "output_type": "display_data"
    },
    {
     "data": {
      "text/html": [
       "0.951208594449418"
      ],
      "text/latex": [
       "0.951208594449418"
      ],
      "text/markdown": [
       "0.951208594449418"
      ],
      "text/plain": [
       "[1] 0.9512086"
      ]
     },
     "metadata": {},
     "output_type": "display_data"
    },
    {
     "data": {
      "text/plain": [
       "   user  system elapsed \n",
       "  16.22    0.08    5.28 "
      ]
     },
     "metadata": {},
     "output_type": "display_data"
    },
    {
     "data": {
      "text/html": [
       "<ol class=list-inline>\n",
       "\t<li>1117</li>\n",
       "\t<li>1117</li>\n",
       "</ol>\n"
      ],
      "text/latex": [
       "\\begin{enumerate*}\n",
       "\\item 1117\n",
       "\\item 1117\n",
       "\\end{enumerate*}\n"
      ],
      "text/markdown": [
       "1. 1117\n",
       "2. 1117\n",
       "\n",
       "\n"
      ],
      "text/plain": [
       "[1] 1117 1117"
      ]
     },
     "metadata": {},
     "output_type": "display_data"
    }
   ],
   "source": [
    "# PATTERSON ET AL. (2006) NORMALISATION. \n",
    "allele_freq<-apply(genotype, 2, .Primitive('sum'))/(2*nrow(genotype))\n",
    "min(allele_freq); max(allele_freq);\n",
    "allele_freq<-matrix(allele_freq, nc=ncol(genotype), nr=nrow(genotype), byrow=T)\n",
    "normal_genotype<-(genotype-2*allele_freq)/sqrt(allele_freq*(1-allele_freq))\n",
    "system.time(x<-normal_genotype%*%t(normal_genotype))\n",
    "# I DON'T KNOW IF THIS STEP IS NECESSARY, NOR DO I KNOW WHAT THE DENOMINATOR SHOULD BE. \n",
    "# x IS SOME KIND OF COVARIANCE MATRIX?\n",
    "x<-x/nrow(normal_genotype)\n",
    "dim(x)\n",
    "rm(allele_freq); invisible(gc());"
   ]
  },
  {
   "cell_type": "code",
   "execution_count": 6,
   "id": "2042acfc",
   "metadata": {},
   "outputs": [
    {
     "data": {
      "text/plain": [
       "   user  system elapsed \n",
       "   5.05    0.00    0.36 "
      ]
     },
     "metadata": {},
     "output_type": "display_data"
    },
    {
     "data": {
      "image/png": "[encoded data removed]",
      "text/plain": [
       "Plot with title \"eigen(x)\""
      ]
     },
     "metadata": {},
     "output_type": "display_data"
    }
   ],
   "source": [
    "# I'M GOING TO TRY FOUR DIFFERENT WAYS TO RUN PCA. \n",
    "# PCA 1. USING eigen() ON x (COV) MATRIX\n",
    "system.time(e<-eigen(x))\n",
    "PC1<-x%*%e$vector[,1]\n",
    "PC2<-x%*%e$vector[,2]\n",
    "plot(PC1, PC2, col=genotype_col, main='eigen(x)')"
   ]
  },
  {
   "cell_type": "code",
   "execution_count": 7,
   "id": "f9a20262",
   "metadata": {},
   "outputs": [
    {
     "data": {
      "text/plain": [
       "   user  system elapsed \n",
       " 110.30    2.06   18.96 "
      ]
     },
     "metadata": {},
     "output_type": "display_data"
    },
    {
     "data": {
      "image/png": "[encoded data removed]",
      "text/plain": [
       "Plot with title \"prcomp(normal_genotype)\""
      ]
     },
     "metadata": {},
     "output_type": "display_data"
    }
   ],
   "source": [
    "# PCA 2. USING prcomp ON THE DATA MATRIX\n",
    "system.time(e<-prcomp(normal_genotype))\n",
    "PC1<-e$x[,1]\n",
    "PC2<-e$x[,2]\n",
    "# OR USE THE FIRST TWO COLUMNS OF normal_genotype%*%e$rotation\n",
    "plot(PC1, PC2, col=genotype_col, main='prcomp(normal_genotype)')"
   ]
  },
  {
   "cell_type": "code",
   "execution_count": 8,
   "id": "4210d6c4",
   "metadata": {},
   "outputs": [
    {
     "data": {
      "text/plain": [
       "   user  system elapsed \n",
       "   5.03    0.00    0.34 "
      ]
     },
     "metadata": {},
     "output_type": "display_data"
    },
    {
     "data": {
      "image/png": "[encoded data removed]",
      "text/plain": [
       "Plot with title \"prcomp(x)\""
      ]
     },
     "metadata": {},
     "output_type": "display_data"
    }
   ],
   "source": [
    "# PCA 3. USING prcomp() ON x\n",
    "system.time(e<-prcomp(x))\n",
    "PC1<-e$x[,1]\n",
    "PC2<-e$x[,2]\n",
    "plot(PC1, PC2, col=genotype_col, main='prcomp(x)')"
   ]
  },
  {
   "cell_type": "code",
   "execution_count": 9,
   "id": "67e64fa1",
   "metadata": {},
   "outputs": [
    {
     "data": {
      "text/plain": [
       "   user  system elapsed \n",
       "  37.99    5.29    3.44 "
      ]
     },
     "metadata": {},
     "output_type": "display_data"
    },
    {
     "data": {
      "text/plain": [
       "   user  system elapsed \n",
       "  45.00    3.78   34.96 "
      ]
     },
     "metadata": {},
     "output_type": "display_data"
    },
    {
     "data": {
      "image/png": "[encoded data removed]",
      "text/plain": [
       "Plot with title \"eigen(t(normal_genotype)%*%normal_genotype)\""
      ]
     },
     "metadata": {},
     "output_type": "display_data"
    }
   ],
   "source": [
    "# PCA 4. eigen() ON THE BIG LOCI*LOCI MATRIX. PERFORM ONLY DO ON A SUBSET OF 25,000 SNPS\n",
    "# eigs() IS A FASTER VERSION OF eigen() IF YOU DON'T NEED ALL EIGENVALUES AND VECTORS\n",
    "s<-sample(1:ncol(normal_genotype), size=25000)\n",
    "s<-sort(s)\n",
    "system.time(x<-t(normal_genotype[,s])%*%normal_genotype[,s])\n",
    "system.time(e<-eigs(x, 4))\n",
    "PC1<-normal_genotype[,s]%*%e$vector[,1]\n",
    "PC2<-normal_genotype[,s]%*%e$vector[,2]\n",
    "plot(PC1, PC2, col=genotype_col, main='eigen(t(normal_genotype)%*%normal_genotype)')"
   ]
  },
  {
   "cell_type": "code",
   "execution_count": 10,
   "id": "ed1f6435",
   "metadata": {},
   "outputs": [],
   "source": [
    "# SO ALL PCA PROCEDURES ARE EQUIVALENT. THERE ARE SOME SCALING ISSUES BUT DO NOT AFFECT THE OVERSALL SHAPE. \n",
    "rm(x); rm(s); invisible(gc())"
   ]
  },
  {
   "cell_type": "code",
   "execution_count": 7,
   "id": "5f96b20d",
   "metadata": {},
   "outputs": [
    {
     "name": "stdout",
     "output_type": "stream",
     "text": [
      "[1] \"BFcol 75\"\n",
      "[1] \"BFgam 92\"\n",
      "[1] \"AOcol 78\"\n",
      "[1] \"CIcol 71\"\n",
      "[1] \"CMgam 297\"\n",
      "[1] \"FRgam 24\"\n",
      "[1] \"GAgam 69\"\n",
      "[1] \"GHcol 55\"\n",
      "[1] \"GM 65\"\n",
      "[1] \"GNgam 40\"\n",
      "[1] \"GW 91\"\n",
      "[1] \"KE 48\"\n",
      "[1] \"UGgam 112\"\n"
     ]
    }
   ],
   "source": [
    "#################################################\n",
    "# NOW TURN TO SUPERVISED LEARNING\n",
    "#################################################\n",
    "# SPLIT THE DATA INTO TRAINING AND TESTING SET. 75:25, STRATEFIED\n",
    "train_genotype<-NULL\n",
    "train_label<-NULL\n",
    "train_col<-NULL\n",
    "test_genotype<-NULL\n",
    "test_label<-NULL\n",
    "test_col<-NULL\n",
    "\n",
    "set.seed(12345)\n",
    "pop<-unique(genotype_label)\n",
    "for (i in 1:length(pop))\n",
    "{\n",
    "\ttemp<-genotype[genotype_label==pop[i],]\n",
    "\ttemp1<-genotype_label[genotype_label==pop[i]]\n",
    "\ttemp2<-genotype_col[genotype_label==pop[i]]\n",
    "    print(paste(pop[i], nrow(temp)))\n",
    "\ts<-sample(nrow(temp), size=round(0.75*nrow(temp)))\n",
    "\ttrain_genotype<-rbind(train_genotype, temp[s,])\n",
    "\ttrain_label<-c(train_label, temp1[s])\n",
    "\ttrain_col<-c(train_col, temp2[s])\n",
    "\ttest_genotype<-rbind(test_genotype, temp[-s,])\n",
    "\ttest_label<-c(test_label, temp1[-s])\n",
    "\ttest_col<-c(test_col, temp2[-s])\n",
    "}\n",
    "rm(temp); rm(temp1); rm(temp2); rm(s); invisible(gc()); "
   ]
  },
  {
   "cell_type": "code",
   "execution_count": 8,
   "id": "1942c9e0",
   "metadata": {},
   "outputs": [
    {
     "data": {
      "text/html": [
       "<ol class=list-inline>\n",
       "\t<li>837</li>\n",
       "\t<li>117461</li>\n",
       "</ol>\n"
      ],
      "text/latex": [
       "\\begin{enumerate*}\n",
       "\\item 837\n",
       "\\item 117461\n",
       "\\end{enumerate*}\n"
      ],
      "text/markdown": [
       "1. 837\n",
       "2. 117461\n",
       "\n",
       "\n"
      ],
      "text/plain": [
       "[1]    837 117461"
      ]
     },
     "metadata": {},
     "output_type": "display_data"
    },
    {
     "data": {
      "text/html": [
       "837"
      ],
      "text/latex": [
       "837"
      ],
      "text/markdown": [
       "837"
      ],
      "text/plain": [
       "[1] 837"
      ]
     },
     "metadata": {},
     "output_type": "display_data"
    },
    {
     "data": {
      "text/html": [
       "837"
      ],
      "text/latex": [
       "837"
      ],
      "text/markdown": [
       "837"
      ],
      "text/plain": [
       "[1] 837"
      ]
     },
     "metadata": {},
     "output_type": "display_data"
    },
    {
     "data": {
      "text/html": [
       "<ol class=list-inline>\n",
       "\t<li>280</li>\n",
       "\t<li>117461</li>\n",
       "</ol>\n"
      ],
      "text/latex": [
       "\\begin{enumerate*}\n",
       "\\item 280\n",
       "\\item 117461\n",
       "\\end{enumerate*}\n"
      ],
      "text/markdown": [
       "1. 280\n",
       "2. 117461\n",
       "\n",
       "\n"
      ],
      "text/plain": [
       "[1]    280 117461"
      ]
     },
     "metadata": {},
     "output_type": "display_data"
    },
    {
     "data": {
      "text/html": [
       "280"
      ],
      "text/latex": [
       "280"
      ],
      "text/markdown": [
       "280"
      ],
      "text/plain": [
       "[1] 280"
      ]
     },
     "metadata": {},
     "output_type": "display_data"
    },
    {
     "data": {
      "text/html": [
       "280"
      ],
      "text/latex": [
       "280"
      ],
      "text/markdown": [
       "280"
      ],
      "text/plain": [
       "[1] 280"
      ]
     },
     "metadata": {},
     "output_type": "display_data"
    }
   ],
   "source": [
    "# CHECK DIMENSIONS. THE TRAINING SET HAS 837 INDIVIDUALS. \n",
    "dim(train_genotype); length(train_label); length(train_col); \n",
    "dim(test_genotype); length(test_label); length(test_col);"
   ]
  },
  {
   "cell_type": "code",
   "execution_count": 9,
   "id": "02bfe2ea",
   "metadata": {},
   "outputs": [],
   "source": [
    "# REPEAT PATTERSON'S NORMALISATION BUT ONLY ON THE TRAINING SET\n",
    "allele_freq<-apply(train_genotype, 2, .Primitive('sum'))/(2*nrow(train_genotype))\n",
    "allele_freq2<-matrix(allele_freq, nc=ncol(train_genotype), nr=nrow(train_genotype), byrow=T)\n",
    "normal_train_genotype<-(train_genotype-2*allele_freq2)/sqrt(allele_freq2*(1-allele_freq2))\n",
    "rm(allele_freq2); invisible(gc()); "
   ]
  },
  {
   "cell_type": "code",
   "execution_count": 10,
   "id": "2d3c3aff",
   "metadata": {},
   "outputs": [
    {
     "data": {
      "text/plain": [
       "   user  system elapsed \n",
       "  70.05    1.45   11.58 "
      ]
     },
     "metadata": {},
     "output_type": "display_data"
    },
    {
     "data": {
      "text/html": [
       "<ol class=list-inline>\n",
       "\t<li>837</li>\n",
       "\t<li>50</li>\n",
       "</ol>\n"
      ],
      "text/latex": [
       "\\begin{enumerate*}\n",
       "\\item 837\n",
       "\\item 50\n",
       "\\end{enumerate*}\n"
      ],
      "text/markdown": [
       "1. 837\n",
       "2. 50\n",
       "\n",
       "\n"
      ],
      "text/plain": [
       "[1] 837  50"
      ]
     },
     "metadata": {},
     "output_type": "display_data"
    }
   ],
   "source": [
    "# I DON'T WANT TO PUT 837 INDIVIDUALS AND 117461 LOCI TO TRAIN A CLASSIFIER. \n",
    "# I'D LIKE TO REDUCE THE DIMENSION OF THE DATA VIA PCA (ON THE TRAINING SET). \n",
    "# USE FIRST n COMPONENTS AS FEATURES (EXPLANATORY VARIABLES). n=50, SAY. \n",
    "system.time(e<-prcomp(normal_train_genotype))\n",
    "n<-50\n",
    "train_feature<-normal_train_genotype%*%e$rotation[,1:n]\n",
    "# THESE FEATURES HAVE MEAN ABOUT ZERO\n",
    "#apply(train_feature, 2, mean)\n",
    "dim(train_feature)"
   ]
  },
  {
   "cell_type": "code",
   "execution_count": 11,
   "id": "a4ae08ad",
   "metadata": {
    "scrolled": true
   },
   "outputs": [
    {
     "data": {
      "image/png": "[encoded data removed]",
      "text/plain": [
       "Plot with title \"LDA first 2 components (out of 12)\""
      ]
     },
     "metadata": {},
     "output_type": "display_data"
    }
   ],
   "source": [
    "# LINEAR DISCRIMINANT ANALYSIS (LDA) USING train_feature AND A UNIFORM PRIOR\n",
    "# THERE WILL BE 12 LD COMPONENTS AS THERE ARE 13 CLASSES (POPULATIONS)\n",
    "m_lda<-lda(train_feature, grouping=train_label, prior=rep(1/length(pop), length(pop)))\n",
    "LD1_train<-train_feature%*%m_lda$scaling[,1]\n",
    "LD2_train<-train_feature%*%m_lda$scaling[,2]\n",
    "LD3_train<-train_feature%*%m_lda$scaling[,3]\n",
    "LD4_train<-train_feature%*%m_lda$scaling[,4]\n",
    "LD5_train<-train_feature%*%m_lda$scaling[,5]\n",
    "LD6_train<-train_feature%*%m_lda$scaling[,6]\n",
    "LD7_train<-train_feature%*%m_lda$scaling[,7]\n",
    "LD8_train<-train_feature%*%m_lda$scaling[,8]\n",
    "plot(LD1_train, LD2_train, col=train_col, \n",
    "\txlab='LD1', ylab='LD2', main='LDA first 2 components (out of 12)')\n"
   ]
  },
  {
   "cell_type": "code",
   "execution_count": 12,
   "id": "1729cdc0",
   "metadata": {},
   "outputs": [
    {
     "data": {
      "text/plain": [
       "Call:\n",
       "lda(train_feature, grouping = train_label, prior = rep(1/length(pop), \n",
       "    length(pop)))\n",
       "\n",
       "Prior probabilities of groups:\n",
       "     AOcol      BFcol      BFgam      CIcol      CMgam      FRgam      GAgam \n",
       "0.07692308 0.07692308 0.07692308 0.07692308 0.07692308 0.07692308 0.07692308 \n",
       "     GHcol         GM      GNgam         GW         KE      UGgam \n",
       "0.07692308 0.07692308 0.07692308 0.07692308 0.07692308 0.07692308 \n",
       "\n",
       "Group means:\n",
       "              PC1       PC2        PC3       PC4          PC5         PC6\n",
       "AOcol -127.616891 234.22543   91.80308 -10.04141   13.2490949  -12.017912\n",
       "BFcol  -31.665709  19.93337  -78.85364  32.51937  -18.7813848   40.773017\n",
       "BFgam   -3.811088 -42.48525   20.64993 -28.40785   34.2473997   10.135660\n",
       "CIcol  -33.579103  22.05152 -102.34636  44.60508  -28.8857959   61.432884\n",
       "CMgam   -1.716333 -44.50229   26.48414 -29.91705   30.5126883    8.947737\n",
       "FRgam  124.923407 -41.47251  200.45042 346.43136   14.5282284   -0.203673\n",
       "GAgam    8.664319 -46.33531   87.34480 -43.48352 -182.3015651   -8.007218\n",
       "GHcol  -32.422485  22.81535  -99.65201  43.05727  -27.3657686   52.393709\n",
       "GM     -22.902989 -17.06067  -75.86444  24.51355   -0.7988369 -104.623791\n",
       "GNgam   -4.202460 -41.88793   20.14947 -27.93826   32.9407691    9.470724\n",
       "GW     -23.644176 -11.32125  -77.75784  26.76453   -4.4517901  -67.849800\n",
       "KE     341.925257 154.39065  -39.49516 -46.02080    1.6661332   -3.891496\n",
       "UGgam    9.255122 -41.54376   35.03217 -14.73015   27.1510453    3.944345\n",
       "              PC7         PC8        PC9         PC10          PC11        PC12\n",
       "AOcol   0.3893101   0.6123421  0.1480252  -0.09094976   0.053516148  -0.1218822\n",
       "BFcol   3.7120856  -1.8854558  0.4317940   0.23804553  -0.164155749   2.7467443\n",
       "BFgam  -3.9618424   2.6813822 -0.8044241   6.12520627 -18.196514497  14.5749414\n",
       "CIcol   9.1193747   0.2798138  1.8867037  -1.03003038   1.195012973  -1.4241732\n",
       "CMgam  -3.0557065  18.5665589 -0.9783045   2.10334475  -4.163140120  -0.2948942\n",
       "FRgam -13.6259433  12.4465007 -1.7796505   3.05049876  -7.010671282   3.9668846\n",
       "GAgam  -1.3419485   2.6326103 -0.6760504   1.37225316  -1.388895845   0.4174551\n",
       "GHcol   5.0805844  -0.2742522  0.3783357   1.29984053   0.887840001  -2.3491110\n",
       "GM     -2.4558526   4.3260840 -0.3642404  -0.30793478  -0.001682634  -0.8411881\n",
       "GNgam  -3.6170882   1.6088691 -1.1012598   4.80154303 -17.273200589  13.6681517\n",
       "GW      0.2602174   0.6502317 -0.1455194  -0.21811950   0.301057480  -0.1934417\n",
       "KE     -0.8043484   1.1991936 -3.7305865  -0.37757962  -0.110045557  -0.8417190\n",
       "UGgam   6.9983519 -59.1361640  4.6150538 -13.39572695  33.219931785 -15.8731587\n",
       "            PC13         PC14        PC15       PC16        PC17         PC18\n",
       "AOcol  0.2344042  -0.50076370   1.9237248 -0.1556721   0.6947037  -1.39686542\n",
       "BFcol -4.8983920  14.20506164 -60.0967003  4.3945667 -13.7213750  35.34759168\n",
       "BFgam -8.6717521   8.32984117   4.5343590 -4.0577285 -10.7684718  -2.23398648\n",
       "CIcol  4.0862397 -10.46147419  42.6692816 -2.1936545   5.6077008  -7.61151552\n",
       "CMgam -0.6924604  -1.72689587   0.5974025  2.3999366   2.7100691  -0.45809964\n",
       "FRgam  0.1025158   1.08116707   0.2175815 -0.4917059  -1.7416573  -0.64099038\n",
       "GAgam  0.2135254  -0.65603696  -0.1665364 -1.1816231  -1.6639380  -0.42974534\n",
       "GHcol  3.1341097  -2.99243016  17.4591518 -1.1668355   6.1336154 -12.08687823\n",
       "GM     0.8167639  -3.95199631  30.0538936  1.7282401  -7.8800210  49.59986832\n",
       "GNgam -8.5910107   8.69910671   4.1231894 -6.9705476  -6.5588836  -0.84343321\n",
       "GW    -0.8645748   2.12610861 -24.7087801 -1.6697787   8.5231139 -48.90937905\n",
       "KE    -3.7338520  -0.07366012   0.6014928  0.4207145  -0.2684806  -0.03763929\n",
       "UGgam 12.6950586  -5.63748499  -1.2214192 -0.4171239   5.3446745   2.53349406\n",
       "             PC19        PC20        PC21        PC22       PC23         PC24\n",
       "AOcol  0.04125359 -0.09754065 -0.04183178   0.0250377  0.1995541  -0.02225004\n",
       "BFcol -0.34011534  2.52021505 -1.01351153   2.3284227 -4.4416138   0.74252388\n",
       "BFgam -2.74078713 10.68889083  9.93426950 -11.8375956 18.3604744 -12.60713861\n",
       "CIcol  2.36432031  1.71261321 -1.21764549   7.7058930  2.7688743  -0.21300720\n",
       "CMgam  0.22635990 -4.21382921 -3.57350178   4.9437958 -7.2422322   5.35978676\n",
       "FRgam  4.53039387  0.89323031 -0.37405957  -0.4098021  0.2020057  -0.33000612\n",
       "GAgam  0.12380801  0.17162450  0.07139277  -0.4479572  1.1454512   0.27671364\n",
       "GHcol -1.06836601 -3.89072915  1.53484869 -11.5715006 -1.3804909   0.54447752\n",
       "GM     1.10599986  5.12278100  0.01322604   2.3234609 -1.5482368  -0.15549349\n",
       "GNgam -2.57667077 10.76825316  9.46360282  -9.7877182 16.2738460  -9.50792406\n",
       "GW    -1.38839833 -5.37223683 -0.21954018  -1.7309997  2.0166408  -0.18691868\n",
       "KE    -8.22053633 -0.85714774  2.01201200   1.4149053  0.6748416   0.54902618\n",
       "UGgam  4.75303872 -0.80321315 -1.98599534  -0.8842078 -1.6884065  -1.18227955\n",
       "              PC25        PC26        PC27         PC28        PC29       PC30\n",
       "AOcol  -0.13567399  0.14202308  -0.1198487   0.12059225 -0.07034955 -0.1311847\n",
       "BFcol  -1.55552873 -2.04993736  -6.4339196   5.96140497  0.64243571  1.8092880\n",
       "BFgam  -8.10468439 -3.97954965   5.3388358  -0.27485719 -1.91550342  4.5316904\n",
       "CIcol -14.71782812 -3.31960291 -30.3260340  26.00549972  2.79876669  4.9602980\n",
       "CMgam   4.47037169  2.97068182  -2.7747103  -0.18637224  0.34522499 -2.5835998\n",
       "FRgam  -0.09881468 -0.09028275   0.3165145   0.43145385  0.13203348 -0.1830324\n",
       "GAgam  -0.27507751 -0.62649061   0.2386898  -0.16352507 -0.27363957  0.4567981\n",
       "GHcol  24.17106441  6.73430961  50.1196767 -44.58574013 -4.63375003 -9.3651475\n",
       "GM      2.68776668 -1.08916174   3.4650238  -4.46477061  0.07759456  0.6359901\n",
       "GNgam -10.24917842 -3.40232013   4.0029435  -0.33440861  4.01356513  3.3532463\n",
       "GW     -3.60477666  0.81974248  -4.6300796   5.51867168 -0.04131002 -0.3916474\n",
       "KE      0.01198761  0.64409310  -0.5649780  -0.04279495  0.51750805  0.1727368\n",
       "UGgam  -1.39415446 -3.22345734   2.3476847   0.30037003 -0.75285818  1.8930193\n",
       "             PC31        PC32        PC33        PC34        PC35        PC36\n",
       "AOcol -0.06453694 -0.01336917 -0.01402820 -0.03542302 -0.04923172  0.03207205\n",
       "BFcol  4.59276126  0.66230303 -0.95066264  1.70928375  1.30720263 -0.07022267\n",
       "BFgam -1.61272386  5.88774078  8.64725787 -4.69351674 -9.28111702 -0.20857738\n",
       "CIcol  0.15675008 -0.60997082  0.04215109 -0.45422985 -1.12266946 -0.06118661\n",
       "CMgam  0.19457105 -3.01827413 -2.47839663  1.67150238  3.88810676  0.68673852\n",
       "FRgam  0.41789583  0.03567958  0.04022450  0.19626367 -0.04568448 -0.11094225\n",
       "GAgam  0.13557570 -0.05208514 -0.08556988  0.34534778 -0.75178414  0.21587848\n",
       "GHcol -4.16235283  0.55238756  0.73141284  0.27716685  1.81402496 -0.43320174\n",
       "GM     1.63318982  0.94313908 -2.14450069  0.23741739  0.70711468  0.57295985\n",
       "GNgam  1.24409100  8.14555406  3.60303723 -0.84700643 -3.27117873 -7.06685369\n",
       "GW    -1.73097023 -1.33140968  1.29968920 -0.59460619 -1.23252570 -0.24295015\n",
       "KE    -0.20148220  0.08786580  0.03798278  0.14328397  0.37068560  0.04788701\n",
       "UGgam -0.35923727  0.46483892 -1.32358063 -1.21769620 -1.64289617  0.87885878\n",
       "              PC37        PC38        PC39        PC40          PC41\n",
       "AOcol  0.002506403 -0.06229204  0.09351468  0.06139210  -0.005476945\n",
       "BFcol  0.970505425  0.68120735  1.21922002  1.28882289  -0.856317115\n",
       "BFgam  3.044450220 -1.97061200  0.92954242  6.94851027  -9.846303531\n",
       "CIcol  0.105248873 -0.30229501 -1.25676469 -0.09660105   0.864721463\n",
       "CMgam -1.722756265  0.82547131 -0.93583440 -3.92426146   5.172947920\n",
       "FRgam -0.167616315  0.16492702  0.08525452  0.03597539  -0.446525316\n",
       "GAgam  0.074058391  0.12635506 -0.24787809  0.53018051  -0.893504445\n",
       "GHcol -0.709972084  0.15389321  0.93433040 -1.32387215  -1.109076900\n",
       "GM    -0.317887454  0.62207825  1.70658544  0.30505912   0.107928613\n",
       "GNgam  6.313700301 -6.12461773  4.94144044  8.27907413 -14.108705636\n",
       "GW    -0.150888778 -0.26409742 -1.54100749 -0.04538454   0.569559428\n",
       "KE    -0.185779384 -0.17513910  0.07390633 -0.22414620   0.024948343\n",
       "UGgam -0.173516665  1.13155531 -0.22892243  1.17791945   0.078393648\n",
       "             PC42        PC43        PC44         PC45        PC46        PC47\n",
       "AOcol  0.12317328 -0.10562029 -0.06932664 -0.025804214  0.13365995  0.02583223\n",
       "BFcol -0.77180261 -1.42475484  0.06784625 -0.793787236  0.71902475  0.33129113\n",
       "BFgam -4.49201430  0.20683354 -4.66024110  4.386947525  0.02036339  2.26760703\n",
       "CIcol  0.31903594  1.20043940 -0.47222083 -0.564711808 -0.87375331  0.58764548\n",
       "CMgam  2.39557055 -0.50227004  1.21353607 -2.114739317 -0.79092892  0.02434725\n",
       "FRgam -0.20838354 -0.06791752  0.34961631  0.301445059 -0.07746853  0.42259048\n",
       "GAgam -0.47385754  0.92762544  0.33538748  0.663959938  0.27940986 -0.21326558\n",
       "GHcol  1.62181028 -0.74894447  0.77706330  0.636829243  1.05546976 -0.66954626\n",
       "GM     0.08260072  0.77356295  0.54581888  0.636938342  0.12881309  0.84915792\n",
       "GNgam -5.95394486 -0.88268208  2.18639255  5.335163526  1.77191765  0.15091149\n",
       "GW    -0.43148527 -0.11188818 -0.51530199 -0.225305761  0.06353517 -0.95343213\n",
       "KE     0.20097500 -0.06535694 -0.22653899  0.056726976 -0.03761387  0.18302189\n",
       "UGgam -0.55382347  1.21730361 -0.33983868  0.008544681  0.64783972 -2.02436920\n",
       "               PC48         PC49        PC50\n",
       "AOcol  -0.032756009 -0.001701321 -0.02892862\n",
       "BFcol  -0.975082226  0.446363793  0.04817360\n",
       "BFgam  -7.209840898 -3.552050251 -2.48774930\n",
       "CIcol   1.001940194 -0.290457059 -0.53295496\n",
       "CMgam   3.821017946  1.283638235  0.76001114\n",
       "FRgam   0.136969852  0.227470949  0.11013257\n",
       "GAgam  -0.003254252 -0.817130497 -0.68383564\n",
       "GHcol  -0.643512145  0.487184879  0.67800752\n",
       "GM      0.415356396  0.077353079 -0.44435022\n",
       "GNgam -11.782695778  2.180669575  2.66449764\n",
       "GW     -0.167047651 -0.471787943  0.04627700\n",
       "KE     -0.188938717  0.098534238 -0.11729121\n",
       "UGgam   0.287748198 -0.868067175 -0.26081422\n",
       "\n",
       "Coefficients of linear discriminants:\n",
       "               LD1           LD2           LD3           LD4           LD5\n",
       "PC1   2.060442e-01 -1.638562e-01  2.368852e-01  0.0174291362 -3.273924e-03\n",
       "PC2  -4.637364e-02  3.362096e-01  1.422676e-01 -0.1424066084  2.078669e-02\n",
       "PC3   1.546997e-01  2.699948e-01  2.209094e-02  0.2036612555  2.503419e-03\n",
       "PC4   3.628633e-01 -7.837706e-03 -1.507485e-01 -0.1640070613  8.585645e-03\n",
       "PC5   3.231752e-02  5.132535e-02  2.605793e-02  0.0361929933 -7.216135e-02\n",
       "PC6   3.047624e-02 -5.768010e-02  1.065596e-02  0.0711221243  3.059026e-01\n",
       "PC7  -5.685930e-02 -1.359473e-02 -5.724492e-03 -0.0343917989  2.502959e-02\n",
       "PC8   3.503267e-02  4.552917e-03 -2.801166e-02 -0.0345411336 -1.994845e-02\n",
       "PC9  -1.892392e-02  6.828683e-04 -2.494930e-02  0.0004341987  6.321367e-03\n",
       "PC10  9.211667e-03 -3.539675e-04 -1.073298e-02 -0.0020623446  8.689338e-04\n",
       "PC11 -2.313266e-02 -7.619438e-04  1.849096e-02  0.0036552569  6.341127e-03\n",
       "PC12  1.337355e-02  5.658203e-04 -1.651709e-02  0.0038367678 -1.829688e-03\n",
       "PC13 -2.257262e-03  6.246959e-03 -2.591954e-02  0.0016298737  9.856190e-03\n",
       "PC14  2.875333e-03 -6.463007e-03 -3.422803e-03  0.0080222738 -4.539944e-03\n",
       "PC15  9.898741e-03  2.694517e-02  4.224419e-03 -0.0239969979  2.383894e-02\n",
       "PC16 -2.246921e-03 -3.450719e-03  3.974696e-03 -0.0014115110 -2.771546e-03\n",
       "PC17 -1.158811e-02  7.360344e-03  6.467435e-04 -0.0114729295  2.766635e-04\n",
       "PC18  3.741409e-03 -1.562450e-02  4.065234e-03  0.0194294357  1.090191e-02\n",
       "PC19  1.072534e-02  1.217842e-02 -8.502008e-02  0.0183191065  5.776830e-03\n",
       "PC20  4.040747e-03  7.253440e-04 -9.319005e-03  0.0078259174  2.864503e-03\n",
       "PC21  3.324017e-03 -2.205259e-03  2.105447e-02  0.0001794313 -1.346013e-03\n",
       "PC22  1.157367e-03 -2.119298e-03  1.283308e-02 -0.0086618010 -2.848364e-04\n",
       "PC23  1.559381e-03  3.085428e-03  6.128260e-03  0.0023014415 -2.381136e-03\n",
       "PC24 -1.048418e-03 -9.117711e-04  5.522529e-03 -0.0037624797  2.763916e-03\n",
       "PC25  8.864963e-04 -1.395243e-03  1.429920e-03 -0.0035485120  5.318859e-03\n",
       "PC26 -7.038937e-04  1.509333e-03  5.731990e-03 -0.0052548840 -5.792183e-04\n",
       "PC27  6.719392e-03  2.101039e-03 -4.034601e-04  0.0003570129  6.572054e-03\n",
       "PC28 -4.716701e-05  3.682034e-04 -4.561669e-03  0.0033082897 -7.572977e-03\n",
       "PC29  2.853874e-03 -2.049346e-03  4.812053e-03 -0.0008060206 -7.520002e-04\n",
       "PC30  5.698132e-04 -2.310945e-03  3.208758e-03  0.0056459895 -9.620937e-04\n",
       "PC31  2.131704e-03 -7.021705e-04 -3.826903e-03 -0.0008408890  1.021002e-03\n",
       "PC32  1.129126e-03 -4.184043e-05  1.659737e-03  0.0018172875  2.743975e-03\n",
       "PC33 -7.452966e-04 -8.938053e-04 -1.194183e-05  0.0023321954  3.659087e-03\n",
       "PC34  1.142947e-03 -1.514663e-03 -5.039572e-04 -0.0056797528  4.511928e-03\n",
       "PC35  4.283659e-04 -2.236617e-03  3.029369e-03 -0.0060072061  3.519410e-03\n",
       "PC36  2.459002e-04  1.744106e-03  2.090569e-03  0.0027057176 -2.641134e-03\n",
       "PC37 -3.321552e-03 -3.552865e-04 -2.407826e-03  0.0009000172  3.382916e-03\n",
       "PC38  2.069783e-03 -1.364974e-03 -2.605593e-03 -0.0028647353 -4.939030e-04\n",
       "PC39  3.228203e-04  1.970160e-03  4.039626e-04 -0.0027625160 -5.735573e-04\n",
       "PC40 -1.199676e-03  1.248427e-03 -3.107141e-03 -0.0005982121 -4.315172e-05\n",
       "PC41 -3.407285e-03 -2.416987e-04  1.592002e-03  0.0005766100 -7.456663e-03\n",
       "PC42 -1.629287e-03  1.683558e-03  2.269794e-03 -0.0054893720  3.979591e-03\n",
       "PC43  7.481358e-04 -1.654953e-03  1.951949e-05  0.0031503527 -2.219392e-03\n",
       "PC44  2.858570e-03 -4.650571e-04 -3.567758e-03  0.0008135142  4.784050e-04\n",
       "PC45  3.573528e-03  6.815358e-04  9.208654e-04  0.0036738750 -2.975263e-03\n",
       "PC46 -1.839062e-03  2.256420e-03 -1.216052e-03 -0.0060106456  1.211959e-03\n",
       "PC47  3.345461e-03  2.166130e-04  9.524393e-05 -0.0024317142  8.957764e-04\n",
       "PC48  2.348629e-03  9.566515e-04 -1.433918e-03  0.0032425091 -2.279329e-03\n",
       "PC49  2.567626e-03 -2.612941e-04  5.889076e-04 -0.0019196976  1.360850e-03\n",
       "PC50  1.024330e-03 -2.374946e-04 -1.109292e-03  0.0018959770  4.249458e-04\n",
       "               LD6           LD7           LD8           LD9          LD10\n",
       "PC1  -4.255290e-03  0.0016051171 -1.707646e-03  2.432319e-04 -0.0004997656\n",
       "PC2  -1.283260e-02 -0.0042652882 -1.387874e-03  8.576144e-04 -0.0005701706\n",
       "PC3  -6.544708e-03  0.0061399624 -2.260023e-03  1.803028e-03 -0.0026830317\n",
       "PC4  -8.020644e-03 -0.0049320505 -6.849670e-03 -1.483377e-03  0.0016192175\n",
       "PC5   1.908241e-01  0.0040355103  1.072231e-02  6.523451e-04 -0.0015542604\n",
       "PC6   7.694555e-02 -0.0072205836  8.921270e-03  1.007564e-02  0.0013272578\n",
       "PC7   3.946713e-03  0.0001359147 -1.417894e-02 -1.255994e-03  0.0039640575\n",
       "PC8  -5.959753e-02  0.0003552723  1.313454e-01  1.588377e-02 -0.0079574139\n",
       "PC9   7.452295e-03  0.0006859397 -1.118441e-02 -6.642686e-04  0.0021202634\n",
       "PC10 -1.457361e-02 -0.0009165133  3.540557e-02  3.304608e-03 -0.0047280636\n",
       "PC11  2.900963e-02  0.0032405966 -9.452451e-02 -1.089058e-02  0.0086113482\n",
       "PC12 -1.090992e-02 -0.0088686799  5.222603e-02  6.284285e-03 -0.0052767651\n",
       "PC13  9.629266e-03  0.0156488220 -4.067072e-02 -2.769837e-03  0.0058882206\n",
       "PC14  1.044745e-03 -0.0423332310  2.217780e-02 -5.587879e-03 -0.0131670189\n",
       "PC15  1.285292e-03  0.1885615569  4.869261e-03  7.321322e-02  0.0246466833\n",
       "PC16  3.340050e-03 -0.0115600789 -2.712351e-03  4.097997e-03 -0.0031715744\n",
       "PC17  9.912051e-03  0.0367437356 -1.680591e-02 -2.686273e-02  0.0150018640\n",
       "PC18  6.030114e-03 -0.0749240378 -3.813612e-02  1.406475e-01 -0.0512811577\n",
       "PC19  8.598009e-03  0.0029339568 -1.755551e-02  3.182484e-03  0.0044876715\n",
       "PC20  3.601879e-03 -0.0056972512  7.746462e-03  1.991607e-02 -0.0024635884\n",
       "PC21  4.112889e-04  0.0029797971  1.366693e-02  1.138947e-03 -0.0056038032\n",
       "PC22 -3.918130e-03 -0.0098010907 -5.016240e-03  1.340971e-02  0.0212668350\n",
       "PC23 -2.076500e-03  0.0113573746  1.997821e-02 -1.220350e-03  0.0035738694\n",
       "PC24 -7.608339e-03 -0.0019083860 -4.486295e-03 -1.279369e-03  0.0014559974\n",
       "PC25 -3.979917e-03  0.0167815659 -5.216214e-03 -8.747523e-03 -0.0455748501\n",
       "PC26 -2.402703e-03  0.0083975537  9.801272e-03 -7.090107e-03 -0.0096654177\n",
       "PC27  2.028727e-03  0.0432818002 -1.241465e-02 -2.544475e-02 -0.0965115324\n",
       "PC28  2.572648e-03 -0.0408979864  5.735110e-03  1.770599e-02  0.0864299096\n",
       "PC29  6.293328e-04 -0.0041136678  3.357771e-03  4.171810e-03  0.0084336677\n",
       "PC30  2.082187e-03 -0.0097592535 -3.951396e-03  8.666667e-03  0.0155521506\n",
       "PC31 -1.880842e-03 -0.0161902610 -9.763692e-04  8.452547e-03  0.0015763011\n",
       "PC32  4.081358e-03 -0.0011589170  2.440115e-03  4.419259e-03 -0.0046517660\n",
       "PC33  2.953428e-03  0.0025512023  1.248545e-02 -4.231719e-03 -0.0009269106\n",
       "PC34 -5.888677e-03 -0.0052023331  9.185263e-04  1.501267e-03 -0.0014144907\n",
       "PC35 -8.072803e-04 -0.0027332087  3.831452e-05  1.934803e-03 -0.0037260908\n",
       "PC36 -1.205285e-03  0.0001976708 -5.810166e-03  5.084992e-04  0.0008328363\n",
       "PC37  1.657498e-03 -0.0037491998  3.986057e-03  1.371597e-03 -0.0004805854\n",
       "PC38 -1.566901e-03 -0.0018220876 -8.449996e-03  1.469458e-04 -0.0001946742\n",
       "PC39  1.473941e-03 -0.0030198316  1.244831e-03  5.395022e-03 -0.0061158207\n",
       "PC40  6.311304e-04 -0.0054613642  8.592257e-05  2.158307e-03 -0.0009967672\n",
       "PC41  1.107408e-03  0.0023331069 -8.496057e-03 -2.348913e-03  0.0067104525\n",
       "PC42  8.584256e-05  0.0046262697 -1.759889e-03 -2.919353e-04 -0.0003105060\n",
       "PC43 -4.918135e-03  0.0053186838 -6.014837e-03  1.465290e-03  0.0033600623\n",
       "PC44 -3.940638e-03  0.0003654046 -1.393096e-03  1.075335e-03 -0.0016749577\n",
       "PC45 -2.703046e-03  0.0030817962  3.474840e-03  1.368559e-03 -0.0032486792\n",
       "PC46 -2.164094e-03 -0.0020618297 -3.611412e-03 -1.099894e-03 -0.0030358359\n",
       "PC47 -9.139545e-04 -0.0008574399  1.025530e-02  5.489051e-03 -0.0005046883\n",
       "PC48 -2.969785e-03  0.0037797525 -8.447294e-03 -9.646134e-05  0.0051712522\n",
       "PC49  3.926404e-03 -0.0011891580  2.652803e-03  1.139357e-03 -0.0013332716\n",
       "PC50  4.914269e-03 -0.0001049063  1.200354e-03 -1.320640e-03 -0.0012808481\n",
       "              LD11          LD12\n",
       "PC1   0.0001792744  1.185735e-05\n",
       "PC2   0.0054904435  9.232312e-05\n",
       "PC3  -0.0042150753  2.533474e-07\n",
       "PC4   0.0065523667  1.369333e-04\n",
       "PC5  -0.0091836811 -3.616483e-04\n",
       "PC6  -0.0050030197 -4.160611e-04\n",
       "PC7   0.0025830415  1.601222e-04\n",
       "PC8  -0.0330299049 -2.804318e-04\n",
       "PC9   0.0016178853 -5.418494e-04\n",
       "PC10 -0.0020084559 -1.568779e-03\n",
       "PC11  0.0011276332  5.870350e-04\n",
       "PC12  0.0071612770 -1.118453e-03\n",
       "PC13 -0.0023481619 -9.123472e-05\n",
       "PC14  0.0083921452  6.278653e-04\n",
       "PC15  0.0014616903  1.084412e-04\n",
       "PC16 -0.0090196709 -5.595073e-03\n",
       "PC17 -0.0111779653  8.426800e-03\n",
       "PC18 -0.0021164961 -5.514461e-05\n",
       "PC19 -0.0018427385  8.943345e-05\n",
       "PC20  0.0179228038 -1.251541e-04\n",
       "PC21  0.0157585554 -7.564650e-04\n",
       "PC22 -0.0204411532  3.614990e-03\n",
       "PC23  0.0316168278 -4.134494e-03\n",
       "PC24 -0.0227985262  6.627047e-03\n",
       "PC25 -0.0197875210 -3.682013e-03\n",
       "PC26 -0.0113696721  1.715501e-03\n",
       "PC27  0.0094413457 -7.394545e-04\n",
       "PC28  0.0021419530 -2.104681e-03\n",
       "PC29 -0.0005472104  1.307714e-02\n",
       "PC30  0.0111035836 -3.242333e-03\n",
       "PC31 -0.0010319353  6.243947e-03\n",
       "PC32  0.0141514887  5.298879e-03\n",
       "PC33  0.0125465521 -1.172872e-02\n",
       "PC34 -0.0077273615  9.110086e-03\n",
       "PC35 -0.0176844000  1.453037e-02\n",
       "PC36 -0.0044293703 -1.691929e-02\n",
       "PC37  0.0089575110  8.094770e-03\n",
       "PC38 -0.0055893983 -1.055713e-02\n",
       "PC39  0.0049439706  1.022214e-02\n",
       "PC40  0.0192226289  3.328239e-03\n",
       "PC41 -0.0266189132 -1.112105e-02\n",
       "PC42 -0.0123595022 -3.746868e-03\n",
       "PC43  0.0016860371 -2.934619e-03\n",
       "PC44 -0.0058008965  1.805572e-02\n",
       "PC45  0.0112038004  2.595561e-03\n",
       "PC46  0.0032473814  4.654341e-03\n",
       "PC47  0.0009091766 -5.642643e-03\n",
       "PC48 -0.0207753504 -1.232975e-02\n",
       "PC49 -0.0055996877  1.536590e-02\n",
       "PC50 -0.0029969012  1.391544e-02\n",
       "\n",
       "Proportion of trace:\n",
       "   LD1    LD2    LD3    LD4    LD5    LD6    LD7    LD8    LD9   LD10   LD11 \n",
       "0.4588 0.2309 0.1746 0.0693 0.0333 0.0200 0.0050 0.0032 0.0025 0.0022 0.0002 \n",
       "  LD12 \n",
       "0.0000 "
      ]
     },
     "metadata": {},
     "output_type": "display_data"
    }
   ],
   "source": [
    "# JUST DISPLAY THE ENTIRE MODEL. TOO MUCH INFORMATION I GUESS!\n",
    "m_lda"
   ]
  },
  {
   "cell_type": "code",
   "execution_count": 13,
   "id": "9f36d9cf",
   "metadata": {},
   "outputs": [
    {
     "data": {
      "text/html": [
       "<ol class=list-inline>\n",
       "\t<li>280</li>\n",
       "\t<li>50</li>\n",
       "</ol>\n"
      ],
      "text/latex": [
       "\\begin{enumerate*}\n",
       "\\item 280\n",
       "\\item 50\n",
       "\\end{enumerate*}\n"
      ],
      "text/markdown": [
       "1. 280\n",
       "2. 50\n",
       "\n",
       "\n"
      ],
      "text/plain": [
       "[1] 280  50"
      ]
     },
     "metadata": {},
     "output_type": "display_data"
    }
   ],
   "source": [
    "# NOW TURN TO THE TEST SET. FIRST NORMALISE IT VIA THE SAME PATTERSON FORMULA AND allele_freq\n",
    "# THEN CREATE test_feature USING THE SAME PCA ROTATION\n",
    "allele_freq2<-matrix(allele_freq, nc=ncol(test_genotype), nr=nrow(test_genotype), byrow=T)\n",
    "normal_test_genotype<-(test_genotype-2*allele_freq2)/sqrt(allele_freq2*(1-allele_freq2))\n",
    "test_feature<-normal_test_genotype%*%e$rotation[,1:n]\n",
    "dim(test_feature)\n",
    "rm(allele_freq); rm(allele_freq2); invisible(gc());"
   ]
  },
  {
   "cell_type": "code",
   "execution_count": 14,
   "id": "7a85df42",
   "metadata": {},
   "outputs": [
    {
     "data": {
      "text/html": [
       "0.889285714285714"
      ],
      "text/latex": [
       "0.889285714285714"
      ],
      "text/markdown": [
       "0.889285714285714"
      ],
      "text/plain": [
       "[1] 0.8892857"
      ]
     },
     "metadata": {},
     "output_type": "display_data"
    }
   ],
   "source": [
    "# PREDICT THE CLASSES GIVEN THE TESTING FEATURES VIA THE EXISTING LDA MODEL. \n",
    "result_lda<-predict(m_lda, test_feature)$class\n",
    "result_lda<-as.character(result_lda)\n",
    "# ACCURACY. SHOULD BE AROUND 88.9%\n",
    "sum(result_lda==test_label)/length(test_label)"
   ]
  },
  {
   "cell_type": "code",
   "execution_count": 15,
   "id": "a8db741d",
   "metadata": {},
   "outputs": [
    {
     "data": {
      "image/png": "[encoded data removed]",
      "text/plain": [
       "Plot with title \"LDA 7-8 components (out of 12)\""
      ]
     },
     "metadata": {},
     "output_type": "display_data"
    }
   ],
   "source": [
    "# PLOT THE LD COMPONENTS\n",
    "LD1_test<-test_feature%*%m_lda$scaling[,1]\n",
    "LD2_test<-test_feature%*%m_lda$scaling[,2]\n",
    "LD3_test<-test_feature%*%m_lda$scaling[,3]\n",
    "LD4_test<-test_feature%*%m_lda$scaling[,4]\n",
    "LD5_test<-test_feature%*%m_lda$scaling[,5]\n",
    "LD6_test<-test_feature%*%m_lda$scaling[,6]\n",
    "LD7_test<-test_feature%*%m_lda$scaling[,7]\n",
    "LD8_test<-test_feature%*%m_lda$scaling[,8]\n",
    "# PLOTS\n",
    "par(mfrow=c(2,2))\n",
    "plot(LD1_train, LD2_train, col=train_col, \n",
    "\txlab='LD1', ylab='LD2', main='LDA first 2 components (out of 12)')\n",
    "points(LD1_test, LD2_test, col=test_col, pch=3)\n",
    "legend('topleft', legend=c('train', 'test'), pch=c(1,3))\n",
    "plot(LD3_train, LD4_train, col=train_col, \n",
    "\txlab='LD3', ylab='LD4', main='LDA 3-4 components (out of 12)')\n",
    "points(LD3_test, LD4_test, col=test_col, pch=3)\n",
    "legend('topleft', legend=c('train', 'test'), pch=c(1,3))\n",
    "plot(LD5_train, LD6_train, col=train_col, \n",
    "\txlab='LD5', ylab='LD6', main='LDA 5-6 components (out of 12)')\n",
    "points(LD5_test, LD6_test, col=test_col, pch=3)\n",
    "legend('topleft', legend=c('train', 'test'), pch=c(1,3))\n",
    "plot(LD7_train, LD8_train, col=train_col, \n",
    "\txlab='LD7', ylab='LD8', main='LDA 7-8 components (out of 12)')\n",
    "points(LD7_test, LD8_test, col=test_col, pch=3)\n",
    "legend('topleft', legend=c('train', 'test'), pch=c(1,3))"
   ]
  },
  {
   "cell_type": "code",
   "execution_count": 16,
   "id": "0a5ad70b",
   "metadata": {},
   "outputs": [
    {
     "data": {
      "image/png": "[encoded data removed]",
      "text/plain": [
       "plot without title"
      ]
     },
     "metadata": {},
     "output_type": "display_data"
    }
   ],
   "source": [
    "# WHICH LOCI CONTRIBUTE MOST TO THE DISCRIMINANT ANALYSIS?\n",
    "# LD1 IS A LINEAR COMBINATION OF PC1-PC50, AND PC1-PC50 ARE LINEAR COMBINATIONS OF SNPS\n",
    "# NOTE THAT LDA1_train<-train_feature%*%m_lda$scaling[,1]\n",
    "# AND THAT train_feature<-train_normal_genotype%*%e$rotation[,1:n]\n",
    "# THEN I GUESS WE CAN PICK (BY EYEBALL OR OTHERWISE) THE SNPS WITH THE MOST EXTREME WEIGHTS\n",
    "plot(e$rotation[,1:n]%*%m_lda$scaling[,1], ylab='SNP contribution(? weight?) to LD1', xlab='SNP order 1:117461')"
   ]
  },
  {
   "cell_type": "code",
   "execution_count": 17,
   "id": "7b510a40",
   "metadata": {},
   "outputs": [
    {
     "name": "stdout",
     "output_type": "stream",
     "text": [
      "# weights:  676 (612 variable)\n",
      "initial  value 2146.862612 \n",
      "iter  10 value 60.371696\n",
      "iter  20 value 50.931941\n",
      "iter  30 value 48.163214\n",
      "iter  40 value 46.395027\n",
      "iter  50 value 44.725102\n",
      "iter  60 value 42.235899\n",
      "iter  70 value 38.638564\n",
      "iter  80 value 35.005933\n",
      "iter  90 value 33.660933\n",
      "iter 100 value 31.657616\n",
      "final  value 31.657616 \n",
      "stopped after 100 iterations\n"
     ]
    }
   ],
   "source": [
    "# HOW ABOUT USING LOGISTIC REGRESSION AS OUR CLASSIFIER? USE muiltinom() FROM PACKAGE nnet. \n",
    "# BUT WE NEED TO PUT train_label AND train_feature INTO A DATA FRAME. STUBBORN. \n",
    "# AND, NOT SURE IF I UNDERSTAND THE OUTPUTS FROM multinom(). \n",
    "train_df<-data.frame(train_label=train_label, train_feature=train_feature)\n",
    "m_lr<-multinom(train_label~., data=train_df)"
   ]
  },
  {
   "cell_type": "code",
   "execution_count": 18,
   "id": "2c2c2acb",
   "metadata": {},
   "outputs": [
    {
     "data": {
      "text/html": [
       "<ol class=list-inline>\n",
       "\t<li>'(Intercept)'</li>\n",
       "\t<li>'train_feature.PC1'</li>\n",
       "\t<li>'train_feature.PC2'</li>\n",
       "\t<li>'train_feature.PC3'</li>\n",
       "\t<li>'train_feature.PC4'</li>\n",
       "\t<li>'train_feature.PC5'</li>\n",
       "\t<li>'train_feature.PC6'</li>\n",
       "\t<li>'train_feature.PC7'</li>\n",
       "\t<li>'train_feature.PC8'</li>\n",
       "\t<li>'train_feature.PC9'</li>\n",
       "\t<li>'train_feature.PC10'</li>\n",
       "\t<li>'train_feature.PC11'</li>\n",
       "\t<li>'train_feature.PC12'</li>\n",
       "\t<li>'train_feature.PC13'</li>\n",
       "\t<li>'train_feature.PC14'</li>\n",
       "\t<li>'train_feature.PC15'</li>\n",
       "\t<li>'train_feature.PC16'</li>\n",
       "\t<li>'train_feature.PC17'</li>\n",
       "\t<li>'train_feature.PC18'</li>\n",
       "\t<li>'train_feature.PC19'</li>\n",
       "\t<li>'train_feature.PC20'</li>\n",
       "\t<li>'train_feature.PC21'</li>\n",
       "\t<li>'train_feature.PC22'</li>\n",
       "\t<li>'train_feature.PC23'</li>\n",
       "\t<li>'train_feature.PC24'</li>\n",
       "\t<li>'train_feature.PC25'</li>\n",
       "\t<li>'train_feature.PC26'</li>\n",
       "\t<li>'train_feature.PC27'</li>\n",
       "\t<li>'train_feature.PC28'</li>\n",
       "\t<li>'train_feature.PC29'</li>\n",
       "\t<li>'train_feature.PC30'</li>\n",
       "\t<li>'train_feature.PC31'</li>\n",
       "\t<li>'train_feature.PC32'</li>\n",
       "\t<li>'train_feature.PC33'</li>\n",
       "\t<li>'train_feature.PC34'</li>\n",
       "\t<li>'train_feature.PC35'</li>\n",
       "\t<li>'train_feature.PC36'</li>\n",
       "\t<li>'train_feature.PC37'</li>\n",
       "\t<li>'train_feature.PC38'</li>\n",
       "\t<li>'train_feature.PC39'</li>\n",
       "\t<li>'train_feature.PC40'</li>\n",
       "\t<li>'train_feature.PC41'</li>\n",
       "\t<li>'train_feature.PC42'</li>\n",
       "\t<li>'train_feature.PC43'</li>\n",
       "\t<li>'train_feature.PC44'</li>\n",
       "\t<li>'train_feature.PC45'</li>\n",
       "\t<li>'train_feature.PC46'</li>\n",
       "\t<li>'train_feature.PC47'</li>\n",
       "\t<li>'train_feature.PC48'</li>\n",
       "\t<li>'train_feature.PC49'</li>\n",
       "\t<li>'train_feature.PC50'</li>\n",
       "</ol>\n"
      ],
      "text/latex": [
       "\\begin{enumerate*}\n",
       "\\item '(Intercept)'\n",
       "\\item 'train\\_feature.PC1'\n",
       "\\item 'train\\_feature.PC2'\n",
       "\\item 'train\\_feature.PC3'\n",
       "\\item 'train\\_feature.PC4'\n",
       "\\item 'train\\_feature.PC5'\n",
       "\\item 'train\\_feature.PC6'\n",
       "\\item 'train\\_feature.PC7'\n",
       "\\item 'train\\_feature.PC8'\n",
       "\\item 'train\\_feature.PC9'\n",
       "\\item 'train\\_feature.PC10'\n",
       "\\item 'train\\_feature.PC11'\n",
       "\\item 'train\\_feature.PC12'\n",
       "\\item 'train\\_feature.PC13'\n",
       "\\item 'train\\_feature.PC14'\n",
       "\\item 'train\\_feature.PC15'\n",
       "\\item 'train\\_feature.PC16'\n",
       "\\item 'train\\_feature.PC17'\n",
       "\\item 'train\\_feature.PC18'\n",
       "\\item 'train\\_feature.PC19'\n",
       "\\item 'train\\_feature.PC20'\n",
       "\\item 'train\\_feature.PC21'\n",
       "\\item 'train\\_feature.PC22'\n",
       "\\item 'train\\_feature.PC23'\n",
       "\\item 'train\\_feature.PC24'\n",
       "\\item 'train\\_feature.PC25'\n",
       "\\item 'train\\_feature.PC26'\n",
       "\\item 'train\\_feature.PC27'\n",
       "\\item 'train\\_feature.PC28'\n",
       "\\item 'train\\_feature.PC29'\n",
       "\\item 'train\\_feature.PC30'\n",
       "\\item 'train\\_feature.PC31'\n",
       "\\item 'train\\_feature.PC32'\n",
       "\\item 'train\\_feature.PC33'\n",
       "\\item 'train\\_feature.PC34'\n",
       "\\item 'train\\_feature.PC35'\n",
       "\\item 'train\\_feature.PC36'\n",
       "\\item 'train\\_feature.PC37'\n",
       "\\item 'train\\_feature.PC38'\n",
       "\\item 'train\\_feature.PC39'\n",
       "\\item 'train\\_feature.PC40'\n",
       "\\item 'train\\_feature.PC41'\n",
       "\\item 'train\\_feature.PC42'\n",
       "\\item 'train\\_feature.PC43'\n",
       "\\item 'train\\_feature.PC44'\n",
       "\\item 'train\\_feature.PC45'\n",
       "\\item 'train\\_feature.PC46'\n",
       "\\item 'train\\_feature.PC47'\n",
       "\\item 'train\\_feature.PC48'\n",
       "\\item 'train\\_feature.PC49'\n",
       "\\item 'train\\_feature.PC50'\n",
       "\\end{enumerate*}\n"
      ],
      "text/markdown": [
       "1. '(Intercept)'\n",
       "2. 'train_feature.PC1'\n",
       "3. 'train_feature.PC2'\n",
       "4. 'train_feature.PC3'\n",
       "5. 'train_feature.PC4'\n",
       "6. 'train_feature.PC5'\n",
       "7. 'train_feature.PC6'\n",
       "8. 'train_feature.PC7'\n",
       "9. 'train_feature.PC8'\n",
       "10. 'train_feature.PC9'\n",
       "11. 'train_feature.PC10'\n",
       "12. 'train_feature.PC11'\n",
       "13. 'train_feature.PC12'\n",
       "14. 'train_feature.PC13'\n",
       "15. 'train_feature.PC14'\n",
       "16. 'train_feature.PC15'\n",
       "17. 'train_feature.PC16'\n",
       "18. 'train_feature.PC17'\n",
       "19. 'train_feature.PC18'\n",
       "20. 'train_feature.PC19'\n",
       "21. 'train_feature.PC20'\n",
       "22. 'train_feature.PC21'\n",
       "23. 'train_feature.PC22'\n",
       "24. 'train_feature.PC23'\n",
       "25. 'train_feature.PC24'\n",
       "26. 'train_feature.PC25'\n",
       "27. 'train_feature.PC26'\n",
       "28. 'train_feature.PC27'\n",
       "29. 'train_feature.PC28'\n",
       "30. 'train_feature.PC29'\n",
       "31. 'train_feature.PC30'\n",
       "32. 'train_feature.PC31'\n",
       "33. 'train_feature.PC32'\n",
       "34. 'train_feature.PC33'\n",
       "35. 'train_feature.PC34'\n",
       "36. 'train_feature.PC35'\n",
       "37. 'train_feature.PC36'\n",
       "38. 'train_feature.PC37'\n",
       "39. 'train_feature.PC38'\n",
       "40. 'train_feature.PC39'\n",
       "41. 'train_feature.PC40'\n",
       "42. 'train_feature.PC41'\n",
       "43. 'train_feature.PC42'\n",
       "44. 'train_feature.PC43'\n",
       "45. 'train_feature.PC44'\n",
       "46. 'train_feature.PC45'\n",
       "47. 'train_feature.PC46'\n",
       "48. 'train_feature.PC47'\n",
       "49. 'train_feature.PC48'\n",
       "50. 'train_feature.PC49'\n",
       "51. 'train_feature.PC50'\n",
       "\n",
       "\n"
      ],
      "text/plain": [
       " [1] \"(Intercept)\"        \"train_feature.PC1\"  \"train_feature.PC2\" \n",
       " [4] \"train_feature.PC3\"  \"train_feature.PC4\"  \"train_feature.PC5\" \n",
       " [7] \"train_feature.PC6\"  \"train_feature.PC7\"  \"train_feature.PC8\" \n",
       "[10] \"train_feature.PC9\"  \"train_feature.PC10\" \"train_feature.PC11\"\n",
       "[13] \"train_feature.PC12\" \"train_feature.PC13\" \"train_feature.PC14\"\n",
       "[16] \"train_feature.PC15\" \"train_feature.PC16\" \"train_feature.PC17\"\n",
       "[19] \"train_feature.PC18\" \"train_feature.PC19\" \"train_feature.PC20\"\n",
       "[22] \"train_feature.PC21\" \"train_feature.PC22\" \"train_feature.PC23\"\n",
       "[25] \"train_feature.PC24\" \"train_feature.PC25\" \"train_feature.PC26\"\n",
       "[28] \"train_feature.PC27\" \"train_feature.PC28\" \"train_feature.PC29\"\n",
       "[31] \"train_feature.PC30\" \"train_feature.PC31\" \"train_feature.PC32\"\n",
       "[34] \"train_feature.PC33\" \"train_feature.PC34\" \"train_feature.PC35\"\n",
       "[37] \"train_feature.PC36\" \"train_feature.PC37\" \"train_feature.PC38\"\n",
       "[40] \"train_feature.PC39\" \"train_feature.PC40\" \"train_feature.PC41\"\n",
       "[43] \"train_feature.PC42\" \"train_feature.PC43\" \"train_feature.PC44\"\n",
       "[46] \"train_feature.PC45\" \"train_feature.PC46\" \"train_feature.PC47\"\n",
       "[49] \"train_feature.PC48\" \"train_feature.PC49\" \"train_feature.PC50\""
      ]
     },
     "metadata": {},
     "output_type": "display_data"
    }
   ],
   "source": [
    "# SHOWING THE NAMES OF THE ESTIMATED COEFFICIENTS. THE INTERCEPT IS THERE, ALONGSIDE PC1-PC50 FEATURES. \n",
    "m_lr$coefnames"
   ]
  },
  {
   "cell_type": "code",
   "execution_count": 19,
   "id": "75e7defd",
   "metadata": {},
   "outputs": [
    {
     "data": {
      "text/plain": [
       "Call:\n",
       "multinom(formula = train_label ~ ., data = train_df)\n",
       "\n",
       "Coefficients:\n",
       "      (Intercept) train_feature.PC1 train_feature.PC2 train_feature.PC3\n",
       "BFcol  0.02564619       0.013365544      -0.004961362      -0.006347775\n",
       "BFgam  0.02839710       0.065393333      -0.041532164       0.004586626\n",
       "CIcol  0.02600098       0.030997311       0.001722673      -0.021311238\n",
       "CMgam -0.06689409       0.015086074      -0.171869733       0.108322527\n",
       "FRgam  0.03701182       0.042621359      -0.020560116       0.047043832\n",
       "GAgam  0.02692189      -0.008139001      -0.057099132       0.063414562\n",
       "GHcol  0.02314853      -0.041403835      -0.025110717      -0.055440357\n",
       "GM     0.03539442       0.034507177      -0.029600746       0.013117083\n",
       "GNgam -0.25872891      -0.050485969      -0.025115974      -0.171084656\n",
       "GW     0.03541282       0.009603777      -0.032363197      -0.033297820\n",
       "KE     0.03639147       0.053846754       0.011059045      -0.059217945\n",
       "UGgam  0.01359959       0.022842888      -0.080488321       0.034962608\n",
       "      train_feature.PC4 train_feature.PC5 train_feature.PC6 train_feature.PC7\n",
       "BFcol       0.074856270      -0.011902569       0.153470460     -2.677339e-02\n",
       "BFgam       0.030423213       0.136901040      -0.045835149     -4.870556e-02\n",
       "CIcol       0.068240632      -0.069991132       0.099633065      1.150535e-03\n",
       "CMgam      -0.081739990       0.103024644      -0.094140322      9.664010e-03\n",
       "FRgam       0.058928646      -0.003814944      -0.009929505     -6.871560e-03\n",
       "GAgam       0.034437069      -0.074002670      -0.094841927     -4.739778e-02\n",
       "GHcol      -0.061255423      -0.063865815       0.115125293     -6.301627e-02\n",
       "GM          0.038590069       0.008340995      -0.117316203     -2.810832e-02\n",
       "GNgam      -0.242618106      -0.003825125       0.048437700      7.258636e-02\n",
       "GW         -0.006701625      -0.016302948      -0.101455656      3.058966e-02\n",
       "KE         -0.022790668       0.013344639      -0.018225460      4.232513e-05\n",
       "UGgam       0.040579518       0.061812410      -0.001370720      4.563879e-02\n",
       "      train_feature.PC8 train_feature.PC9 train_feature.PC10 train_feature.PC11\n",
       "BFcol      -0.064171726       0.050633552        -0.06329909       -0.016920299\n",
       "BFgam       0.203110767      -0.035642916         0.05901236       -0.124237683\n",
       "CIcol      -0.017561746      -0.003731347        -0.01123932       -0.004673837\n",
       "CMgam       0.175147580       0.156107336         0.01376257       -0.015003304\n",
       "FRgam       0.005458983       0.021676927        -0.00116496        0.005857975\n",
       "GAgam      -0.048127851      -0.009128349         0.07859849        0.010304221\n",
       "GHcol      -0.037676447      -0.004467485        -0.08391924        0.000846006\n",
       "GM          0.056876207      -0.026580815        -0.04493317       -0.008204656\n",
       "GNgam      -0.015426321      -0.094123795         0.18679347       -0.163311862\n",
       "GW         -0.057762727       0.005851779        -0.01635863       -0.013176281\n",
       "KE         -0.013295405      -0.006015778        -0.04680091        0.009314231\n",
       "UGgam      -0.125303771       0.021823853        -0.06355063        0.197994824\n",
       "      train_feature.PC12 train_feature.PC13 train_feature.PC14\n",
       "BFcol       -0.042138386      -0.0201030630       -0.018679848\n",
       "BFgam        0.018548499      -0.0453798382        0.140826177\n",
       "CIcol       -0.014619849       0.0139682816       -0.027987400\n",
       "CMgam       -0.092686569      -0.0061527293        0.066085470\n",
       "FRgam       -0.007224794       0.0043576050       -0.002165931\n",
       "GAgam       -0.005898470       0.0840088266        0.029986639\n",
       "GHcol        0.006836759       0.0898725351       -0.042423609\n",
       "GM          -0.007232437       0.0127297148        0.002568148\n",
       "GNgam        0.006254724      -0.0516226240       -0.021321585\n",
       "GW          -0.025869886       0.0028343058       -0.055106532\n",
       "KE          -0.055457843       0.0002821098        0.028116355\n",
       "UGgam        0.242237026      -0.0376169775        0.002324524\n",
       "      train_feature.PC15 train_feature.PC16 train_feature.PC17\n",
       "BFcol       -0.040664758        0.091624951       -0.030032795\n",
       "BFgam       -0.028672147        0.021657131       -0.168201473\n",
       "CIcol        0.093390476       -0.022754285       -0.002045491\n",
       "CMgam       -0.072697567        0.065304633        0.100957267\n",
       "FRgam        0.001316483        0.001427038        0.005416181\n",
       "GAgam       -0.046611100        0.065877895        0.067006683\n",
       "GHcol        0.011307977       -0.068827320        0.010781426\n",
       "GM           0.032351790       -0.040771158       -0.017845967\n",
       "GNgam       -0.007339491       -0.055562522       -0.050970084\n",
       "GW          -0.034846471        0.003002311        0.013362774\n",
       "KE           0.024482252       -0.033491022       -0.011234539\n",
       "UGgam        0.097506487       -0.032627088        0.028129555\n",
       "      train_feature.PC18 train_feature.PC19 train_feature.PC20\n",
       "BFcol        0.117041955        0.048789729      -0.0166905188\n",
       "BFgam       -0.069636144       -0.009876819      -0.0340626954\n",
       "CIcol        0.055616150        0.037020393      -0.0016502864\n",
       "CMgam        0.052777908        0.054417542      -0.0097164597\n",
       "FRgam       -0.001755166        0.013783614      -0.0008893708\n",
       "GAgam        0.005585895       -0.078457688      -0.0656701942\n",
       "GHcol        0.002998843        0.073624762       0.0434622645\n",
       "GM           0.039895695       -0.015462303       0.0205134640\n",
       "GNgam       -0.040841719        0.014080471       0.0400233074\n",
       "GW          -0.101823029        0.016437471       0.0086981875\n",
       "KE          -0.060512181       -0.012655632       0.0460068291\n",
       "UGgam        0.017445210        0.024983341      -0.0163582979\n",
       "      train_feature.PC21 train_feature.PC22 train_feature.PC23\n",
       "BFcol       0.0026437113       -0.003148737       -0.008168795\n",
       "BFgam       0.0998829150       -0.041980528        0.046764334\n",
       "CIcol      -0.0027033230       -0.010950237        0.025990073\n",
       "CMgam      -0.0612279811        0.152184328       -0.119271506\n",
       "FRgam       0.0003507081        0.016732602       -0.005599341\n",
       "GAgam       0.0684029043        0.022943778       -0.069491496\n",
       "GHcol       0.0071574544        0.009641141       -0.003076075\n",
       "GM         -0.0071655013        0.003010418        0.042543856\n",
       "GNgam      -0.0207133605       -0.079846682        0.061940246\n",
       "GW          0.0061061766       -0.024028157        0.004216596\n",
       "KE          0.0147266915       -0.036958994       -0.009004485\n",
       "UGgam      -0.0763267509       -0.062813346        0.061349636\n",
       "      train_feature.PC24 train_feature.PC25 train_feature.PC26\n",
       "BFcol      -0.0009747248        0.021552141       -0.019544510\n",
       "BFgam      -0.0633181734        0.073688787       -0.012773170\n",
       "CIcol       0.0564922569       -0.063006257       -0.023677663\n",
       "CMgam       0.0813143948        0.051342799        0.010920546\n",
       "FRgam      -0.0082928293       -0.004791562       -0.004832590\n",
       "GAgam      -0.0089236612       -0.083524827        0.013525523\n",
       "GHcol       0.0228808653        0.085153671        0.007561363\n",
       "GM          0.0044293249       -0.014284657       -0.037134520\n",
       "GNgam      -0.0196205382       -0.060771213        0.052615901\n",
       "GW         -0.0035964360       -0.032185235       -0.057221492\n",
       "KE          0.0319867788        0.032527560       -0.009844896\n",
       "UGgam      -0.0067963565       -0.093755056        0.114709894\n",
       "      train_feature.PC27 train_feature.PC28 train_feature.PC29\n",
       "BFcol      -0.0408963208        0.009557059       -0.039336363\n",
       "BFgam       0.0596868870       -0.137348133       -0.069278435\n",
       "CIcol       0.0205533032        0.066802704        0.097774818\n",
       "CMgam      -0.0259985659       -0.002591839       -0.014899167\n",
       "FRgam      -0.0005910421        0.001914129       -0.007877515\n",
       "GAgam       0.0378216511        0.031907725       -0.123757334\n",
       "GHcol       0.0629423264       -0.030499141        0.007410136\n",
       "GM         -0.0267188749       -0.045018591        0.010093851\n",
       "GNgam      -0.0282358934       -0.037782699        0.086887788\n",
       "GW         -0.0001810974        0.026894263        0.031185782\n",
       "KE          0.0738539890        0.012244662       -0.002076686\n",
       "UGgam      -0.1268730216        0.071764675        0.071552594\n",
       "      train_feature.PC30 train_feature.PC31 train_feature.PC32\n",
       "BFcol       -0.017023118       -0.013670889        0.007477407\n",
       "BFgam        0.067871577       -0.035983920       -0.080033730\n",
       "CIcol       -0.045291241       -0.011609603        0.002237531\n",
       "CMgam        0.037155034       -0.030674475       -0.011783099\n",
       "FRgam       -0.013080575        0.003662217        0.001825275\n",
       "GAgam        0.041266036        0.095090572       -0.078520537\n",
       "GHcol       -0.005899534        0.067613648        0.054246183\n",
       "GM           0.006509342       -0.005680059        0.041774402\n",
       "GNgam        0.036322227       -0.016411965        0.045763635\n",
       "GW          -0.009336264        0.003094286       -0.010955896\n",
       "KE          -0.067765691        0.006747263       -0.011856636\n",
       "UGgam        0.048108381       -0.063887277       -0.027365128\n",
       "      train_feature.PC33 train_feature.PC34 train_feature.PC35\n",
       "BFcol       -0.022852678        0.034508547       -0.013127782\n",
       "BFgam        0.049391985       -0.012979412       -0.097533941\n",
       "CIcol        0.119592668       -0.017352390       -0.020631247\n",
       "CMgam       -0.060291532        0.048178116        0.042643632\n",
       "FRgam        0.002633630       -0.001416034        0.001961993\n",
       "GAgam        0.017955655       -0.058039639        0.085118266\n",
       "GHcol       -0.027744207       -0.078425157        0.091970141\n",
       "GM           0.002441317       -0.019523713        0.019104230\n",
       "GNgam       -0.010346544        0.031653320       -0.034898629\n",
       "GW          -0.004444169        0.016351852       -0.004942998\n",
       "KE           0.034061111        0.054677783       -0.009186500\n",
       "UGgam       -0.070689832        0.032057503       -0.068360330\n",
       "      train_feature.PC36 train_feature.PC37 train_feature.PC38\n",
       "BFcol        0.013277509      -0.0118148286        0.025673953\n",
       "BFgam        0.024641803       0.0013432106        0.024202141\n",
       "CIcol       -0.016843198      -0.0972398103        0.038547805\n",
       "CMgam        0.043608562      -0.0002793767        0.036848781\n",
       "FRgam       -0.006081054       0.0009897565        0.005842571\n",
       "GAgam       -0.057037919       0.0042165618       -0.021763880\n",
       "GHcol       -0.004720240      -0.0115419404        0.002052274\n",
       "GM          -0.023979870       0.0055145865        0.014210032\n",
       "GNgam       -0.005724088       0.0572296798       -0.022650677\n",
       "GW           0.011021499       0.0461347837       -0.011023041\n",
       "KE           0.043685024       0.0338705287       -0.020616276\n",
       "UGgam        0.030323933      -0.0368159420       -0.098102537\n",
       "      train_feature.PC39 train_feature.PC40 train_feature.PC41\n",
       "BFcol       0.0116809447       0.0041533450       -0.014180279\n",
       "BFgam       0.0166235150       0.0034763837       -0.021916485\n",
       "CIcol      -0.0006004332       0.0501246518        0.003907135\n",
       "CMgam       0.0219053537      -0.0100933931        0.091909682\n",
       "FRgam       0.0092199811       0.0001471907       -0.005172247\n",
       "GAgam      -0.0173958939       0.0649216516       -0.078546306\n",
       "GHcol      -0.0086894196       0.0444953079       -0.001611416\n",
       "GM          0.0482728013       0.0023899158       -0.047637272\n",
       "GNgam       0.0051237072      -0.0333726488       -0.006567574\n",
       "GW          0.0271569804       0.0208941214       -0.021601484\n",
       "KE         -0.0649605637      -0.0083864776       -0.011422771\n",
       "UGgam       0.0409432713       0.0265782167        0.086121950\n",
       "      train_feature.PC42 train_feature.PC43 train_feature.PC44\n",
       "BFcol       0.0130235328       -0.014674061      -0.0140267075\n",
       "BFgam      -0.0073804277        0.004299175       0.0203153405\n",
       "CIcol       0.0438385828        0.007063662       0.0387171229\n",
       "CMgam      -0.0252053931       -0.028013387       0.0625443364\n",
       "FRgam      -0.0062400306       -0.013331686      -0.0044826002\n",
       "GAgam       0.0047047551       -0.006539775       0.0331325752\n",
       "GHcol      -0.0369391586       -0.018942433      -0.0119278332\n",
       "GM         -0.0493377190        0.031535667       0.0207450426\n",
       "GNgam      -0.0442074763       -0.023756999       0.0602360853\n",
       "GW         -0.0539992695        0.013354517      -0.0045040414\n",
       "KE         -0.0387105352        0.015501902       0.0003283086\n",
       "UGgam      -0.0003886889       -0.059415826       0.0357884713\n",
       "      train_feature.PC45 train_feature.PC46 train_feature.PC47\n",
       "BFcol      -0.0000977805       0.0174479372       0.0201426310\n",
       "BFgam       0.0503341669       0.0314338896       0.1607178070\n",
       "CIcol      -0.0268986146      -0.0004171936      -0.0200793779\n",
       "CMgam       0.0359306366       0.0742889039       0.0769450350\n",
       "FRgam      -0.0011936920      -0.0076369963       0.0058346999\n",
       "GAgam       0.0150888819       0.0076557145      -0.0059036256\n",
       "GHcol       0.0132829665      -0.0236680789       0.0008443331\n",
       "GM          0.0142117669       0.0027207234      -0.0240550702\n",
       "GNgam      -0.0482211493       0.0530815696       0.0792295085\n",
       "GW          0.0623705014      -0.0172144723       0.0065910223\n",
       "KE         -0.0142809335      -0.0052541286      -0.0449919702\n",
       "UGgam       0.0759130723       0.1193835654       0.0362803825\n",
       "      train_feature.PC48 train_feature.PC49 train_feature.PC50\n",
       "BFcol       -0.023711853       -0.004462127       0.0122951363\n",
       "BFgam        0.054490599        0.046952557      -0.0170597444\n",
       "CIcol        0.014000750        0.023755565      -0.0484319822\n",
       "CMgam        0.090398500        0.057009531      -0.0253434295\n",
       "FRgam       -0.002474851        0.005452806       0.0000332887\n",
       "GAgam       -0.018900430        0.003756294       0.0531246031\n",
       "GHcol        0.004114683       -0.019674341      -0.0026383749\n",
       "GM           0.023662812        0.033221071       0.0100216678\n",
       "GNgam       -0.006518061        0.048791971       0.0204799289\n",
       "GW          -0.007145302        0.033081028       0.0198363785\n",
       "KE           0.033632263        0.013418854      -0.0029691707\n",
       "UGgam        0.092392071        0.061787133      -0.0126822202\n",
       "\n",
       "Residual Deviance: 63.31523 \n",
       "AIC: 1287.315 "
      ]
     },
     "metadata": {},
     "output_type": "display_data"
    }
   ],
   "source": [
    "# AGAIN JUST DISPLAY THE ENTIRE MODEL. AGAIN THE INTERCEPT IS THERE. \n",
    "# WHAT DOES THE INTERCEPTS DO IN THIS MODEL? SOME KIND OF PRIOR?\n",
    "m_lr"
   ]
  },
  {
   "cell_type": "code",
   "execution_count": 20,
   "id": "3b8dcc3c",
   "metadata": {},
   "outputs": [
    {
     "data": {
      "text/html": [
       "0.9"
      ],
      "text/latex": [
       "0.9"
      ],
      "text/markdown": [
       "0.9"
      ],
      "text/plain": [
       "[1] 0.9"
      ]
     },
     "metadata": {},
     "output_type": "display_data"
    }
   ],
   "source": [
    "# PREDICT WITH OUT TEST SET. AGAIN I NEED TO CREATE A DATA FRAME. \n",
    "test_df<-data.frame(test_feature=test_feature)\n",
    "# TO AVOID ERRORS I NEED TO SET THE COLUMN NAMES OF test_df TO MATCH THOSE OF train_df. VERY STUBBORN. \n",
    "names(test_df)<-names(train_df)[-1]\n",
    "# PUT THE test_df TO TEST THE ALGORITHM\n",
    "result_lr<-predict(m_lr, test_df, type='class')\n",
    "result_lr<-as.character(result_lr)\n",
    "# ACCURACY. SHOULD BE AROUND 90%\n",
    "sum(result_lr==test_label)/length(test_label)"
   ]
  },
  {
   "cell_type": "code",
   "execution_count": null,
   "id": "56a97634",
   "metadata": {},
   "outputs": [],
   "source": []
  }
 ],
 "metadata": {
  "kernelspec": {
   "display_name": "R",
   "language": "R",
   "name": "ir"
  },
  "language_info": {
   "codemirror_mode": "r",
   "file_extension": ".r",
   "mimetype": "text/x-r-source",
   "name": "R",
   "pygments_lexer": "r",
   "version": "3.5.3"
  }
 },
 "nbformat": 4,
 "nbformat_minor": 5
}
