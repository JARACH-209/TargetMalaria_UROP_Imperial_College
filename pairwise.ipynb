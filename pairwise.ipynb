{
 "cells": [
  {
   "cell_type": "code",
   "execution_count": 1,
   "id": "d8a2a770",
   "metadata": {},
   "outputs": [
    {
     "name": "stderr",
     "output_type": "stream",
     "text": [
      "Loading required package: compiler\n",
      "Loading required package: MASS\n",
      "Loading required package: RcppNumerical\n"
     ]
    }
   ],
   "source": [
    "# PAIRWISE CLASSIFICATION EXAMPLE\n",
    "# BFgam VS CMgam\n",
    "# 28/07/2019\n",
    "require(compiler)\n",
    "require(MASS)\n",
    "require(RcppNumerical)\n",
    "setMKLthreads(20)\n",
    "#setwd()"
   ]
  },
  {
   "cell_type": "code",
   "execution_count": 2,
   "id": "15bd8e18",
   "metadata": {},
   "outputs": [
    {
     "data": {
      "text/html": [
       "<ol class=list-inline>\n",
       "\t<li>'haplotype'</li>\n",
       "\t<li>'label'</li>\n",
       "\t<li>'POS'</li>\n",
       "</ol>\n"
      ],
      "text/latex": [
       "\\begin{enumerate*}\n",
       "\\item 'haplotype'\n",
       "\\item 'label'\n",
       "\\item 'POS'\n",
       "\\end{enumerate*}\n"
      ],
      "text/markdown": [
       "1. 'haplotype'\n",
       "2. 'label'\n",
       "3. 'POS'\n",
       "\n",
       "\n"
      ],
      "text/plain": [
       "[1] \"haplotype\" \"label\"     \"POS\"      "
      ]
     },
     "metadata": {},
     "output_type": "display_data"
    }
   ],
   "source": [
    "# FOR SIMPLICITY I JUST USE THE SAME SNPs AS IN THE 13-POPULATION CLASSIFICATION\n",
    "load('Haplotype_16Filtered.RData')\n",
    "ls()"
   ]
  },
  {
   "cell_type": "code",
   "execution_count": 3,
   "id": "ed85913e",
   "metadata": {},
   "outputs": [],
   "source": [
    "# JUST SOME FUNCTIONS\n",
    "fsum<-function(x) {.Primitive('sum')(x)}\n",
    "gc2<-function() {invisible(gc())}"
   ]
  },
  {
   "cell_type": "code",
   "execution_count": 4,
   "id": "69890eb2",
   "metadata": {},
   "outputs": [
    {
     "data": {
      "text/html": [
       "<ol class=list-inline>\n",
       "\t<li>184</li>\n",
       "\t<li>117461</li>\n",
       "</ol>\n"
      ],
      "text/latex": [
       "\\begin{enumerate*}\n",
       "\\item 184\n",
       "\\item 117461\n",
       "\\end{enumerate*}\n"
      ],
      "text/markdown": [
       "1. 184\n",
       "2. 117461\n",
       "\n",
       "\n"
      ],
      "text/plain": [
       "[1]    184 117461"
      ]
     },
     "metadata": {},
     "output_type": "display_data"
    },
    {
     "data": {
      "text/html": [
       "<ol class=list-inline>\n",
       "\t<li>594</li>\n",
       "\t<li>117461</li>\n",
       "</ol>\n"
      ],
      "text/latex": [
       "\\begin{enumerate*}\n",
       "\\item 594\n",
       "\\item 117461\n",
       "\\end{enumerate*}\n"
      ],
      "text/markdown": [
       "1. 594\n",
       "2. 117461\n",
       "\n",
       "\n"
      ],
      "text/plain": [
       "[1]    594 117461"
      ]
     },
     "metadata": {},
     "output_type": "display_data"
    }
   ],
   "source": [
    "# CHOOSE THE TWO TARGETED POPULATIONS\n",
    "pop1<-'BFgam'\n",
    "pop2<-'CMgam'\n",
    "haplotype1<-haplotype[label==pop1,]\n",
    "haplotype2<-haplotype[label==pop2,]\n",
    "dim(haplotype1)\n",
    "dim(haplotype2)\n",
    "rm(haplotype); gc2(); "
   ]
  },
  {
   "cell_type": "code",
   "execution_count": 5,
   "id": "0658a234",
   "metadata": {},
   "outputs": [],
   "source": [
    "# FILTER MAF ON THE COMBINED POPULATION. RETAIN THE ALLELE FREQ (freq) VECTOR\n",
    "mode(haplotype1)<-'numeric'\n",
    "mode(haplotype2)<-'numeric'\n",
    "freq<-apply(rbind(haplotype1, haplotype2), 2, fsum)/(nrow(haplotype1)+nrow(haplotype2))\n",
    "maf<-freq\n",
    "maf[maf>0.5]<-1-maf[maf>0.5]"
   ]
  },
  {
   "cell_type": "code",
   "execution_count": 6,
   "id": "6af21eea",
   "metadata": {},
   "outputs": [
    {
     "data": {
      "text/html": [
       "107195"
      ],
      "text/latex": [
       "107195"
      ],
      "text/markdown": [
       "107195"
      ],
      "text/plain": [
       "[1] 107195"
      ]
     },
     "metadata": {},
     "output_type": "display_data"
    },
    {
     "data": {
      "text/html": [
       "<ol class=list-inline>\n",
       "\t<li>184</li>\n",
       "\t<li>107195</li>\n",
       "</ol>\n"
      ],
      "text/latex": [
       "\\begin{enumerate*}\n",
       "\\item 184\n",
       "\\item 107195\n",
       "\\end{enumerate*}\n"
      ],
      "text/markdown": [
       "1. 184\n",
       "2. 107195\n",
       "\n",
       "\n"
      ],
      "text/plain": [
       "[1]    184 107195"
      ]
     },
     "metadata": {},
     "output_type": "display_data"
    },
    {
     "data": {
      "text/html": [
       "<ol class=list-inline>\n",
       "\t<li>594</li>\n",
       "\t<li>107195</li>\n",
       "</ol>\n"
      ],
      "text/latex": [
       "\\begin{enumerate*}\n",
       "\\item 594\n",
       "\\item 107195\n",
       "\\end{enumerate*}\n"
      ],
      "text/markdown": [
       "1. 594\n",
       "2. 107195\n",
       "\n",
       "\n"
      ],
      "text/plain": [
       "[1]    594 107195"
      ]
     },
     "metadata": {},
     "output_type": "display_data"
    },
    {
     "data": {
      "text/html": [
       "107195"
      ],
      "text/latex": [
       "107195"
      ],
      "text/markdown": [
       "107195"
      ],
      "text/plain": [
       "[1] 107195"
      ]
     },
     "metadata": {},
     "output_type": "display_data"
    }
   ],
   "source": [
    "# SELECT LOCI WITH MAF>5%?\n",
    "s<-(maf>=0.05)\n",
    "sum(s)\n",
    "#plot(maf1, maf2)\n",
    "haplotype1<-haplotype1[,s]\n",
    "haplotype2<-haplotype2[,s]\n",
    "freq<-freq[s]\n",
    "POS<-POS[s]\n",
    "dim(haplotype1)\n",
    "dim(haplotype2)\n",
    "length(POS)\n",
    "rm(maf); rm(s); gc2(); \n",
    "# 107195 LOCI REMAINING"
   ]
  },
  {
   "cell_type": "code",
   "execution_count": 7,
   "id": "76ad0516",
   "metadata": {},
   "outputs": [
    {
     "data": {
      "text/html": [
       "1"
      ],
      "text/latex": [
       "1"
      ],
      "text/markdown": [
       "1"
      ],
      "text/plain": [
       "[1] 1"
      ]
     },
     "metadata": {},
     "output_type": "display_data"
    },
    {
     "data": {
      "text/html": [
       "0"
      ],
      "text/latex": [
       "0"
      ],
      "text/markdown": [
       "0"
      ],
      "text/plain": [
       "[1] 0"
      ]
     },
     "metadata": {},
     "output_type": "display_data"
    },
    {
     "data": {
      "text/html": [
       "0"
      ],
      "text/latex": [
       "0"
      ],
      "text/markdown": [
       "0"
      ],
      "text/plain": [
       "[1] 0"
      ]
     },
     "metadata": {},
     "output_type": "display_data"
    },
    {
     "data": {
      "text/html": [
       "0"
      ],
      "text/latex": [
       "0"
      ],
      "text/markdown": [
       "0"
      ],
      "text/plain": [
       "[1] 0"
      ]
     },
     "metadata": {},
     "output_type": "display_data"
    }
   ],
   "source": [
    "# I DON'T THINK I NEED ANOTHER ROUND OF LD PRUNNING. \n",
    "# NOW LOOK AT PRIVATE ALLELES OUT OF THESE 107195 LOCI?\n",
    "freq1<-apply(haplotype1, 2, fsum)/nrow(haplotype1)\n",
    "freq2<-apply(haplotype2, 2, fsum)/nrow(haplotype2)\n",
    "\n",
    "sum(freq1==0 & freq2>0)\n",
    "sum(freq1==1 & freq1<1)\n",
    "sum(freq2==0 & freq1>0)\n",
    "sum(freq2==1 & freq1<1)\n",
    "rm(freq1); rm(freq2); gc2(); \n",
    "# SO THE CONCLUSION IS THAT THERE AREN'T TOO MANY PRIVATE ALLELES IN THIS EXAMPLE"
   ]
  },
  {
   "cell_type": "code",
   "execution_count": 8,
   "id": "9906040b",
   "metadata": {},
   "outputs": [
    {
     "data": {
      "text/html": [
       "<ol class=list-inline>\n",
       "\t<li>92</li>\n",
       "\t<li>107195</li>\n",
       "</ol>\n"
      ],
      "text/latex": [
       "\\begin{enumerate*}\n",
       "\\item 92\n",
       "\\item 107195\n",
       "\\end{enumerate*}\n"
      ],
      "text/markdown": [
       "1. 92\n",
       "2. 107195\n",
       "\n",
       "\n"
      ],
      "text/plain": [
       "[1]     92 107195"
      ]
     },
     "metadata": {},
     "output_type": "display_data"
    },
    {
     "data": {
      "text/html": [
       "<ol class=list-inline>\n",
       "\t<li>297</li>\n",
       "\t<li>107195</li>\n",
       "</ol>\n"
      ],
      "text/latex": [
       "\\begin{enumerate*}\n",
       "\\item 297\n",
       "\\item 107195\n",
       "\\end{enumerate*}\n"
      ],
      "text/markdown": [
       "1. 297\n",
       "2. 107195\n",
       "\n",
       "\n"
      ],
      "text/plain": [
       "[1]    297 107195"
      ]
     },
     "metadata": {},
     "output_type": "display_data"
    }
   ],
   "source": [
    "# CREATE GENOTYPE DATASETS AND POPULATION LABELS\n",
    "odd<-seq(1, nrow(haplotype1), 2)\n",
    "even<-seq(2, nrow(haplotype1), 2)\n",
    "genotype1<-haplotype1[odd,]+haplotype1[even,]\n",
    "rm(odd); rm(even);\n",
    "odd<-seq(1, nrow(haplotype2), 2)\n",
    "even<-seq(2, nrow(haplotype2), 2)\n",
    "genotype2<-haplotype2[odd,]+haplotype2[even,]\n",
    "rm(odd); rm(even);\n",
    "dim(genotype1)\n",
    "dim(genotype2)\n",
    "genotype_both<-rbind(genotype1, genotype2)\n",
    "label1<-rep(pop1, nrow(genotype1))\n",
    "label2<-rep(pop2, nrow(genotype2))\n",
    "label_both<-c(label1, label2)\n",
    "col1<-rep(1, nrow(genotype1))\n",
    "col2<-rep(2, nrow(genotype2))\n",
    "col_both<-c(col1, col2)\n",
    "rm(haplotype1); rm(haplotype2); gc2();"
   ]
  },
  {
   "cell_type": "code",
   "execution_count": 9,
   "id": "e0d7ca00",
   "metadata": {},
   "outputs": [],
   "source": [
    "# SUPERVISED LEARNING\n",
    "# THE PLAN IS USE LOGISTIC REGRESSION AS THE CLASSIFIER\n",
    "# BUT THE FIRST STEP IS ALWATS TO SPLIT INTO TRAINING AND TESTING SET. 80:20, STRATIFIED. \n",
    "set.seed(12345)\n",
    "s<-sample(nrow(genotype1), size=round(0.8*nrow(genotype1)))\n",
    "train_genotype1<-genotype1[s,]\n",
    "test_genotype1<-genotype1[-s,]\n",
    "train_label1<-label1[s]\n",
    "test_label1<-label1[-s]\n",
    "train_col1<-col1[s]\n",
    "test_col1<-col1[-s]\n",
    "rm(s)\n",
    "s<-sample(nrow(genotype2), size=round(0.8*nrow(genotype2)))\n",
    "train_genotype2<-genotype2[s,]\n",
    "test_genotype2<-genotype2[-s,]\n",
    "train_label2<-label2[s]\n",
    "test_label2<-label2[-s]\n",
    "train_col2<-col2[s]\n",
    "test_col2<-col2[-s]\n",
    "rm(s)\n",
    "# COMBINE THE TWO POPULATIONS\n",
    "train_genotype<-rbind(train_genotype1, train_genotype2)\n",
    "train_label<-c(train_label1, train_label2)\n",
    "train_col<-c(train_col1, train_col2)\n",
    "test_genotype<-rbind(test_genotype1, test_genotype2)\n",
    "test_label<-c(test_label1, test_label2)\n",
    "test_col<-c(test_col1, test_col2)\n",
    "# y IS THE NUMERIC VERSION OF train_label. 0=pop1, 1=pop2\n",
    "y<-as.numeric(train_label==pop2)"
   ]
  },
  {
   "cell_type": "code",
   "execution_count": 10,
   "id": "95bf747a",
   "metadata": {},
   "outputs": [],
   "source": [
    "# CHECK DIMINSIONS (OPTIONAL, JUST FOR ERROR CHECKING)\n",
    "#dim(train_genotype)\n",
    "#length(train_label)\n",
    "#length(train_col)\n",
    "#dim(test_genotype)\n",
    "#length(test_label)\n",
    "#length(test_col)"
   ]
  },
  {
   "cell_type": "code",
   "execution_count": 11,
   "id": "9a005ec2",
   "metadata": {},
   "outputs": [],
   "source": [
    "# 1) LOGISTIC REGRESSION ON THE RAW GENOTYPE. WILL IT WORK?\n",
    "#m<-glm(train_label~train_genotype, family='binomial')"
   ]
  },
  {
   "cell_type": "code",
   "execution_count": 12,
   "id": "8c597526",
   "metadata": {},
   "outputs": [
    {
     "data": {
      "text/plain": [
       "   user  system elapsed \n",
       "   3.78    0.00    3.79 "
      ]
     },
     "metadata": {},
     "output_type": "display_data"
    },
    {
     "data": {
      "text/html": [
       "-6.54599716654047e-08"
      ],
      "text/latex": [
       "-6.54599716654047e-08"
      ],
      "text/markdown": [
       "-6.54599716654047e-08"
      ],
      "text/plain": [
       "[1] -6.545997e-08"
      ]
     },
     "metadata": {},
     "output_type": "display_data"
    }
   ],
   "source": [
    "# THE PLAIN VANILLA glm() IS TOO SLOW\n",
    "# TRY USING fastLR() FROM RcppNumerical PACKAGE\n",
    "\n",
    "system.time(m<-fastLR(y=y, x=train_genotype, maxit=1000))\n",
    "# THE MAXIMISED LOG-LIKELIHOOD VALUE\n",
    "m$loglikelihood"
   ]
  },
  {
   "cell_type": "code",
   "execution_count": 35,
   "id": "d697355c",
   "metadata": {},
   "outputs": [
    {
     "data": {
      "text/html": [
       "<table>\n",
       "<thead><tr><th scope=col>linear_predictor</th><th scope=col>train_label</th></tr></thead>\n",
       "<tbody>\n",
       "\t<tr><td>-26.22508</td><td>BFgam    </td></tr>\n",
       "\t<tr><td>-29.29594</td><td>BFgam    </td></tr>\n",
       "\t<tr><td>-32.55754</td><td>BFgam    </td></tr>\n",
       "\t<tr><td>-28.51164</td><td>BFgam    </td></tr>\n",
       "\t<tr><td>-23.74435</td><td>BFgam    </td></tr>\n",
       "\t<tr><td>-22.53583</td><td>BFgam    </td></tr>\n",
       "\t<tr><td>-25.79279</td><td>BFgam    </td></tr>\n",
       "\t<tr><td>-28.41861</td><td>BFgam    </td></tr>\n",
       "\t<tr><td>-22.87849</td><td>BFgam    </td></tr>\n",
       "\t<tr><td>-27.42624</td><td>BFgam    </td></tr>\n",
       "\t<tr><td>-30.69367</td><td>BFgam    </td></tr>\n",
       "\t<tr><td>-22.30587</td><td>BFgam    </td></tr>\n",
       "\t<tr><td>-24.15418</td><td>BFgam    </td></tr>\n",
       "\t<tr><td>-24.99716</td><td>BFgam    </td></tr>\n",
       "\t<tr><td>-32.89317</td><td>BFgam    </td></tr>\n",
       "\t<tr><td>-26.61426</td><td>BFgam    </td></tr>\n",
       "\t<tr><td>-27.98671</td><td>BFgam    </td></tr>\n",
       "\t<tr><td>-23.21943</td><td>BFgam    </td></tr>\n",
       "\t<tr><td>-27.42610</td><td>BFgam    </td></tr>\n",
       "\t<tr><td>-26.53138</td><td>BFgam    </td></tr>\n",
       "\t<tr><td>-26.91509</td><td>BFgam    </td></tr>\n",
       "\t<tr><td>-27.10016</td><td>BFgam    </td></tr>\n",
       "\t<tr><td>-23.78743</td><td>BFgam    </td></tr>\n",
       "\t<tr><td>-19.82289</td><td>BFgam    </td></tr>\n",
       "\t<tr><td>-25.77270</td><td>BFgam    </td></tr>\n",
       "\t<tr><td>-41.78311</td><td>BFgam    </td></tr>\n",
       "\t<tr><td>-27.40369</td><td>BFgam    </td></tr>\n",
       "\t<tr><td>-20.60363</td><td>BFgam    </td></tr>\n",
       "\t<tr><td>-22.24553</td><td>BFgam    </td></tr>\n",
       "\t<tr><td>-35.68322</td><td>BFgam    </td></tr>\n",
       "\t<tr><td>...</td><td>...</td></tr>\n",
       "\t<tr><td>26.08392</td><td>CMgam   </td></tr>\n",
       "\t<tr><td>31.79921</td><td>CMgam   </td></tr>\n",
       "\t<tr><td>26.11345</td><td>CMgam   </td></tr>\n",
       "\t<tr><td>21.50479</td><td>CMgam   </td></tr>\n",
       "\t<tr><td>21.64376</td><td>CMgam   </td></tr>\n",
       "\t<tr><td>25.70994</td><td>CMgam   </td></tr>\n",
       "\t<tr><td>26.37955</td><td>CMgam   </td></tr>\n",
       "\t<tr><td>31.75565</td><td>CMgam   </td></tr>\n",
       "\t<tr><td>24.71657</td><td>CMgam   </td></tr>\n",
       "\t<tr><td>23.40744</td><td>CMgam   </td></tr>\n",
       "\t<tr><td>25.77599</td><td>CMgam   </td></tr>\n",
       "\t<tr><td>26.96725</td><td>CMgam   </td></tr>\n",
       "\t<tr><td>23.41960</td><td>CMgam   </td></tr>\n",
       "\t<tr><td>25.43009</td><td>CMgam   </td></tr>\n",
       "\t<tr><td>23.16022</td><td>CMgam   </td></tr>\n",
       "\t<tr><td>23.46759</td><td>CMgam   </td></tr>\n",
       "\t<tr><td>23.26549</td><td>CMgam   </td></tr>\n",
       "\t<tr><td>21.28700</td><td>CMgam   </td></tr>\n",
       "\t<tr><td>33.26507</td><td>CMgam   </td></tr>\n",
       "\t<tr><td>31.22779</td><td>CMgam   </td></tr>\n",
       "\t<tr><td>25.55225</td><td>CMgam   </td></tr>\n",
       "\t<tr><td>23.60532</td><td>CMgam   </td></tr>\n",
       "\t<tr><td>24.48637</td><td>CMgam   </td></tr>\n",
       "\t<tr><td>39.08892</td><td>CMgam   </td></tr>\n",
       "\t<tr><td>35.49194</td><td>CMgam   </td></tr>\n",
       "\t<tr><td>22.16475</td><td>CMgam   </td></tr>\n",
       "\t<tr><td>47.55116</td><td>CMgam   </td></tr>\n",
       "\t<tr><td>30.72957</td><td>CMgam   </td></tr>\n",
       "\t<tr><td>23.54528</td><td>CMgam   </td></tr>\n",
       "\t<tr><td>25.02737</td><td>CMgam   </td></tr>\n",
       "</tbody>\n",
       "</table>\n"
      ],
      "text/latex": [
       "\\begin{tabular}{r|ll}\n",
       " linear\\_predictor & train\\_label\\\\\n",
       "\\hline\n",
       "\t -26.22508 & BFgam    \\\\\n",
       "\t -29.29594 & BFgam    \\\\\n",
       "\t -32.55754 & BFgam    \\\\\n",
       "\t -28.51164 & BFgam    \\\\\n",
       "\t -23.74435 & BFgam    \\\\\n",
       "\t -22.53583 & BFgam    \\\\\n",
       "\t -25.79279 & BFgam    \\\\\n",
       "\t -28.41861 & BFgam    \\\\\n",
       "\t -22.87849 & BFgam    \\\\\n",
       "\t -27.42624 & BFgam    \\\\\n",
       "\t -30.69367 & BFgam    \\\\\n",
       "\t -22.30587 & BFgam    \\\\\n",
       "\t -24.15418 & BFgam    \\\\\n",
       "\t -24.99716 & BFgam    \\\\\n",
       "\t -32.89317 & BFgam    \\\\\n",
       "\t -26.61426 & BFgam    \\\\\n",
       "\t -27.98671 & BFgam    \\\\\n",
       "\t -23.21943 & BFgam    \\\\\n",
       "\t -27.42610 & BFgam    \\\\\n",
       "\t -26.53138 & BFgam    \\\\\n",
       "\t -26.91509 & BFgam    \\\\\n",
       "\t -27.10016 & BFgam    \\\\\n",
       "\t -23.78743 & BFgam    \\\\\n",
       "\t -19.82289 & BFgam    \\\\\n",
       "\t -25.77270 & BFgam    \\\\\n",
       "\t -41.78311 & BFgam    \\\\\n",
       "\t -27.40369 & BFgam    \\\\\n",
       "\t -20.60363 & BFgam    \\\\\n",
       "\t -22.24553 & BFgam    \\\\\n",
       "\t -35.68322 & BFgam    \\\\\n",
       "\t ... & ...\\\\\n",
       "\t 26.08392 & CMgam   \\\\\n",
       "\t 31.79921 & CMgam   \\\\\n",
       "\t 26.11345 & CMgam   \\\\\n",
       "\t 21.50479 & CMgam   \\\\\n",
       "\t 21.64376 & CMgam   \\\\\n",
       "\t 25.70994 & CMgam   \\\\\n",
       "\t 26.37955 & CMgam   \\\\\n",
       "\t 31.75565 & CMgam   \\\\\n",
       "\t 24.71657 & CMgam   \\\\\n",
       "\t 23.40744 & CMgam   \\\\\n",
       "\t 25.77599 & CMgam   \\\\\n",
       "\t 26.96725 & CMgam   \\\\\n",
       "\t 23.41960 & CMgam   \\\\\n",
       "\t 25.43009 & CMgam   \\\\\n",
       "\t 23.16022 & CMgam   \\\\\n",
       "\t 23.46759 & CMgam   \\\\\n",
       "\t 23.26549 & CMgam   \\\\\n",
       "\t 21.28700 & CMgam   \\\\\n",
       "\t 33.26507 & CMgam   \\\\\n",
       "\t 31.22779 & CMgam   \\\\\n",
       "\t 25.55225 & CMgam   \\\\\n",
       "\t 23.60532 & CMgam   \\\\\n",
       "\t 24.48637 & CMgam   \\\\\n",
       "\t 39.08892 & CMgam   \\\\\n",
       "\t 35.49194 & CMgam   \\\\\n",
       "\t 22.16475 & CMgam   \\\\\n",
       "\t 47.55116 & CMgam   \\\\\n",
       "\t 30.72957 & CMgam   \\\\\n",
       "\t 23.54528 & CMgam   \\\\\n",
       "\t 25.02737 & CMgam   \\\\\n",
       "\\end{tabular}\n"
      ],
      "text/markdown": [
       "\n",
       "| linear_predictor | train_label |\n",
       "|---|---|\n",
       "| -26.22508 | BFgam     |\n",
       "| -29.29594 | BFgam     |\n",
       "| -32.55754 | BFgam     |\n",
       "| -28.51164 | BFgam     |\n",
       "| -23.74435 | BFgam     |\n",
       "| -22.53583 | BFgam     |\n",
       "| -25.79279 | BFgam     |\n",
       "| -28.41861 | BFgam     |\n",
       "| -22.87849 | BFgam     |\n",
       "| -27.42624 | BFgam     |\n",
       "| -30.69367 | BFgam     |\n",
       "| -22.30587 | BFgam     |\n",
       "| -24.15418 | BFgam     |\n",
       "| -24.99716 | BFgam     |\n",
       "| -32.89317 | BFgam     |\n",
       "| -26.61426 | BFgam     |\n",
       "| -27.98671 | BFgam     |\n",
       "| -23.21943 | BFgam     |\n",
       "| -27.42610 | BFgam     |\n",
       "| -26.53138 | BFgam     |\n",
       "| -26.91509 | BFgam     |\n",
       "| -27.10016 | BFgam     |\n",
       "| -23.78743 | BFgam     |\n",
       "| -19.82289 | BFgam     |\n",
       "| -25.77270 | BFgam     |\n",
       "| -41.78311 | BFgam     |\n",
       "| -27.40369 | BFgam     |\n",
       "| -20.60363 | BFgam     |\n",
       "| -22.24553 | BFgam     |\n",
       "| -35.68322 | BFgam     |\n",
       "| ... | ... |\n",
       "| 26.08392 | CMgam    |\n",
       "| 31.79921 | CMgam    |\n",
       "| 26.11345 | CMgam    |\n",
       "| 21.50479 | CMgam    |\n",
       "| 21.64376 | CMgam    |\n",
       "| 25.70994 | CMgam    |\n",
       "| 26.37955 | CMgam    |\n",
       "| 31.75565 | CMgam    |\n",
       "| 24.71657 | CMgam    |\n",
       "| 23.40744 | CMgam    |\n",
       "| 25.77599 | CMgam    |\n",
       "| 26.96725 | CMgam    |\n",
       "| 23.41960 | CMgam    |\n",
       "| 25.43009 | CMgam    |\n",
       "| 23.16022 | CMgam    |\n",
       "| 23.46759 | CMgam    |\n",
       "| 23.26549 | CMgam    |\n",
       "| 21.28700 | CMgam    |\n",
       "| 33.26507 | CMgam    |\n",
       "| 31.22779 | CMgam    |\n",
       "| 25.55225 | CMgam    |\n",
       "| 23.60532 | CMgam    |\n",
       "| 24.48637 | CMgam    |\n",
       "| 39.08892 | CMgam    |\n",
       "| 35.49194 | CMgam    |\n",
       "| 22.16475 | CMgam    |\n",
       "| 47.55116 | CMgam    |\n",
       "| 30.72957 | CMgam    |\n",
       "| 23.54528 | CMgam    |\n",
       "| 25.02737 | CMgam    |\n",
       "\n"
      ],
      "text/plain": [
       "    linear_predictor train_label\n",
       "1   -26.22508        BFgam      \n",
       "2   -29.29594        BFgam      \n",
       "3   -32.55754        BFgam      \n",
       "4   -28.51164        BFgam      \n",
       "5   -23.74435        BFgam      \n",
       "6   -22.53583        BFgam      \n",
       "7   -25.79279        BFgam      \n",
       "8   -28.41861        BFgam      \n",
       "9   -22.87849        BFgam      \n",
       "10  -27.42624        BFgam      \n",
       "11  -30.69367        BFgam      \n",
       "12  -22.30587        BFgam      \n",
       "13  -24.15418        BFgam      \n",
       "14  -24.99716        BFgam      \n",
       "15  -32.89317        BFgam      \n",
       "16  -26.61426        BFgam      \n",
       "17  -27.98671        BFgam      \n",
       "18  -23.21943        BFgam      \n",
       "19  -27.42610        BFgam      \n",
       "20  -26.53138        BFgam      \n",
       "21  -26.91509        BFgam      \n",
       "22  -27.10016        BFgam      \n",
       "23  -23.78743        BFgam      \n",
       "24  -19.82289        BFgam      \n",
       "25  -25.77270        BFgam      \n",
       "26  -41.78311        BFgam      \n",
       "27  -27.40369        BFgam      \n",
       "28  -20.60363        BFgam      \n",
       "29  -22.24553        BFgam      \n",
       "30  -35.68322        BFgam      \n",
       "... ...              ...        \n",
       "283 26.08392         CMgam      \n",
       "284 31.79921         CMgam      \n",
       "285 26.11345         CMgam      \n",
       "286 21.50479         CMgam      \n",
       "287 21.64376         CMgam      \n",
       "288 25.70994         CMgam      \n",
       "289 26.37955         CMgam      \n",
       "290 31.75565         CMgam      \n",
       "291 24.71657         CMgam      \n",
       "292 23.40744         CMgam      \n",
       "293 25.77599         CMgam      \n",
       "294 26.96725         CMgam      \n",
       "295 23.41960         CMgam      \n",
       "296 25.43009         CMgam      \n",
       "297 23.16022         CMgam      \n",
       "298 23.46759         CMgam      \n",
       "299 23.26549         CMgam      \n",
       "300 21.28700         CMgam      \n",
       "301 33.26507         CMgam      \n",
       "302 31.22779         CMgam      \n",
       "303 25.55225         CMgam      \n",
       "304 23.60532         CMgam      \n",
       "305 24.48637         CMgam      \n",
       "306 39.08892         CMgam      \n",
       "307 35.49194         CMgam      \n",
       "308 22.16475         CMgam      \n",
       "309 47.55116         CMgam      \n",
       "310 30.72957         CMgam      \n",
       "311 23.54528         CMgam      \n",
       "312 25.02737         CMgam      "
      ]
     },
     "metadata": {},
     "output_type": "display_data"
    }
   ],
   "source": [
    "# TO SEE THE FITTED VALUES OF THE TRAIN SET\n",
    "# temp IS THE LINEAR PREDICTOR. IF temp<0 IT IS pop1=BFgam\n",
    "temp<-train_genotype%*%m$coefficients\n",
    "data.frame(linear_predictor=temp, train_label=train_label)"
   ]
  },
  {
   "cell_type": "code",
   "execution_count": 36,
   "id": "62a6299f",
   "metadata": {},
   "outputs": [
    {
     "data": {
      "text/html": [
       "<table>\n",
       "<thead><tr><th scope=col>linear_predictor</th><th scope=col>test_label</th></tr></thead>\n",
       "<tbody>\n",
       "\t<tr><td>-0.3843686</td><td>BFgam     </td></tr>\n",
       "\t<tr><td>-0.2984299</td><td>BFgam     </td></tr>\n",
       "\t<tr><td> 6.9381474</td><td>BFgam     </td></tr>\n",
       "\t<tr><td> 5.8193715</td><td>BFgam     </td></tr>\n",
       "\t<tr><td>-2.0617227</td><td>BFgam     </td></tr>\n",
       "\t<tr><td> 5.5302051</td><td>BFgam     </td></tr>\n",
       "\t<tr><td> 4.2745577</td><td>BFgam     </td></tr>\n",
       "\t<tr><td> 1.6610976</td><td>BFgam     </td></tr>\n",
       "\t<tr><td> 4.9677042</td><td>BFgam     </td></tr>\n",
       "\t<tr><td> 7.5921681</td><td>BFgam     </td></tr>\n",
       "\t<tr><td> 2.6233048</td><td>BFgam     </td></tr>\n",
       "\t<tr><td> 1.6083544</td><td>BFgam     </td></tr>\n",
       "\t<tr><td> 2.5486269</td><td>BFgam     </td></tr>\n",
       "\t<tr><td> 6.8331231</td><td>BFgam     </td></tr>\n",
       "\t<tr><td> 0.8654636</td><td>BFgam     </td></tr>\n",
       "\t<tr><td> 7.6507979</td><td>BFgam     </td></tr>\n",
       "\t<tr><td> 2.1270856</td><td>BFgam     </td></tr>\n",
       "\t<tr><td>-9.7642055</td><td>BFgam     </td></tr>\n",
       "\t<tr><td>19.3900866</td><td>CMgam     </td></tr>\n",
       "\t<tr><td>20.6320765</td><td>CMgam     </td></tr>\n",
       "\t<tr><td>12.2087449</td><td>CMgam     </td></tr>\n",
       "\t<tr><td>16.6897644</td><td>CMgam     </td></tr>\n",
       "\t<tr><td>17.9825644</td><td>CMgam     </td></tr>\n",
       "\t<tr><td>13.5838369</td><td>CMgam     </td></tr>\n",
       "\t<tr><td>14.9281103</td><td>CMgam     </td></tr>\n",
       "\t<tr><td>16.7202197</td><td>CMgam     </td></tr>\n",
       "\t<tr><td>15.7816466</td><td>CMgam     </td></tr>\n",
       "\t<tr><td>15.2421061</td><td>CMgam     </td></tr>\n",
       "\t<tr><td>20.0977558</td><td>CMgam     </td></tr>\n",
       "\t<tr><td>17.2340303</td><td>CMgam     </td></tr>\n",
       "\t<tr><td>...</td><td>...</td></tr>\n",
       "\t<tr><td>14.31975</td><td>CMgam   </td></tr>\n",
       "\t<tr><td>25.08238</td><td>CMgam   </td></tr>\n",
       "\t<tr><td>23.43815</td><td>CMgam   </td></tr>\n",
       "\t<tr><td>27.71836</td><td>CMgam   </td></tr>\n",
       "\t<tr><td>12.95609</td><td>CMgam   </td></tr>\n",
       "\t<tr><td>26.88550</td><td>CMgam   </td></tr>\n",
       "\t<tr><td>17.58164</td><td>CMgam   </td></tr>\n",
       "\t<tr><td>22.27832</td><td>CMgam   </td></tr>\n",
       "\t<tr><td>15.52611</td><td>CMgam   </td></tr>\n",
       "\t<tr><td>36.93721</td><td>CMgam   </td></tr>\n",
       "\t<tr><td>24.02889</td><td>CMgam   </td></tr>\n",
       "\t<tr><td>15.71756</td><td>CMgam   </td></tr>\n",
       "\t<tr><td>19.45663</td><td>CMgam   </td></tr>\n",
       "\t<tr><td>10.49861</td><td>CMgam   </td></tr>\n",
       "\t<tr><td>12.33013</td><td>CMgam   </td></tr>\n",
       "\t<tr><td>15.86007</td><td>CMgam   </td></tr>\n",
       "\t<tr><td>16.99845</td><td>CMgam   </td></tr>\n",
       "\t<tr><td>11.40541</td><td>CMgam   </td></tr>\n",
       "\t<tr><td>18.12718</td><td>CMgam   </td></tr>\n",
       "\t<tr><td>15.22855</td><td>CMgam   </td></tr>\n",
       "\t<tr><td>14.91874</td><td>CMgam   </td></tr>\n",
       "\t<tr><td>20.05508</td><td>CMgam   </td></tr>\n",
       "\t<tr><td>22.51009</td><td>CMgam   </td></tr>\n",
       "\t<tr><td>21.76879</td><td>CMgam   </td></tr>\n",
       "\t<tr><td>12.46284</td><td>CMgam   </td></tr>\n",
       "\t<tr><td>15.60015</td><td>CMgam   </td></tr>\n",
       "\t<tr><td>11.72232</td><td>CMgam   </td></tr>\n",
       "\t<tr><td>14.28774</td><td>CMgam   </td></tr>\n",
       "\t<tr><td>14.70518</td><td>CMgam   </td></tr>\n",
       "\t<tr><td>12.61948</td><td>CMgam   </td></tr>\n",
       "</tbody>\n",
       "</table>\n"
      ],
      "text/latex": [
       "\\begin{tabular}{r|ll}\n",
       " linear\\_predictor & test\\_label\\\\\n",
       "\\hline\n",
       "\t -0.3843686 & BFgam     \\\\\n",
       "\t -0.2984299 & BFgam     \\\\\n",
       "\t  6.9381474 & BFgam     \\\\\n",
       "\t  5.8193715 & BFgam     \\\\\n",
       "\t -2.0617227 & BFgam     \\\\\n",
       "\t  5.5302051 & BFgam     \\\\\n",
       "\t  4.2745577 & BFgam     \\\\\n",
       "\t  1.6610976 & BFgam     \\\\\n",
       "\t  4.9677042 & BFgam     \\\\\n",
       "\t  7.5921681 & BFgam     \\\\\n",
       "\t  2.6233048 & BFgam     \\\\\n",
       "\t  1.6083544 & BFgam     \\\\\n",
       "\t  2.5486269 & BFgam     \\\\\n",
       "\t  6.8331231 & BFgam     \\\\\n",
       "\t  0.8654636 & BFgam     \\\\\n",
       "\t  7.6507979 & BFgam     \\\\\n",
       "\t  2.1270856 & BFgam     \\\\\n",
       "\t -9.7642055 & BFgam     \\\\\n",
       "\t 19.3900866 & CMgam     \\\\\n",
       "\t 20.6320765 & CMgam     \\\\\n",
       "\t 12.2087449 & CMgam     \\\\\n",
       "\t 16.6897644 & CMgam     \\\\\n",
       "\t 17.9825644 & CMgam     \\\\\n",
       "\t 13.5838369 & CMgam     \\\\\n",
       "\t 14.9281103 & CMgam     \\\\\n",
       "\t 16.7202197 & CMgam     \\\\\n",
       "\t 15.7816466 & CMgam     \\\\\n",
       "\t 15.2421061 & CMgam     \\\\\n",
       "\t 20.0977558 & CMgam     \\\\\n",
       "\t 17.2340303 & CMgam     \\\\\n",
       "\t ... & ...\\\\\n",
       "\t 14.31975 & CMgam   \\\\\n",
       "\t 25.08238 & CMgam   \\\\\n",
       "\t 23.43815 & CMgam   \\\\\n",
       "\t 27.71836 & CMgam   \\\\\n",
       "\t 12.95609 & CMgam   \\\\\n",
       "\t 26.88550 & CMgam   \\\\\n",
       "\t 17.58164 & CMgam   \\\\\n",
       "\t 22.27832 & CMgam   \\\\\n",
       "\t 15.52611 & CMgam   \\\\\n",
       "\t 36.93721 & CMgam   \\\\\n",
       "\t 24.02889 & CMgam   \\\\\n",
       "\t 15.71756 & CMgam   \\\\\n",
       "\t 19.45663 & CMgam   \\\\\n",
       "\t 10.49861 & CMgam   \\\\\n",
       "\t 12.33013 & CMgam   \\\\\n",
       "\t 15.86007 & CMgam   \\\\\n",
       "\t 16.99845 & CMgam   \\\\\n",
       "\t 11.40541 & CMgam   \\\\\n",
       "\t 18.12718 & CMgam   \\\\\n",
       "\t 15.22855 & CMgam   \\\\\n",
       "\t 14.91874 & CMgam   \\\\\n",
       "\t 20.05508 & CMgam   \\\\\n",
       "\t 22.51009 & CMgam   \\\\\n",
       "\t 21.76879 & CMgam   \\\\\n",
       "\t 12.46284 & CMgam   \\\\\n",
       "\t 15.60015 & CMgam   \\\\\n",
       "\t 11.72232 & CMgam   \\\\\n",
       "\t 14.28774 & CMgam   \\\\\n",
       "\t 14.70518 & CMgam   \\\\\n",
       "\t 12.61948 & CMgam   \\\\\n",
       "\\end{tabular}\n"
      ],
      "text/markdown": [
       "\n",
       "| linear_predictor | test_label |\n",
       "|---|---|\n",
       "| -0.3843686 | BFgam      |\n",
       "| -0.2984299 | BFgam      |\n",
       "|  6.9381474 | BFgam      |\n",
       "|  5.8193715 | BFgam      |\n",
       "| -2.0617227 | BFgam      |\n",
       "|  5.5302051 | BFgam      |\n",
       "|  4.2745577 | BFgam      |\n",
       "|  1.6610976 | BFgam      |\n",
       "|  4.9677042 | BFgam      |\n",
       "|  7.5921681 | BFgam      |\n",
       "|  2.6233048 | BFgam      |\n",
       "|  1.6083544 | BFgam      |\n",
       "|  2.5486269 | BFgam      |\n",
       "|  6.8331231 | BFgam      |\n",
       "|  0.8654636 | BFgam      |\n",
       "|  7.6507979 | BFgam      |\n",
       "|  2.1270856 | BFgam      |\n",
       "| -9.7642055 | BFgam      |\n",
       "| 19.3900866 | CMgam      |\n",
       "| 20.6320765 | CMgam      |\n",
       "| 12.2087449 | CMgam      |\n",
       "| 16.6897644 | CMgam      |\n",
       "| 17.9825644 | CMgam      |\n",
       "| 13.5838369 | CMgam      |\n",
       "| 14.9281103 | CMgam      |\n",
       "| 16.7202197 | CMgam      |\n",
       "| 15.7816466 | CMgam      |\n",
       "| 15.2421061 | CMgam      |\n",
       "| 20.0977558 | CMgam      |\n",
       "| 17.2340303 | CMgam      |\n",
       "| ... | ... |\n",
       "| 14.31975 | CMgam    |\n",
       "| 25.08238 | CMgam    |\n",
       "| 23.43815 | CMgam    |\n",
       "| 27.71836 | CMgam    |\n",
       "| 12.95609 | CMgam    |\n",
       "| 26.88550 | CMgam    |\n",
       "| 17.58164 | CMgam    |\n",
       "| 22.27832 | CMgam    |\n",
       "| 15.52611 | CMgam    |\n",
       "| 36.93721 | CMgam    |\n",
       "| 24.02889 | CMgam    |\n",
       "| 15.71756 | CMgam    |\n",
       "| 19.45663 | CMgam    |\n",
       "| 10.49861 | CMgam    |\n",
       "| 12.33013 | CMgam    |\n",
       "| 15.86007 | CMgam    |\n",
       "| 16.99845 | CMgam    |\n",
       "| 11.40541 | CMgam    |\n",
       "| 18.12718 | CMgam    |\n",
       "| 15.22855 | CMgam    |\n",
       "| 14.91874 | CMgam    |\n",
       "| 20.05508 | CMgam    |\n",
       "| 22.51009 | CMgam    |\n",
       "| 21.76879 | CMgam    |\n",
       "| 12.46284 | CMgam    |\n",
       "| 15.60015 | CMgam    |\n",
       "| 11.72232 | CMgam    |\n",
       "| 14.28774 | CMgam    |\n",
       "| 14.70518 | CMgam    |\n",
       "| 12.61948 | CMgam    |\n",
       "\n"
      ],
      "text/plain": [
       "    linear_predictor test_label\n",
       "1   -0.3843686       BFgam     \n",
       "2   -0.2984299       BFgam     \n",
       "3    6.9381474       BFgam     \n",
       "4    5.8193715       BFgam     \n",
       "5   -2.0617227       BFgam     \n",
       "6    5.5302051       BFgam     \n",
       "7    4.2745577       BFgam     \n",
       "8    1.6610976       BFgam     \n",
       "9    4.9677042       BFgam     \n",
       "10   7.5921681       BFgam     \n",
       "11   2.6233048       BFgam     \n",
       "12   1.6083544       BFgam     \n",
       "13   2.5486269       BFgam     \n",
       "14   6.8331231       BFgam     \n",
       "15   0.8654636       BFgam     \n",
       "16   7.6507979       BFgam     \n",
       "17   2.1270856       BFgam     \n",
       "18  -9.7642055       BFgam     \n",
       "19  19.3900866       CMgam     \n",
       "20  20.6320765       CMgam     \n",
       "21  12.2087449       CMgam     \n",
       "22  16.6897644       CMgam     \n",
       "23  17.9825644       CMgam     \n",
       "24  13.5838369       CMgam     \n",
       "25  14.9281103       CMgam     \n",
       "26  16.7202197       CMgam     \n",
       "27  15.7816466       CMgam     \n",
       "28  15.2421061       CMgam     \n",
       "29  20.0977558       CMgam     \n",
       "30  17.2340303       CMgam     \n",
       "... ...              ...       \n",
       "48  14.31975         CMgam     \n",
       "49  25.08238         CMgam     \n",
       "50  23.43815         CMgam     \n",
       "51  27.71836         CMgam     \n",
       "52  12.95609         CMgam     \n",
       "53  26.88550         CMgam     \n",
       "54  17.58164         CMgam     \n",
       "55  22.27832         CMgam     \n",
       "56  15.52611         CMgam     \n",
       "57  36.93721         CMgam     \n",
       "58  24.02889         CMgam     \n",
       "59  15.71756         CMgam     \n",
       "60  19.45663         CMgam     \n",
       "61  10.49861         CMgam     \n",
       "62  12.33013         CMgam     \n",
       "63  15.86007         CMgam     \n",
       "64  16.99845         CMgam     \n",
       "65  11.40541         CMgam     \n",
       "66  18.12718         CMgam     \n",
       "67  15.22855         CMgam     \n",
       "68  14.91874         CMgam     \n",
       "69  20.05508         CMgam     \n",
       "70  22.51009         CMgam     \n",
       "71  21.76879         CMgam     \n",
       "72  12.46284         CMgam     \n",
       "73  15.60015         CMgam     \n",
       "74  11.72232         CMgam     \n",
       "75  14.28774         CMgam     \n",
       "76  14.70518         CMgam     \n",
       "77  12.61948         CMgam     "
      ]
     },
     "metadata": {},
     "output_type": "display_data"
    }
   ],
   "source": [
    "# HOW ABOUT FITTING TO THE TEST SET?\n",
    "# IT DOESN'T SEEM TO WORK AT ALL\n",
    "# OVERFITTING???\n",
    "temp<-test_genotype%*%m$coefficients\n",
    "data.frame(linear_predictor=temp, test_label=test_label)"
   ]
  },
  {
   "cell_type": "code",
   "execution_count": 37,
   "id": "9a92f39c",
   "metadata": {},
   "outputs": [
    {
     "data": {
      "text/html": [
       "0.818181818181818"
      ],
      "text/latex": [
       "0.818181818181818"
      ],
      "text/markdown": [
       "0.818181818181818"
      ],
      "text/plain": [
       "[1] 0.8181818"
      ]
     },
     "metadata": {},
     "output_type": "display_data"
    }
   ],
   "source": [
    "# TEST SET PREDICTION\n",
    "test_predict<-ifelse(temp<0, pop1, pop2)\n",
    "sum(test_predict==test_label)/length(test_predict)"
   ]
  },
  {
   "cell_type": "markdown",
   "id": "7b21ae3a",
   "metadata": {},
   "source": [
    "IGNORE THE THINGS BELOW\n",
    "29/07/2019\n",
    "\n",
    "I think I ran into the problem of overfitting. The fitted values of the training set is perfect. But when I apply the trained logistic model to the testing set, it doesn't work at all. \n"
   ]
  },
  {
   "cell_type": "code",
   "execution_count": 15,
   "id": "81d2a77f",
   "metadata": {},
   "outputs": [
    {
     "data": {
      "text/html": [
       "<table>\n",
       "<thead><tr><th scope=col>POS</th><th scope=col>coef</th></tr></thead>\n",
       "<tbody>\n",
       "\t<tr><td>30043067   </td><td>-0.03593741</td></tr>\n",
       "\t<tr><td>30041338   </td><td>-0.03566259</td></tr>\n",
       "\t<tr><td>28241498   </td><td>-0.03400762</td></tr>\n",
       "\t<tr><td>29309533   </td><td>-0.03319328</td></tr>\n",
       "\t<tr><td>31736265   </td><td> 0.03296181</td></tr>\n",
       "\t<tr><td> 6880356   </td><td>-0.03142650</td></tr>\n",
       "\t<tr><td>27264636   </td><td> 0.03101824</td></tr>\n",
       "\t<tr><td>31628425   </td><td> 0.03091367</td></tr>\n",
       "\t<tr><td>28630086   </td><td>-0.03090610</td></tr>\n",
       "\t<tr><td>27121724   </td><td>-0.03039591</td></tr>\n",
       "</tbody>\n",
       "</table>\n"
      ],
      "text/latex": [
       "\\begin{tabular}{r|ll}\n",
       " POS & coef\\\\\n",
       "\\hline\n",
       "\t 30043067    & -0.03593741\\\\\n",
       "\t 30041338    & -0.03566259\\\\\n",
       "\t 28241498    & -0.03400762\\\\\n",
       "\t 29309533    & -0.03319328\\\\\n",
       "\t 31736265    &  0.03296181\\\\\n",
       "\t  6880356    & -0.03142650\\\\\n",
       "\t 27264636    &  0.03101824\\\\\n",
       "\t 31628425    &  0.03091367\\\\\n",
       "\t 28630086    & -0.03090610\\\\\n",
       "\t 27121724    & -0.03039591\\\\\n",
       "\\end{tabular}\n"
      ],
      "text/markdown": [
       "\n",
       "| POS | coef |\n",
       "|---|---|\n",
       "| 30043067    | -0.03593741 |\n",
       "| 30041338    | -0.03566259 |\n",
       "| 28241498    | -0.03400762 |\n",
       "| 29309533    | -0.03319328 |\n",
       "| 31736265    |  0.03296181 |\n",
       "|  6880356    | -0.03142650 |\n",
       "| 27264636    |  0.03101824 |\n",
       "| 31628425    |  0.03091367 |\n",
       "| 28630086    | -0.03090610 |\n",
       "| 27121724    | -0.03039591 |\n",
       "\n"
      ],
      "text/plain": [
       "   POS      coef       \n",
       "1  30043067 -0.03593741\n",
       "2  30041338 -0.03566259\n",
       "3  28241498 -0.03400762\n",
       "4  29309533 -0.03319328\n",
       "5  31736265  0.03296181\n",
       "6   6880356 -0.03142650\n",
       "7  27264636  0.03101824\n",
       "8  31628425  0.03091367\n",
       "9  28630086 -0.03090610\n",
       "10 27121724 -0.03039591"
      ]
     },
     "metadata": {},
     "output_type": "display_data"
    },
    {
     "data": {
      "image/png": "[encoded data removed]",
      "text/plain": [
       "plot without title"
      ]
     },
     "metadata": {},
     "output_type": "display_data"
    }
   ],
   "source": [
    "# SNPs CONTRIBUTION?\n",
    "plot(m$coefficients)\n",
    "contribution_order<-order(abs(m$coefficients), decreasing=T)\n",
    "data.frame(POS=POS[contribution_order[1:10]], coef=m$coefficients[contribution_order[1:10]])"
   ]
  },
  {
   "cell_type": "code",
   "execution_count": 16,
   "id": "0f973872",
   "metadata": {},
   "outputs": [
    {
     "data": {
      "text/html": [
       "-0.00462402256695181"
      ],
      "text/latex": [
       "-0.00462402256695181"
      ],
      "text/markdown": [
       "-0.00462402256695181"
      ],
      "text/plain": [
       "[1] -0.004624023"
      ]
     },
     "metadata": {},
     "output_type": "display_data"
    },
    {
     "data": {
      "text/plain": [
       "   user  system elapsed \n",
       "   1.25    0.00    0.06 "
      ]
     },
     "metadata": {},
     "output_type": "display_data"
    }
   ],
   "source": [
    "# THE PLAIN VANILLA glm() IS TOO SLOW\n",
    "# TRY WRITING MY OWN LOGISTIC LOG-LIKELIHOOD FUNCTION INVERSE\n",
    "# RETURNING 1/LOG_LIKE. THEN MINIMISE IT. \n",
    "# parm IS A VECTOR OF PARAMETERS WITH LENGTH EQUALS LOCI NUMBER\n",
    "# y IS THE RESPONSE, OR THE CLASS LABELS (VECTOR), 0=pop1, 1=pop2\n",
    "y<-as.numeric(train_label==pop2)\n",
    "log.like.inv<-function(parms)\n",
    "{\n",
    "    temp<-train_genotype%*%parms\n",
    "    temp1<-exp(temp)\n",
    "    p<-temp1/(1+temp1)\n",
    "    l<-y*log(p)+(1-y)*log(1-p)\n",
    "    # REMOVE TOO SMALL PROB\n",
    "    l2<-l[!is.na(l)]\n",
    "    return(1/fsum(l2))\n",
    "}\n",
    "log.like.inv<-cmpfun(log.like.inv)\n",
    "\n",
    "# TRY \n",
    "log.like.inv(rep(0, length(POS)))\n",
    "system.time(log.like.inv(rep(0, length(POS))))\n",
    "# ELAPSE TIME 0.06, TOTAL CPU TIME 1.25s ACROSS 20 CORES. PERFECT SCALING...?\n",
    "# THE EVALUATION OF THE LOG-LIKE INVOLVES A MATRIX MULTIPLICATION. \n",
    "# A GOOD LINPACK DOES THE JOB"
   ]
  },
  {
   "cell_type": "code",
   "execution_count": 17,
   "id": "52cf9a77",
   "metadata": {
    "scrolled": true
   },
   "outputs": [
    {
     "data": {
      "text/html": [
       "-6.54620502883538e-08"
      ],
      "text/latex": [
       "-6.54620502883538e-08"
      ],
      "text/markdown": [
       "-6.54620502883538e-08"
      ],
      "text/plain": [
       "[1] -6.546205e-08"
      ]
     },
     "metadata": {},
     "output_type": "display_data"
    }
   ],
   "source": [
    "# IF WE EVALUATE THE FUNCTION AT THE SAME POINT WE SHOULD GET THE SAME LOG-LIKE VALUE\n",
    "1/log.like.inv(m$coefficients)\n",
    "# YAY!!!"
   ]
  },
  {
   "cell_type": "code",
   "execution_count": 18,
   "id": "4bd8472d",
   "metadata": {},
   "outputs": [],
   "source": [
    "# TO AVOID OVERFITTING I NOW USE PCA AS A DATA REDUCTION TOOL\n",
    "# FIRST APPLY PATTERSON'S NORMALISATION\n",
    "train_freq<-apply(train_genotype, 2, fsum)/(2*nrow(train_genotype))\n",
    "train_freq2<-matrix(train_freq, ncol=ncol(train_genotype), nrow=nrow(train_genotype), byrow=T)\n",
    "normal_train_genotype<-(train_genotype-2*train_freq2)/sqrt(train_freq2*(1-train_freq2))\n",
    "rm(train_freq2); gc2(); "
   ]
  },
  {
   "cell_type": "code",
   "execution_count": 19,
   "id": "f01dbaa8",
   "metadata": {},
   "outputs": [
    {
     "data": {
      "text/plain": [
       "   user  system elapsed \n",
       "  24.83    0.97    3.04 "
      ]
     },
     "metadata": {},
     "output_type": "display_data"
    },
    {
     "data": {
      "text/html": [
       "<ol class=list-inline>\n",
       "\t<li>312</li>\n",
       "\t<li>100</li>\n",
       "</ol>\n"
      ],
      "text/latex": [
       "\\begin{enumerate*}\n",
       "\\item 312\n",
       "\\item 100\n",
       "\\end{enumerate*}\n"
      ],
      "text/markdown": [
       "1. 312\n",
       "2. 100\n",
       "\n",
       "\n"
      ],
      "text/plain": [
       "[1] 312 100"
      ]
     },
     "metadata": {},
     "output_type": "display_data"
    }
   ],
   "source": [
    "# PCA VIA prcomp(). USE FIRST n COMPONENTS\n",
    "system.time(e<-prcomp(normal_train_genotype))\n",
    "n<-100\n",
    "train_feature<-normal_train_genotype%*%e$rotation[,1:n]\n",
    "dim(train_feature)"
   ]
  },
  {
   "cell_type": "code",
   "execution_count": 20,
   "id": "46392e22",
   "metadata": {},
   "outputs": [
    {
     "name": "stderr",
     "output_type": "stream",
     "text": [
      "Warning message:\n",
      "\"glm.fit: algorithm did not converge\"Warning message:\n",
      "\"glm.fit: fitted probabilities numerically 0 or 1 occurred\""
     ]
    }
   ],
   "source": [
    "# RUN A LOGISTIC REGRESSION. NO INTERCEPT\n",
    "# OFTEN WE NEED TO PUT THINGS IN A data.frame\n",
    "train_df<-data.frame(train_label=train_label, train_feature=train_feature)\n",
    "m2<-glm(train_label~.-1, data=train_df, family='binomial')"
   ]
  },
  {
   "cell_type": "code",
   "execution_count": 21,
   "id": "cc744e69",
   "metadata": {},
   "outputs": [
    {
     "data": {
      "text/html": [
       "<ol class=list-inline>\n",
       "\t<li>77</li>\n",
       "\t<li>100</li>\n",
       "</ol>\n"
      ],
      "text/latex": [
       "\\begin{enumerate*}\n",
       "\\item 77\n",
       "\\item 100\n",
       "\\end{enumerate*}\n"
      ],
      "text/markdown": [
       "1. 77\n",
       "2. 100\n",
       "\n",
       "\n"
      ],
      "text/plain": [
       "[1]  77 100"
      ]
     },
     "metadata": {},
     "output_type": "display_data"
    }
   ],
   "source": [
    "# SADLY NONE OF THE PCs IS STATISTICALLY SIGNIFICANT\n",
    "# PATTERSON TRANSFORM THE TEST SET, AND CREATE TEST FEATURES\n",
    "test_freq2<-matrix(train_freq, nc=ncol(test_genotype), nr=nrow(test_genotype), byrow=T)\n",
    "normal_test_genotype<-(test_genotype-2*test_freq2)/sqrt(test_freq2*(1-test_freq2))\n",
    "test_feature<-normal_test_genotype%*%e$rotation[,1:n]\n",
    "dim(test_feature)\n",
    "rm(train_freq); rm(test_freq2); invisible(gc());"
   ]
  },
  {
   "cell_type": "code",
   "execution_count": 22,
   "id": "450cbf0a",
   "metadata": {},
   "outputs": [
    {
     "data": {
      "text/html": [
       "0.896103896103896"
      ],
      "text/latex": [
       "0.896103896103896"
      ],
      "text/markdown": [
       "0.896103896103896"
      ],
      "text/plain": [
       "[1] 0.8961039"
      ]
     },
     "metadata": {},
     "output_type": "display_data"
    }
   ],
   "source": [
    "# FIT TO THE TEST SET\n",
    "test_df<-data.frame(test_feature=test_feature)\n",
    "names(test_df)<-names(train_df)[-1]\n",
    "test_predict<-predict(m2, test_df, type='response')\n",
    "test_predict<-ifelse(test_predict<0.5, pop1, pop2)\n",
    "# ACCURACY\n",
    "sum(test_predict==test_label)/length(test_predict)"
   ]
  },
  {
   "cell_type": "code",
   "execution_count": 23,
   "id": "b93ba690",
   "metadata": {},
   "outputs": [
    {
     "data": {
      "text/html": [
       "0.779220779220779"
      ],
      "text/latex": [
       "0.779220779220779"
      ],
      "text/markdown": [
       "0.779220779220779"
      ],
      "text/plain": [
       "[1] 0.7792208"
      ]
     },
     "metadata": {},
     "output_type": "display_data"
    }
   ],
   "source": [
    "# NOW TRY LDA. WE EXPECT LDA IS WORSE THAN LOGISTIC WITH ONLY TWO CATEGORIES\n",
    "m3<-lda(train_feature, grouping=train_label, prior=c(0.5,0.5))\n",
    "test_predict2<-predict(m3, test_feature, type='class')$class\n",
    "test_predict2<-as.character(test_predict2)\n",
    "# ACCURACY\n",
    "sum(test_predict2==test_label)/length(test_predict)"
   ]
  },
  {
   "cell_type": "code",
   "execution_count": null,
   "id": "7115111a",
   "metadata": {},
   "outputs": [],
   "source": []
  }
 ],
 "metadata": {
  "kernelspec": {
   "display_name": "R",
   "language": "R",
   "name": "ir"
  },
  "language_info": {
   "codemirror_mode": "r",
   "file_extension": ".r",
   "mimetype": "text/x-r-source",
   "name": "R",
   "pygments_lexer": "r",
   "version": "3.5.3"
  }
 },
 "nbformat": 4,
 "nbformat_minor": 5
}
