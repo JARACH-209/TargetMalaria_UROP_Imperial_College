{
 "cells": [
  {
   "cell_type": "code",
   "execution_count": 1,
   "id": "d8a2a770",
   "metadata": {},
   "outputs": [
    {
     "name": "stderr",
     "output_type": "stream",
     "text": [
      "Loading required package: compiler\n",
      "Loading required package: MASS\n",
      "Loading required package: nnet\n"
     ]
    }
   ],
   "source": [
    "# PAIRWISE LEARNING\n",
    "require(compiler)\n",
    "require(MASS)\n",
    "require(nnet)\n",
    "setMKLthreads(16)\n",
    "#setwd()"
   ]
  },
  {
   "cell_type": "code",
   "execution_count": 2,
   "id": "15bd8e18",
   "metadata": {},
   "outputs": [
    {
     "data": {
      "text/html": [
       "<ol class=list-inline>\n",
       "\t<li>'haplotype'</li>\n",
       "\t<li>'label'</li>\n",
       "\t<li>'POS'</li>\n",
       "</ol>\n"
      ],
      "text/latex": [
       "\\begin{enumerate*}\n",
       "\\item 'haplotype'\n",
       "\\item 'label'\n",
       "\\item 'POS'\n",
       "\\end{enumerate*}\n"
      ],
      "text/markdown": [
       "1. 'haplotype'\n",
       "2. 'label'\n",
       "3. 'POS'\n",
       "\n",
       "\n"
      ],
      "text/plain": [
       "[1] \"haplotype\" \"label\"     \"POS\"      "
      ]
     },
     "metadata": {},
     "output_type": "display_data"
    }
   ],
   "source": [
    "load('Haplotype_16Filtered.RData')\n",
    "ls()"
   ]
  },
  {
   "cell_type": "code",
   "execution_count": 3,
   "id": "ed85913e",
   "metadata": {},
   "outputs": [],
   "source": [
    "# JUST SOME FUNCTIONS\n",
    "fsum<-function(x) {.Primitive('sum')(x)}\n",
    "gc2<-function() {invisible(gc())}"
   ]
  },
  {
   "cell_type": "code",
   "execution_count": 4,
   "id": "69890eb2",
   "metadata": {},
   "outputs": [
    {
     "data": {
      "text/html": [
       "<ol class=list-inline>\n",
       "\t<li>184</li>\n",
       "\t<li>117461</li>\n",
       "</ol>\n"
      ],
      "text/latex": [
       "\\begin{enumerate*}\n",
       "\\item 184\n",
       "\\item 117461\n",
       "\\end{enumerate*}\n"
      ],
      "text/markdown": [
       "1. 184\n",
       "2. 117461\n",
       "\n",
       "\n"
      ],
      "text/plain": [
       "[1]    184 117461"
      ]
     },
     "metadata": {},
     "output_type": "display_data"
    },
    {
     "data": {
      "text/html": [
       "<ol class=list-inline>\n",
       "\t<li>594</li>\n",
       "\t<li>117461</li>\n",
       "</ol>\n"
      ],
      "text/latex": [
       "\\begin{enumerate*}\n",
       "\\item 594\n",
       "\\item 117461\n",
       "\\end{enumerate*}\n"
      ],
      "text/markdown": [
       "1. 594\n",
       "2. 117461\n",
       "\n",
       "\n"
      ],
      "text/plain": [
       "[1]    594 117461"
      ]
     },
     "metadata": {},
     "output_type": "display_data"
    }
   ],
   "source": [
    "# CHOOSE THE TWO TARGETED POPULATIONS\n",
    "pop1<-'BFgam'\n",
    "pop2<-'CMgam'\n",
    "haplotype1<-haplotype[label==pop1,]\n",
    "haplotype2<-haplotype[label==pop2,]\n",
    "dim(haplotype1)\n",
    "dim(haplotype2)\n",
    "rm(haplotype); gc2(); "
   ]
  },
  {
   "cell_type": "code",
   "execution_count": 5,
   "id": "0658a234",
   "metadata": {},
   "outputs": [],
   "source": [
    "# NEED TO CALCULATE WITHIN-POPULATION MAF\n",
    "mode(haplotype1)<-'numeric'\n",
    "mode(haplotype2)<-'numeric'\n",
    "freq1<-apply(haplotype1, 2, fsum)/nrow(haplotype1)\n",
    "maf1<-freq1\n",
    "maf1[maf1>0.5]<-1-maf1[maf1>0.5]\n",
    "freq2<-apply(haplotype2, 2, fsum)/nrow(haplotype2)\n",
    "maf2<-freq2\n",
    "maf2[maf2>0.5]<-1-maf2[maf2>0.5]"
   ]
  },
  {
   "cell_type": "code",
   "execution_count": 6,
   "id": "6af21eea",
   "metadata": {},
   "outputs": [
    {
     "data": {
      "text/html": [
       "99026"
      ],
      "text/latex": [
       "99026"
      ],
      "text/markdown": [
       "99026"
      ],
      "text/plain": [
       "[1] 99026"
      ]
     },
     "metadata": {},
     "output_type": "display_data"
    },
    {
     "data": {
      "text/html": [
       "<ol class=list-inline>\n",
       "\t<li>184</li>\n",
       "\t<li>99026</li>\n",
       "</ol>\n"
      ],
      "text/latex": [
       "\\begin{enumerate*}\n",
       "\\item 184\n",
       "\\item 99026\n",
       "\\end{enumerate*}\n"
      ],
      "text/markdown": [
       "1. 184\n",
       "2. 99026\n",
       "\n",
       "\n"
      ],
      "text/plain": [
       "[1]   184 99026"
      ]
     },
     "metadata": {},
     "output_type": "display_data"
    },
    {
     "data": {
      "text/html": [
       "<ol class=list-inline>\n",
       "\t<li>594</li>\n",
       "\t<li>99026</li>\n",
       "</ol>\n"
      ],
      "text/latex": [
       "\\begin{enumerate*}\n",
       "\\item 594\n",
       "\\item 99026\n",
       "\\end{enumerate*}\n"
      ],
      "text/markdown": [
       "1. 594\n",
       "2. 99026\n",
       "\n",
       "\n"
      ],
      "text/plain": [
       "[1]   594 99026"
      ]
     },
     "metadata": {},
     "output_type": "display_data"
    },
    {
     "data": {
      "text/html": [
       "99026"
      ],
      "text/latex": [
       "99026"
      ],
      "text/markdown": [
       "99026"
      ],
      "text/plain": [
       "[1] 99026"
      ]
     },
     "metadata": {},
     "output_type": "display_data"
    }
   ],
   "source": [
    "# SELECT THOSE LOCI WITH MAF>=5% AT BOTH POPULATIONS?\n",
    "s<-maf1>=0.05 & maf2>=0.05\n",
    "sum(s)\n",
    "#plot(maf1, maf2)\n",
    "haplotype1<-haplotype1[,s]\n",
    "haplotype2<-haplotype2[,s]\n",
    "freq1<-freq1[s]\n",
    "freq2<-freq2[s]\n",
    "POS<-POS[s]\n",
    "dim(haplotype1)\n",
    "dim(haplotype2)\n",
    "length(POS)\n",
    "rm(maf1); rm(maf2); rm(s); gc2()\n",
    "# THERE ARE 99026"
   ]
  },
  {
   "cell_type": "code",
   "execution_count": 7,
   "id": "76ad0516",
   "metadata": {},
   "outputs": [],
   "source": [
    "# I DON'T THINK I NEED ANOTHER ROUND OF LD PRUNNING AS IT HAS ALREADY BEEN DONE ON THE GLOBAL SCALE\n",
    "# CALCULATE HUDSON'S FST (BHATIA ET AL.)\n",
    "\n"
   ]
  },
  {
   "cell_type": "code",
   "execution_count": 8,
   "id": "9906040b",
   "metadata": {},
   "outputs": [
    {
     "data": {
      "text/html": [
       "<ol class=list-inline>\n",
       "\t<li>92</li>\n",
       "\t<li>99026</li>\n",
       "</ol>\n"
      ],
      "text/latex": [
       "\\begin{enumerate*}\n",
       "\\item 92\n",
       "\\item 99026\n",
       "\\end{enumerate*}\n"
      ],
      "text/markdown": [
       "1. 92\n",
       "2. 99026\n",
       "\n",
       "\n"
      ],
      "text/plain": [
       "[1]    92 99026"
      ]
     },
     "metadata": {},
     "output_type": "display_data"
    },
    {
     "data": {
      "text/html": [
       "<ol class=list-inline>\n",
       "\t<li>297</li>\n",
       "\t<li>99026</li>\n",
       "</ol>\n"
      ],
      "text/latex": [
       "\\begin{enumerate*}\n",
       "\\item 297\n",
       "\\item 99026\n",
       "\\end{enumerate*}\n"
      ],
      "text/markdown": [
       "1. 297\n",
       "2. 99026\n",
       "\n",
       "\n"
      ],
      "text/plain": [
       "[1]   297 99026"
      ]
     },
     "metadata": {},
     "output_type": "display_data"
    }
   ],
   "source": [
    "# CREATE GENOTYPE DATASETS AND COMBINE THE TWO POPULATIONS\n",
    "odd<-seq(1, nrow(haplotype1), 2)\n",
    "even<-seq(2, nrow(haplotype1), 2)\n",
    "genotype1<-haplotype1[odd,]+haplotype2[even,]\n",
    "rm(odd); rm(even);\n",
    "odd<-seq(1, nrow(haplotype2), 2)\n",
    "even<-seq(2, nrow(haplotype2), 2)\n",
    "genotype2<-haplotype2[odd,]+haplotype2[even,]\n",
    "rm(odd); rm(even);\n",
    "dim(genotype1)\n",
    "dim(genotype2)\n",
    "genotype_both<-rbind(genotype1, genotype2)\n",
    "label1<-rep(pop1, nrow(genotype1))\n",
    "label2<-rep(pop2, nrow(genotype2))\n",
    "label_both<-c(label1, label2)\n",
    "col1<-rep(1, nrow(genotype1))\n",
    "col2<-rep(2, nrow(genotype2))\n",
    "col_both<-c(col1, col2)"
   ]
  },
  {
   "cell_type": "code",
   "execution_count": 9,
   "id": "9a005ec2",
   "metadata": {},
   "outputs": [
    {
     "data": {
      "text/plain": [
       "   user  system elapsed \n",
       "   2.63    0.01    0.79 "
      ]
     },
     "metadata": {},
     "output_type": "display_data"
    },
    {
     "data": {
      "text/plain": [
       "   user  system elapsed \n",
       "   0.98    0.00    0.08 "
      ]
     },
     "metadata": {},
     "output_type": "display_data"
    },
    {
     "data": {
      "image/png": "[encoded data removed]",
      "text/plain": [
       "plot without title"
      ]
     },
     "metadata": {},
     "output_type": "display_data"
    }
   ],
   "source": [
    "# PATTERSON NORMALISATION AND PCA\n",
    "freq_both<-apply(genotype_both, 2, fsum)/(2*nrow(genotype_both))\n",
    "freq_both2<-matrix(freq_both, nc=ncol(genotype_both), nr=nrow(genotype_both), byrow=T)\n",
    "normal_genotype_both<-(genotype_both-2*freq_both2)/sqrt(freq_both2*(1-freq_both2))\n",
    "system.time(x<-normal_genotype_both%*%t(normal_genotype_both))\n",
    "system.time(e<-eigen(x))\n",
    "PC1<-x%*%e$vector[,1]\n",
    "PC2<-x%*%e$vector[,2]\n",
    "PC3<-x%*%e$vector[,3]\n",
    "PC4<-x%*%e$vector[,4]\n",
    "PC5<-x%*%e$vector[,5]\n",
    "PC6<-x%*%e$vector[,6]\n",
    "PC7<-x%*%e$vector[,7]\n",
    "PC8<-x%*%e$vector[,8]\n",
    "par(mfrow=c(2,2))\n",
    "plot(PC1, PC2, col=col_both)\n",
    "plot(PC3, PC4, col=col_both)\n",
    "plot(PC5, PC6, col=col_both)\n",
    "plot(PC7, PC8, col=col_both)\n",
    "# NO SIGNIFICANT SEPARATION FOR PC1-PC8"
   ]
  },
  {
   "cell_type": "code",
   "execution_count": 10,
   "id": "1c036116",
   "metadata": {},
   "outputs": [],
   "source": [
    "##########################################\n",
    "# SUPERVISED LEARNING?\n",
    "##########################################\n",
    "# SPLIT INTO TRAINING AND TESTING SET. 80:20, STRATIFIED. \n",
    "s<-sample(nrow(genotype1), size=round(0.8*nrow(genotype1)))\n",
    "train_genotype1<-genotype1[s,]\n",
    "test_genotype1<-genotype1[-s,]\n",
    "train_label1<-label1[s]\n",
    "test_label1<-label1[-s]\n",
    "train_col1<-col1[s]\n",
    "test_col1<-col1[-s]\n",
    "rm(s)\n",
    "s<-sample(nrow(genotype2), size=round(0.8*nrow(genotype2)))\n",
    "train_genotype2<-genotype2[s,]\n",
    "test_genotype2<-genotype2[-s,]\n",
    "train_label2<-label2[s]\n",
    "test_label2<-label2[-s]\n",
    "train_col2<-col2[s]\n",
    "test_col2<-col2[-s]\n",
    "rm(s)\n",
    "# COMBINE\n",
    "train_genotype<-rbind(train_genotype1, train_genotype2)\n",
    "train_label<-c(train_label1, train_label2)\n",
    "train_col<-c(train_col1, train_col2)\n",
    "test_genotype<-rbind(test_genotype1, test_genotype2)\n",
    "test_label<-c(test_label1, test_label2)\n",
    "test_col<-c(test_col1, test_col2)"
   ]
  },
  {
   "cell_type": "code",
   "execution_count": 11,
   "id": "a399886a",
   "metadata": {},
   "outputs": [
    {
     "data": {
      "text/html": [
       "<ol class=list-inline>\n",
       "\t<li>312</li>\n",
       "\t<li>99026</li>\n",
       "</ol>\n"
      ],
      "text/latex": [
       "\\begin{enumerate*}\n",
       "\\item 312\n",
       "\\item 99026\n",
       "\\end{enumerate*}\n"
      ],
      "text/markdown": [
       "1. 312\n",
       "2. 99026\n",
       "\n",
       "\n"
      ],
      "text/plain": [
       "[1]   312 99026"
      ]
     },
     "metadata": {},
     "output_type": "display_data"
    },
    {
     "data": {
      "text/html": [
       "312"
      ],
      "text/latex": [
       "312"
      ],
      "text/markdown": [
       "312"
      ],
      "text/plain": [
       "[1] 312"
      ]
     },
     "metadata": {},
     "output_type": "display_data"
    },
    {
     "data": {
      "text/html": [
       "312"
      ],
      "text/latex": [
       "312"
      ],
      "text/markdown": [
       "312"
      ],
      "text/plain": [
       "[1] 312"
      ]
     },
     "metadata": {},
     "output_type": "display_data"
    },
    {
     "data": {
      "text/html": [
       "<ol class=list-inline>\n",
       "\t<li>77</li>\n",
       "\t<li>99026</li>\n",
       "</ol>\n"
      ],
      "text/latex": [
       "\\begin{enumerate*}\n",
       "\\item 77\n",
       "\\item 99026\n",
       "\\end{enumerate*}\n"
      ],
      "text/markdown": [
       "1. 77\n",
       "2. 99026\n",
       "\n",
       "\n"
      ],
      "text/plain": [
       "[1]    77 99026"
      ]
     },
     "metadata": {},
     "output_type": "display_data"
    },
    {
     "data": {
      "text/html": [
       "77"
      ],
      "text/latex": [
       "77"
      ],
      "text/markdown": [
       "77"
      ],
      "text/plain": [
       "[1] 77"
      ]
     },
     "metadata": {},
     "output_type": "display_data"
    },
    {
     "data": {
      "text/html": [
       "77"
      ],
      "text/latex": [
       "77"
      ],
      "text/markdown": [
       "77"
      ],
      "text/plain": [
       "[1] 77"
      ]
     },
     "metadata": {},
     "output_type": "display_data"
    }
   ],
   "source": [
    "# CHECK DIMINSIONS\n",
    "dim(train_genotype)\n",
    "length(train_label)\n",
    "length(train_col)\n",
    "dim(test_genotype)\n",
    "length(test_label)\n",
    "length(test_col)"
   ]
  },
  {
   "cell_type": "code",
   "execution_count": 12,
   "id": "67788c92",
   "metadata": {},
   "outputs": [],
   "source": [
    "# REPEAT PATTERSON'S NORMALISATION BUT ONLY ON THE TRAINING SET\n",
    "train_freq<-apply(train_genotype, 2, fsum)/(2*nrow(train_genotype))\n",
    "train_freq2<-matrix(train_freq, nc=ncol(train_genotype), nr=nrow(train_genotype), byrow=T)\n",
    "normal_train_genotype<-(train_genotype-2*train_freq2)/sqrt(train_freq2*(1-train_freq2))\n",
    "rm(train_freq2); gc2(); "
   ]
  },
  {
   "cell_type": "code",
   "execution_count": 13,
   "id": "f01dbaa8",
   "metadata": {},
   "outputs": [
    {
     "data": {
      "text/plain": [
       "   user  system elapsed \n",
       "  19.91    0.63    2.67 "
      ]
     },
     "metadata": {},
     "output_type": "display_data"
    },
    {
     "data": {
      "text/html": [
       "<ol class=list-inline>\n",
       "\t<li>312</li>\n",
       "\t<li>50</li>\n",
       "</ol>\n"
      ],
      "text/latex": [
       "\\begin{enumerate*}\n",
       "\\item 312\n",
       "\\item 50\n",
       "\\end{enumerate*}\n"
      ],
      "text/markdown": [
       "1. 312\n",
       "2. 50\n",
       "\n",
       "\n"
      ],
      "text/plain": [
       "[1] 312  50"
      ]
     },
     "metadata": {},
     "output_type": "display_data"
    }
   ],
   "source": [
    "# PCA VIA prccmp(). USE FIRST n=50 COMPONENTS\n",
    "system.time(e<-prcomp(normal_train_genotype))\n",
    "n<-50\n",
    "train_feature<-normal_train_genotype%*%e$rotation[,1:n]\n",
    "dim(train_feature)"
   ]
  },
  {
   "cell_type": "code",
   "execution_count": 17,
   "id": "21e2dd4d",
   "metadata": {},
   "outputs": [
    {
     "data": {
      "image/png": "[encoded data removed]",
      "text/plain": [
       "Plot with title \"Histogram of LD_train[train_label == pop2]\""
      ]
     },
     "metadata": {},
     "output_type": "display_data"
    }
   ],
   "source": [
    "# LDA, AND EXTRACT THE ONLY LD COMPONENT\n",
    "m_lda<-lda(train_feature, grouping=train_label, prior=c(0.5, 0.5))\n",
    "LD_train<-train_feature%*%m_lda$scaling"
   ]
  },
  {
   "cell_type": "code",
   "execution_count": 15,
   "id": "fe291bed",
   "metadata": {},
   "outputs": [
    {
     "data": {
      "text/html": [
       "<ol class=list-inline>\n",
       "\t<li>50</li>\n",
       "\t<li>1</li>\n",
       "</ol>\n"
      ],
      "text/latex": [
       "\\begin{enumerate*}\n",
       "\\item 50\n",
       "\\item 1\n",
       "\\end{enumerate*}\n"
      ],
      "text/markdown": [
       "1. 50\n",
       "2. 1\n",
       "\n",
       "\n"
      ],
      "text/plain": [
       "[1] 50  1"
      ]
     },
     "metadata": {},
     "output_type": "display_data"
    },
    {
     "data": {
      "image/png": "[encoded data removed]",
      "text/plain": [
       "plot without title"
      ]
     },
     "metadata": {},
     "output_type": "display_data"
    }
   ],
   "source": [
    "# OR SIMPLE PLOT IT OUT\n",
    "plot(m_lda)"
   ]
  },
  {
   "cell_type": "code",
   "execution_count": 19,
   "id": "310edbfd",
   "metadata": {},
   "outputs": [
    {
     "data": {
      "text/html": [
       "<ol class=list-inline>\n",
       "\t<li>77</li>\n",
       "\t<li>50</li>\n",
       "</ol>\n"
      ],
      "text/latex": [
       "\\begin{enumerate*}\n",
       "\\item 77\n",
       "\\item 50\n",
       "\\end{enumerate*}\n"
      ],
      "text/markdown": [
       "1. 77\n",
       "2. 50\n",
       "\n",
       "\n"
      ],
      "text/plain": [
       "[1] 77 50"
      ]
     },
     "metadata": {},
     "output_type": "display_data"
    },
    {
     "data": {
      "text/html": [
       "0.727272727272727"
      ],
      "text/latex": [
       "0.727272727272727"
      ],
      "text/markdown": [
       "0.727272727272727"
      ],
      "text/plain": [
       "[1] 0.7272727"
      ]
     },
     "metadata": {},
     "output_type": "display_data"
    }
   ],
   "source": [
    "# NOW TURN TO THE TEST SET. FIRST NORMALISE IT VIA THE SAME PATTERSON FORMULA AND allele_freq\n",
    "# THEN CREATE test_feature USING THE SAME PCA ROTATION\n",
    "test_freq2<-matrix(train_freq, nc=ncol(test_genotype), nr=nrow(test_genotype), byrow=T)\n",
    "normal_test_genotype<-(test_genotype-2*test_freq2)/sqrt(test_freq2*(1-test_freq2))\n",
    "test_feature<-normal_test_genotype%*%e$rotation[,1:n]\n",
    "dim(test_feature)\n",
    "rm(train_freq); rm(test_freq2); invisible(gc());\n",
    "# PREDICT THE CLASSES GIVEN THE TESTING FEATURES VIA THE EXISTING LDA MODEL. \n",
    "result_lda<-predict(m_lda, test_feature)$class\n",
    "result_lda<-as.character(result_lda)\n",
    "LD_test<-test_feature%*%m_lda$scaling\n",
    "# ACCURACY\n",
    "sum(result_lda==test_label)/length(test_label)"
   ]
  },
  {
   "cell_type": "code",
   "execution_count": 20,
   "id": "c5388ee9",
   "metadata": {},
   "outputs": [
    {
     "data": {
      "image/png": "[encoded data removed]",
      "text/plain": [
       "plot without title"
      ]
     },
     "metadata": {},
     "output_type": "display_data"
    }
   ],
   "source": [
    "plot(LD_train, rep(0, length(LD_train)), col=train_col, ylim=c(-0.2, 0.2))\n",
    "points(LD_test, rep(0, length(LD_test)), col=test_col, pch=3)"
   ]
  },
  {
   "cell_type": "code",
   "execution_count": 21,
   "id": "e4f78f1e",
   "metadata": {},
   "outputs": [
    {
     "name": "stdout",
     "output_type": "stream",
     "text": [
      "# weights:  52 (51 variable)\n",
      "initial  value 216.261920 \n",
      "iter  10 value 160.040778\n",
      "iter  20 value 152.305255\n",
      "iter  30 value 150.485107\n",
      "iter  40 value 148.939593\n",
      "iter  50 value 147.832421\n",
      "iter  60 value 147.105045\n",
      "iter  70 value 146.625598\n",
      "final  value 146.621689 \n",
      "converged\n"
     ]
    }
   ],
   "source": [
    "# HOW ABOUT USING LOGISTIC REGRESSION AS OUR CLASSIFIER? USE muiltinom() FROM PACKAGE nnet. \n",
    "# BUT WE NEED TO PUT train_label AND train_feature INTO A DATA FRAME. STUBBORN. \n",
    "# AND, NOT SURE IF I UNDERSTAND THE OUTPUTS FROM multinom(). \n",
    "train_df<-data.frame(train_label=train_label, train_feature=train_feature)\n",
    "m_lr<-multinom(train_label~., data=train_df)"
   ]
  },
  {
   "cell_type": "code",
   "execution_count": 22,
   "id": "4f67ede0",
   "metadata": {},
   "outputs": [
    {
     "data": {
      "text/html": [
       "0.766233766233766"
      ],
      "text/latex": [
       "0.766233766233766"
      ],
      "text/markdown": [
       "0.766233766233766"
      ],
      "text/plain": [
       "[1] 0.7662338"
      ]
     },
     "metadata": {},
     "output_type": "display_data"
    }
   ],
   "source": [
    "# PREDICT WITH OUT TEST SET. AGAIN I NEED TO CREATE A DATA FRAME. \n",
    "test_df<-data.frame(test_feature=test_feature)\n",
    "# TO AVOID ERRORS I NEED TO SET THE COLUMN NAMES OF test_df TO MATCH THOSE OF train_df. VERY STUBBORN. \n",
    "names(test_df)<-names(train_df)[-1]\n",
    "# PUT THE test_df TO TEST THE ALGORITHM\n",
    "result_lr<-predict(m_lr, test_df, type='class')\n",
    "result_lr<-as.character(result_lr)\n",
    "# ACCURACY. SHOULD BE AROUND 90%\n",
    "sum(result_lr==test_label)/length(test_label)"
   ]
  },
  {
   "cell_type": "code",
   "execution_count": 23,
   "id": "6c210d6e",
   "metadata": {},
   "outputs": [
    {
     "ename": "ERROR",
     "evalue": "Error in xy.coords(x, y, xlabel, ylabel, log): 'x' is a list, but does not have components 'x' and 'y'\n",
     "output_type": "error",
     "traceback": [
      "Error in xy.coords(x, y, xlabel, ylabel, log): 'x' is a list, but does not have components 'x' and 'y'\nTraceback:\n",
      "1. plot(m_lr)",
      "2. plot.default(m_lr)",
      "3. xy.coords(x, y, xlabel, ylabel, log)",
      "4. stop(\"'x' is a list, but does not have components 'x' and 'y'\")"
     ]
    }
   ],
   "source": []
  },
  {
   "cell_type": "code",
   "execution_count": null,
   "id": "7115111a",
   "metadata": {},
   "outputs": [],
   "source": []
  }
 ],
 "metadata": {
  "kernelspec": {
   "display_name": "R",
   "language": "R",
   "name": "ir"
  },
  "language_info": {
   "codemirror_mode": "r",
   "file_extension": ".r",
   "mimetype": "text/x-r-source",
   "name": "R",
   "pygments_lexer": "r",
   "version": "3.5.3"
  }
 },
 "nbformat": 4,
 "nbformat_minor": 5
}
