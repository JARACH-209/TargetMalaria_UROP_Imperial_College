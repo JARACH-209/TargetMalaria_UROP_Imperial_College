{
 "cells": [
  {
   "cell_type": "code",
   "execution_count": 1,
   "id": "d8a2a770",
   "metadata": {},
   "outputs": [
    {
     "name": "stderr",
     "output_type": "stream",
     "text": [
      "Loading required package: compiler\n",
      "Loading required package: MASS\n",
      "Loading required package: RcppNumerical\n"
     ]
    }
   ],
   "source": [
    "# PAIRWISE CLASSIFICATION EXAMPLE\n",
    "# BFgam VS CMgam\n",
    "# 28/07/2019\n",
    "require(compiler)\n",
    "require(MASS)\n",
    "require(RcppNumerical)\n",
    "setMKLthreads(20)\n",
    "#setwd()"
   ]
  },
  {
   "cell_type": "code",
   "execution_count": 2,
   "id": "15bd8e18",
   "metadata": {},
   "outputs": [
    {
     "data": {
      "text/html": [
       "<ol class=list-inline>\n",
       "\t<li>'haplotype'</li>\n",
       "\t<li>'label'</li>\n",
       "\t<li>'POS'</li>\n",
       "</ol>\n"
      ],
      "text/latex": [
       "\\begin{enumerate*}\n",
       "\\item 'haplotype'\n",
       "\\item 'label'\n",
       "\\item 'POS'\n",
       "\\end{enumerate*}\n"
      ],
      "text/markdown": [
       "1. 'haplotype'\n",
       "2. 'label'\n",
       "3. 'POS'\n",
       "\n",
       "\n"
      ],
      "text/plain": [
       "[1] \"haplotype\" \"label\"     \"POS\"      "
      ]
     },
     "metadata": {},
     "output_type": "display_data"
    }
   ],
   "source": [
    "# FOR SIMPLICITY I JUST USE THE SAME SNPs AS IN THE 13-POPULATION CLASSIFICATION\n",
    "load('Haplotype_16Filtered.RData')\n",
    "ls()"
   ]
  },
  {
   "cell_type": "code",
   "execution_count": 3,
   "id": "ed85913e",
   "metadata": {},
   "outputs": [],
   "source": [
    "# JUST SOME FUNCTIONS\n",
    "fsum<-function(x) {.Primitive('sum')(x)}\n",
    "gc2<-function() {invisible(gc())}"
   ]
  },
  {
   "cell_type": "code",
   "execution_count": 4,
   "id": "69890eb2",
   "metadata": {},
   "outputs": [
    {
     "data": {
      "text/html": [
       "<ol class=list-inline>\n",
       "\t<li>184</li>\n",
       "\t<li>117461</li>\n",
       "</ol>\n"
      ],
      "text/latex": [
       "\\begin{enumerate*}\n",
       "\\item 184\n",
       "\\item 117461\n",
       "\\end{enumerate*}\n"
      ],
      "text/markdown": [
       "1. 184\n",
       "2. 117461\n",
       "\n",
       "\n"
      ],
      "text/plain": [
       "[1]    184 117461"
      ]
     },
     "metadata": {},
     "output_type": "display_data"
    },
    {
     "data": {
      "text/html": [
       "<ol class=list-inline>\n",
       "\t<li>594</li>\n",
       "\t<li>117461</li>\n",
       "</ol>\n"
      ],
      "text/latex": [
       "\\begin{enumerate*}\n",
       "\\item 594\n",
       "\\item 117461\n",
       "\\end{enumerate*}\n"
      ],
      "text/markdown": [
       "1. 594\n",
       "2. 117461\n",
       "\n",
       "\n"
      ],
      "text/plain": [
       "[1]    594 117461"
      ]
     },
     "metadata": {},
     "output_type": "display_data"
    }
   ],
   "source": [
    "# CHOOSE THE TWO TARGETED POPULATIONS\n",
    "pop1<-'BFgam'\n",
    "pop2<-'CMgam'\n",
    "haplotype1<-haplotype[label==pop1,]\n",
    "haplotype2<-haplotype[label==pop2,]\n",
    "dim(haplotype1)\n",
    "dim(haplotype2)\n",
    "rm(haplotype); gc2(); "
   ]
  },
  {
   "cell_type": "code",
   "execution_count": 5,
   "id": "0658a234",
   "metadata": {},
   "outputs": [],
   "source": [
    "# FILTER MAF ON THE COMBINED POPULATION. RETAIN THE ALLELE FREQ (freq) VECTOR\n",
    "mode(haplotype1)<-'numeric'\n",
    "mode(haplotype2)<-'numeric'\n",
    "freq<-apply(rbind(haplotype1, haplotype2), 2, fsum)/(nrow(haplotype1)+nrow(haplotype2))\n",
    "maf<-freq\n",
    "maf[maf>0.5]<-1-maf[maf>0.5]"
   ]
  },
  {
   "cell_type": "code",
   "execution_count": 6,
   "id": "6af21eea",
   "metadata": {},
   "outputs": [
    {
     "data": {
      "text/html": [
       "107195"
      ],
      "text/latex": [
       "107195"
      ],
      "text/markdown": [
       "107195"
      ],
      "text/plain": [
       "[1] 107195"
      ]
     },
     "metadata": {},
     "output_type": "display_data"
    },
    {
     "data": {
      "text/html": [
       "<ol class=list-inline>\n",
       "\t<li>184</li>\n",
       "\t<li>107195</li>\n",
       "</ol>\n"
      ],
      "text/latex": [
       "\\begin{enumerate*}\n",
       "\\item 184\n",
       "\\item 107195\n",
       "\\end{enumerate*}\n"
      ],
      "text/markdown": [
       "1. 184\n",
       "2. 107195\n",
       "\n",
       "\n"
      ],
      "text/plain": [
       "[1]    184 107195"
      ]
     },
     "metadata": {},
     "output_type": "display_data"
    },
    {
     "data": {
      "text/html": [
       "<ol class=list-inline>\n",
       "\t<li>594</li>\n",
       "\t<li>107195</li>\n",
       "</ol>\n"
      ],
      "text/latex": [
       "\\begin{enumerate*}\n",
       "\\item 594\n",
       "\\item 107195\n",
       "\\end{enumerate*}\n"
      ],
      "text/markdown": [
       "1. 594\n",
       "2. 107195\n",
       "\n",
       "\n"
      ],
      "text/plain": [
       "[1]    594 107195"
      ]
     },
     "metadata": {},
     "output_type": "display_data"
    },
    {
     "data": {
      "text/html": [
       "107195"
      ],
      "text/latex": [
       "107195"
      ],
      "text/markdown": [
       "107195"
      ],
      "text/plain": [
       "[1] 107195"
      ]
     },
     "metadata": {},
     "output_type": "display_data"
    }
   ],
   "source": [
    "# SELECT LOCI WITH MAF>5%?\n",
    "s<-(maf>=0.05)\n",
    "sum(s)\n",
    "#plot(maf1, maf2)\n",
    "haplotype1<-haplotype1[,s]\n",
    "haplotype2<-haplotype2[,s]\n",
    "freq<-freq[s]\n",
    "POS<-POS[s]\n",
    "dim(haplotype1)\n",
    "dim(haplotype2)\n",
    "length(POS)\n",
    "rm(maf); rm(s); gc2(); \n",
    "# 107195 LOCI REMAINING"
   ]
  },
  {
   "cell_type": "code",
   "execution_count": 7,
   "id": "76ad0516",
   "metadata": {},
   "outputs": [
    {
     "data": {
      "text/html": [
       "1"
      ],
      "text/latex": [
       "1"
      ],
      "text/markdown": [
       "1"
      ],
      "text/plain": [
       "[1] 1"
      ]
     },
     "metadata": {},
     "output_type": "display_data"
    },
    {
     "data": {
      "text/html": [
       "0"
      ],
      "text/latex": [
       "0"
      ],
      "text/markdown": [
       "0"
      ],
      "text/plain": [
       "[1] 0"
      ]
     },
     "metadata": {},
     "output_type": "display_data"
    },
    {
     "data": {
      "text/html": [
       "0"
      ],
      "text/latex": [
       "0"
      ],
      "text/markdown": [
       "0"
      ],
      "text/plain": [
       "[1] 0"
      ]
     },
     "metadata": {},
     "output_type": "display_data"
    },
    {
     "data": {
      "text/html": [
       "0"
      ],
      "text/latex": [
       "0"
      ],
      "text/markdown": [
       "0"
      ],
      "text/plain": [
       "[1] 0"
      ]
     },
     "metadata": {},
     "output_type": "display_data"
    }
   ],
   "source": [
    "# I DON'T THINK I NEED ANOTHER ROUND OF LD PRUNNING. \n",
    "# NOW LOOK AT PRIVATE ALLELES OUT OF THESE 107195 LOCI?\n",
    "freq1<-apply(haplotype1, 2, fsum)/nrow(haplotype1)\n",
    "freq2<-apply(haplotype2, 2, fsum)/nrow(haplotype2)\n",
    "\n",
    "sum(freq1==0 & freq2>0)\n",
    "sum(freq1==1 & freq1<1)\n",
    "sum(freq2==0 & freq1>0)\n",
    "sum(freq2==1 & freq1<1)\n",
    "rm(freq1); rm(freq2); gc2(); \n",
    "# SO THE CONCLUSION IS THAT THERE AREN'T TOO MANY PRIVATE ALLELES IN THIS EXAMPLE"
   ]
  },
  {
   "cell_type": "code",
   "execution_count": 8,
   "id": "9906040b",
   "metadata": {},
   "outputs": [
    {
     "data": {
      "text/html": [
       "<ol class=list-inline>\n",
       "\t<li>92</li>\n",
       "\t<li>107195</li>\n",
       "</ol>\n"
      ],
      "text/latex": [
       "\\begin{enumerate*}\n",
       "\\item 92\n",
       "\\item 107195\n",
       "\\end{enumerate*}\n"
      ],
      "text/markdown": [
       "1. 92\n",
       "2. 107195\n",
       "\n",
       "\n"
      ],
      "text/plain": [
       "[1]     92 107195"
      ]
     },
     "metadata": {},
     "output_type": "display_data"
    },
    {
     "data": {
      "text/html": [
       "<ol class=list-inline>\n",
       "\t<li>297</li>\n",
       "\t<li>107195</li>\n",
       "</ol>\n"
      ],
      "text/latex": [
       "\\begin{enumerate*}\n",
       "\\item 297\n",
       "\\item 107195\n",
       "\\end{enumerate*}\n"
      ],
      "text/markdown": [
       "1. 297\n",
       "2. 107195\n",
       "\n",
       "\n"
      ],
      "text/plain": [
       "[1]    297 107195"
      ]
     },
     "metadata": {},
     "output_type": "display_data"
    }
   ],
   "source": [
    "# CREATE GENOTYPE DATASETS AND POPULATION LABELS\n",
    "odd<-seq(1, nrow(haplotype1), 2)\n",
    "even<-seq(2, nrow(haplotype1), 2)\n",
    "genotype1<-haplotype1[odd,]+haplotype1[even,]\n",
    "rm(odd); rm(even);\n",
    "odd<-seq(1, nrow(haplotype2), 2)\n",
    "even<-seq(2, nrow(haplotype2), 2)\n",
    "genotype2<-haplotype2[odd,]+haplotype2[even,]\n",
    "rm(odd); rm(even);\n",
    "dim(genotype1)\n",
    "dim(genotype2)\n",
    "genotype_both<-rbind(genotype1, genotype2)\n",
    "label1<-rep(pop1, nrow(genotype1))\n",
    "label2<-rep(pop2, nrow(genotype2))\n",
    "label_both<-c(label1, label2)\n",
    "col1<-rep(1, nrow(genotype1))\n",
    "col2<-rep(2, nrow(genotype2))\n",
    "col_both<-c(col1, col2)\n",
    "rm(haplotype1); rm(haplotype2); gc2();"
   ]
  },
  {
   "cell_type": "code",
   "execution_count": 9,
   "id": "e0d7ca00",
   "metadata": {},
   "outputs": [],
   "source": [
    "# SUPERVISED LEARNING\n",
    "# THE PLAN IS USE LOGISTIC REGRESSION AS THE CLASSIFIER\n",
    "# BUT THE FIRST STEP IS ALWATS TO SPLIT INTO TRAINING AND TESTING SET. 80:20, STRATIFIED. \n",
    "set.seed(12345)\n",
    "s<-sample(nrow(genotype1), size=round(0.8*nrow(genotype1)))\n",
    "train_genotype1<-genotype1[s,]\n",
    "test_genotype1<-genotype1[-s,]\n",
    "train_label1<-label1[s]\n",
    "test_label1<-label1[-s]\n",
    "train_col1<-col1[s]\n",
    "test_col1<-col1[-s]\n",
    "rm(s)\n",
    "s<-sample(nrow(genotype2), size=round(0.8*nrow(genotype2)))\n",
    "train_genotype2<-genotype2[s,]\n",
    "test_genotype2<-genotype2[-s,]\n",
    "train_label2<-label2[s]\n",
    "test_label2<-label2[-s]\n",
    "train_col2<-col2[s]\n",
    "test_col2<-col2[-s]\n",
    "rm(s)\n",
    "# COMBINE THE TWO POPULATIONS\n",
    "train_genotype<-rbind(train_genotype1, train_genotype2)\n",
    "train_label<-c(train_label1, train_label2)\n",
    "train_col<-c(train_col1, train_col2)\n",
    "test_genotype<-rbind(test_genotype1, test_genotype2)\n",
    "test_label<-c(test_label1, test_label2)\n",
    "test_col<-c(test_col1, test_col2)\n",
    "# y IS THE NUMERIC VERSION OF train_label. 0=pop1, 1=pop2\n",
    "y<-as.numeric(train_label==pop2)"
   ]
  },
  {
   "cell_type": "code",
   "execution_count": 10,
   "id": "95bf747a",
   "metadata": {},
   "outputs": [],
   "source": [
    "# CHECK DIMINSIONS (OPTIONAL, JUST FOR ERROR CHECKING)\n",
    "#dim(train_genotype)\n",
    "#length(train_label)\n",
    "#length(train_col)\n",
    "#dim(test_genotype)\n",
    "#length(test_label)\n",
    "#length(test_col)"
   ]
  },
  {
   "cell_type": "code",
   "execution_count": 11,
   "id": "9a005ec2",
   "metadata": {},
   "outputs": [],
   "source": [
    "# 1) LOGISTIC REGRESSION ON THE RAW GENOTYPE. WILL IT WORK?\n",
    "#m<-glm(train_label~train_genotype, family='binomial')"
   ]
  },
  {
   "cell_type": "code",
   "execution_count": 12,
   "id": "8c597526",
   "metadata": {},
   "outputs": [
    {
     "data": {
      "text/plain": [
       "   user  system elapsed \n",
       "   3.76    0.00    3.76 "
      ]
     },
     "metadata": {},
     "output_type": "display_data"
    },
    {
     "data": {
      "text/html": [
       "-6.54599716654047e-08"
      ],
      "text/latex": [
       "-6.54599716654047e-08"
      ],
      "text/markdown": [
       "-6.54599716654047e-08"
      ],
      "text/plain": [
       "[1] -6.545997e-08"
      ]
     },
     "metadata": {},
     "output_type": "display_data"
    }
   ],
   "source": [
    "# THE PLAIN VANILLA glm() IS TOO SLOW\n",
    "# TRY USING fastLR() FROM RcppNumerical PACKAGE\n",
    "# BUT IT DOESN'T RETURN T STATISTICS OR P-VALUES\n",
    "system.time(m_lr<-fastLR(y=y, x=train_genotype, maxit=1000))\n",
    "# THE MAXIMISED LOG-LIKELIHOOD VALUE\n",
    "m_lr$loglikelihood"
   ]
  },
  {
   "cell_type": "code",
   "execution_count": 13,
   "id": "d697355c",
   "metadata": {},
   "outputs": [],
   "source": [
    "# TO SEE THE FITTED VALUES OF THE TRAIN SET\n",
    "# temp IS THE LINEAR PREDICTOR. IF temp<0 IT IS pop1=BFgam\n",
    "#temp<-train_genotype%*%m$coefficients\n",
    "#data.frame(linear_predictor=temp, train_label=train_label)"
   ]
  },
  {
   "cell_type": "code",
   "execution_count": 14,
   "id": "62a6299f",
   "metadata": {},
   "outputs": [
    {
     "data": {
      "text/html": [
       "0.818181818181818"
      ],
      "text/latex": [
       "0.818181818181818"
      ],
      "text/markdown": [
       "0.818181818181818"
      ],
      "text/plain": [
       "[1] 0.8181818"
      ]
     },
     "metadata": {},
     "output_type": "display_data"
    }
   ],
   "source": [
    "# HOW ABOUT FITTING TO THE TEST SET?\n",
    "temp<-test_genotype%*%m_lr$coefficients\n",
    "#data.frame(linear_predictor=temp, test_label=test_label)\n",
    "# TEST SET PREDICTION AND ACCURACY, ABOUT 81%\n",
    "predict_lr<-ifelse(temp<0, pop1, pop2)\n",
    "sum(predict_lr==test_label)/length(test_label)"
   ]
  },
  {
   "cell_type": "code",
   "execution_count": 15,
   "id": "4c435ba1",
   "metadata": {},
   "outputs": [],
   "source": [
    "# 2) LOGISTIC WITH PCA-REDUCED DATA\n",
    "# IT MAY NOT BE A NICE THING TO HAVE NUMBER OF PARAMETERS>>>SAMPLES. \n",
    "# FIRST APPLY PATTERSON'S NORMALISATION\n",
    "train_freq<-apply(train_genotype, 2, fsum)/(2*nrow(train_genotype))\n",
    "train_freq2<-matrix(train_freq, ncol=ncol(train_genotype), nrow=nrow(train_genotype), byrow=T)\n",
    "normal_train_genotype<-(train_genotype-2*train_freq2)/sqrt(train_freq2*(1-train_freq2))\n",
    "rm(train_freq2); gc2(); "
   ]
  },
  {
   "cell_type": "code",
   "execution_count": 16,
   "id": "f01dbaa8",
   "metadata": {},
   "outputs": [
    {
     "data": {
      "text/plain": [
       "   user  system elapsed \n",
       "  25.36    0.91    3.14 "
      ]
     },
     "metadata": {},
     "output_type": "display_data"
    },
    {
     "data": {
      "text/html": [
       "<ol class=list-inline>\n",
       "\t<li>312</li>\n",
       "\t<li>100</li>\n",
       "</ol>\n"
      ],
      "text/latex": [
       "\\begin{enumerate*}\n",
       "\\item 312\n",
       "\\item 100\n",
       "\\end{enumerate*}\n"
      ],
      "text/markdown": [
       "1. 312\n",
       "2. 100\n",
       "\n",
       "\n"
      ],
      "text/plain": [
       "[1] 312 100"
      ]
     },
     "metadata": {},
     "output_type": "display_data"
    }
   ],
   "source": [
    "# PCA VIA prcomp(). USE FIRST n COMPONENTS\n",
    "system.time(e<-prcomp(normal_train_genotype))\n",
    "n<-100\n",
    "train_feature<-normal_train_genotype%*%e$rotation[,1:n]\n",
    "dim(train_feature)"
   ]
  },
  {
   "cell_type": "code",
   "execution_count": 17,
   "id": "bb1858b7",
   "metadata": {},
   "outputs": [
    {
     "name": "stderr",
     "output_type": "stream",
     "text": [
      "Warning message:\n",
      "\"glm.fit: algorithm did not converge\"Warning message:\n",
      "\"glm.fit: fitted probabilities numerically 0 or 1 occurred\""
     ]
    }
   ],
   "source": [
    "# RUN A LOGISTIC REGRESSION. NO INTERCEPT\n",
    "# OFTEN WE NEED TO PUT THINGS IN A data.frame\n",
    "train_df<-data.frame(train_label=train_label, train_feature=train_feature)\n",
    "m_lrpca<-glm(train_label~.-1, data=train_df, family='binomial')"
   ]
  },
  {
   "cell_type": "code",
   "execution_count": 18,
   "id": "8a7a9199",
   "metadata": {},
   "outputs": [
    {
     "data": {
      "text/html": [
       "<ol class=list-inline>\n",
       "\t<li>77</li>\n",
       "\t<li>100</li>\n",
       "</ol>\n"
      ],
      "text/latex": [
       "\\begin{enumerate*}\n",
       "\\item 77\n",
       "\\item 100\n",
       "\\end{enumerate*}\n"
      ],
      "text/markdown": [
       "1. 77\n",
       "2. 100\n",
       "\n",
       "\n"
      ],
      "text/plain": [
       "[1]  77 100"
      ]
     },
     "metadata": {},
     "output_type": "display_data"
    }
   ],
   "source": [
    "# SADLY NONE OF THE PCs IS STATISTICALLY SIGNIFICANT\n",
    "# PATTERSON TRANSFORM THE TEST SET, AND CREATE TEST FEATURES\n",
    "test_freq2<-matrix(train_freq, nc=ncol(test_genotype), nr=nrow(test_genotype), byrow=T)\n",
    "normal_test_genotype<-(test_genotype-2*test_freq2)/sqrt(test_freq2*(1-test_freq2))\n",
    "test_feature<-normal_test_genotype%*%e$rotation[,1:n]\n",
    "dim(test_feature)\n",
    "rm(train_freq); rm(test_freq2); invisible(gc());"
   ]
  },
  {
   "cell_type": "code",
   "execution_count": 20,
   "id": "003a55e5",
   "metadata": {},
   "outputs": [
    {
     "data": {
      "text/html": [
       "0.896103896103896"
      ],
      "text/latex": [
       "0.896103896103896"
      ],
      "text/markdown": [
       "0.896103896103896"
      ],
      "text/plain": [
       "[1] 0.8961039"
      ]
     },
     "metadata": {},
     "output_type": "display_data"
    }
   ],
   "source": [
    "# FIT TO THE TEST SET. SOMETIMES YOU JUST NEED TO PUT THINGS INTO A DATA FRAME... AND WITH THE \"CORRECT\" COLUMN NAMES...\n",
    "test_df<-data.frame(test_feature=test_feature)\n",
    "names(test_df)<-names(train_df)[-1]\n",
    "predict_lrpca<-predict(m_lrpca, test_df, type='response')\n",
    "predict_lrpca<-ifelse(predict_lrpca<0.5, pop1, pop2)\n",
    "# ACCURACY, ~89%\n",
    "sum(predict_lrpca==test_label)/length(test_label)"
   ]
  },
  {
   "cell_type": "code",
   "execution_count": 21,
   "id": "e83c3132",
   "metadata": {},
   "outputs": [
    {
     "data": {
      "text/html": [
       "0.779220779220779"
      ],
      "text/latex": [
       "0.779220779220779"
      ],
      "text/markdown": [
       "0.779220779220779"
      ],
      "text/plain": [
       "[1] 0.7792208"
      ]
     },
     "metadata": {},
     "output_type": "display_data"
    }
   ],
   "source": [
    "# NOW TRY LDA ON THE PCA-REDUCED DATA. WE EXPECT LDA IS WORSE THAN LOGISTIC WITH ONLY TWO CATEGORIES\n",
    "m_ldapca<-lda(train_feature, grouping=train_label, prior=c(0.5,0.5))\n",
    "predict_ldapca<-predict(m_ldapca, test_feature, type='class')$class\n",
    "predict_ldapca<-as.character(predict_ldapca)\n",
    "# ACCURACY, ~78%\n",
    "sum(predict_ldapca==test_label)/length(test_label)"
   ]
  },
  {
   "cell_type": "code",
   "execution_count": 27,
   "id": "7115111a",
   "metadata": {},
   "outputs": [
    {
     "data": {
      "image/png": "[encoded data removed]",
      "text/plain": [
       "plot without title"
      ]
     },
     "metadata": {},
     "output_type": "display_data"
    },
    {
     "data": {
      "text/html": [
       "<table>\n",
       "<thead><tr><th></th><th scope=col>POS</th><th scope=col>coef</th></tr></thead>\n",
       "<tbody>\n",
       "\t<tr><th scope=row>88870</th><td>30043067   </td><td>-0.03593741</td></tr>\n",
       "\t<tr><th scope=row>88847</th><td>30041338   </td><td>-0.03566259</td></tr>\n",
       "\t<tr><th scope=row>86947</th><td>28241498   </td><td>-0.03400762</td></tr>\n",
       "\t<tr><th scope=row>88383</th><td>29309533   </td><td>-0.03319328</td></tr>\n",
       "\t<tr><th scope=row>94754</th><td>31736265   </td><td> 0.03296181</td></tr>\n",
       "\t<tr><th scope=row>20123</th><td> 6880356   </td><td>-0.03142650</td></tr>\n",
       "\t<tr><th scope=row>84152</th><td>27264636   </td><td> 0.03101824</td></tr>\n",
       "\t<tr><th scope=row>94092</th><td>31628425   </td><td> 0.03091367</td></tr>\n",
       "\t<tr><th scope=row>87483</th><td>28630086   </td><td>-0.03090610</td></tr>\n",
       "\t<tr><th scope=row>83291</th><td>27121724   </td><td>-0.03039591</td></tr>\n",
       "</tbody>\n",
       "</table>\n"
      ],
      "text/latex": [
       "\\begin{tabular}{r|ll}\n",
       "  & POS & coef\\\\\n",
       "\\hline\n",
       "\t88870 & 30043067    & -0.03593741\\\\\n",
       "\t88847 & 30041338    & -0.03566259\\\\\n",
       "\t86947 & 28241498    & -0.03400762\\\\\n",
       "\t88383 & 29309533    & -0.03319328\\\\\n",
       "\t94754 & 31736265    &  0.03296181\\\\\n",
       "\t20123 &  6880356    & -0.03142650\\\\\n",
       "\t84152 & 27264636    &  0.03101824\\\\\n",
       "\t94092 & 31628425    &  0.03091367\\\\\n",
       "\t87483 & 28630086    & -0.03090610\\\\\n",
       "\t83291 & 27121724    & -0.03039591\\\\\n",
       "\\end{tabular}\n"
      ],
      "text/markdown": [
       "\n",
       "| <!--/--> | POS | coef |\n",
       "|---|---|---|\n",
       "| 88870 | 30043067    | -0.03593741 |\n",
       "| 88847 | 30041338    | -0.03566259 |\n",
       "| 86947 | 28241498    | -0.03400762 |\n",
       "| 88383 | 29309533    | -0.03319328 |\n",
       "| 94754 | 31736265    |  0.03296181 |\n",
       "| 20123 |  6880356    | -0.03142650 |\n",
       "| 84152 | 27264636    |  0.03101824 |\n",
       "| 94092 | 31628425    |  0.03091367 |\n",
       "| 87483 | 28630086    | -0.03090610 |\n",
       "| 83291 | 27121724    | -0.03039591 |\n",
       "\n"
      ],
      "text/plain": [
       "      POS      coef       \n",
       "88870 30043067 -0.03593741\n",
       "88847 30041338 -0.03566259\n",
       "86947 28241498 -0.03400762\n",
       "88383 29309533 -0.03319328\n",
       "94754 31736265  0.03296181\n",
       "20123  6880356 -0.03142650\n",
       "84152 27264636  0.03101824\n",
       "94092 31628425  0.03091367\n",
       "87483 28630086 -0.03090610\n",
       "83291 27121724 -0.03039591"
      ]
     },
     "metadata": {},
     "output_type": "display_data"
    },
    {
     "data": {
      "image/png": "[encoded data removed]",
      "text/plain": [
       "Plot with title \"Histogram of m_lr$coefficients\""
      ]
     },
     "metadata": {},
     "output_type": "display_data"
    }
   ],
   "source": [
    "# SNPs CONTRIBUTION FOR THE LOGISTIC REGRESSION?\n",
    "plot(m_lr$coefficients, xlab='SNP number')\n",
    "hist(m_lr$coefficients)\n",
    "contribution_lr<-data.frame(POS=POS, coef=m_lr$coefficients)\n",
    "# DISPLAY SNPs WITH HIGHEST CONTRIBUTION\n",
    "contribution_lr[order(abs(contribution_lr$coef), decreasing=T)[1:10],]"
   ]
  },
  {
   "cell_type": "code",
   "execution_count": 33,
   "id": "7eb084b5",
   "metadata": {},
   "outputs": [
    {
     "data": {
      "text/html": [
       "<table>\n",
       "<thead><tr><th></th><th scope=col>POS</th><th scope=col>coef</th></tr></thead>\n",
       "<tbody>\n",
       "\t<tr><th scope=row>94305</th><td>31666840   </td><td> 0.05204190</td></tr>\n",
       "\t<tr><th scope=row>85840</th><td>27610866   </td><td>-0.04900579</td></tr>\n",
       "\t<tr><th scope=row>94752</th><td>31736194   </td><td>-0.04866684</td></tr>\n",
       "\t<tr><th scope=row>90380</th><td>30399975   </td><td>-0.04777551</td></tr>\n",
       "\t<tr><th scope=row>86488</th><td>27768561   </td><td>-0.04747869</td></tr>\n",
       "\t<tr><th scope=row>94339</th><td>31670179   </td><td>-0.04648656</td></tr>\n",
       "\t<tr><th scope=row>94324</th><td>31668821   </td><td> 0.04596801</td></tr>\n",
       "\t<tr><th scope=row>87298</th><td>28393819   </td><td> 0.04553632</td></tr>\n",
       "\t<tr><th scope=row>88179</th><td>29194308   </td><td>-0.04478429</td></tr>\n",
       "\t<tr><th scope=row>88498</th><td>29371578   </td><td>-0.04391138</td></tr>\n",
       "</tbody>\n",
       "</table>\n"
      ],
      "text/latex": [
       "\\begin{tabular}{r|ll}\n",
       "  & POS & coef\\\\\n",
       "\\hline\n",
       "\t94305 & 31666840    &  0.05204190\\\\\n",
       "\t85840 & 27610866    & -0.04900579\\\\\n",
       "\t94752 & 31736194    & -0.04866684\\\\\n",
       "\t90380 & 30399975    & -0.04777551\\\\\n",
       "\t86488 & 27768561    & -0.04747869\\\\\n",
       "\t94339 & 31670179    & -0.04648656\\\\\n",
       "\t94324 & 31668821    &  0.04596801\\\\\n",
       "\t87298 & 28393819    &  0.04553632\\\\\n",
       "\t88179 & 29194308    & -0.04478429\\\\\n",
       "\t88498 & 29371578    & -0.04391138\\\\\n",
       "\\end{tabular}\n"
      ],
      "text/markdown": [
       "\n",
       "| <!--/--> | POS | coef |\n",
       "|---|---|---|\n",
       "| 94305 | 31666840    |  0.05204190 |\n",
       "| 85840 | 27610866    | -0.04900579 |\n",
       "| 94752 | 31736194    | -0.04866684 |\n",
       "| 90380 | 30399975    | -0.04777551 |\n",
       "| 86488 | 27768561    | -0.04747869 |\n",
       "| 94339 | 31670179    | -0.04648656 |\n",
       "| 94324 | 31668821    |  0.04596801 |\n",
       "| 87298 | 28393819    |  0.04553632 |\n",
       "| 88179 | 29194308    | -0.04478429 |\n",
       "| 88498 | 29371578    | -0.04391138 |\n",
       "\n"
      ],
      "text/plain": [
       "      POS      coef       \n",
       "94305 31666840  0.05204190\n",
       "85840 27610866 -0.04900579\n",
       "94752 31736194 -0.04866684\n",
       "90380 30399975 -0.04777551\n",
       "86488 27768561 -0.04747869\n",
       "94339 31670179 -0.04648656\n",
       "94324 31668821  0.04596801\n",
       "87298 28393819  0.04553632\n",
       "88179 29194308 -0.04478429\n",
       "88498 29371578 -0.04391138"
      ]
     },
     "metadata": {},
     "output_type": "display_data"
    }
   ],
   "source": [
    "# FOR THE PCA-REDUCED DATA, THE REGRESSION COEFFICIENTS ARE THE CONTRIBUTIONS OF PCs\n",
    "# AND PCs ARE LINEAR COMBINATIONS OF PATTERSON-TRANSFORMED SNPs\n",
    "contribution_lrpca<-data.frame(POS=POS, coef=as.numeric(e$rotation[,1:n]%*%m_lrpca$coef))\n",
    "# DISPLAY SNPs WITH HIGHEST CONTRIBUTION\n",
    "contribution_lrpca[order(abs(contribution_lrpca$coef), decreasing=T)[1:10],]"
   ]
  },
  {
   "cell_type": "code",
   "execution_count": 35,
   "id": "37f9fd21",
   "metadata": {},
   "outputs": [
    {
     "data": {
      "text/html": [
       "0.816873539073361"
      ],
      "text/latex": [
       "0.816873539073361"
      ],
      "text/markdown": [
       "0.816873539073361"
      ],
      "text/plain": [
       "[1] 0.8168735"
      ]
     },
     "metadata": {},
     "output_type": "display_data"
    },
    {
     "data": {
      "image/png": "[encoded data removed]",
      "text/plain": [
       "plot without title"
      ]
     },
     "metadata": {},
     "output_type": "display_data"
    }
   ],
   "source": [
    "# ANY CORRELATION BETWEEN THE TWO? YES!\n",
    "plot(contribution_lr$coef, contribution_lrpca$coef)\n",
    "cor(contribution_lr$coef, contribution_lrpca$coef)"
   ]
  },
  {
   "cell_type": "code",
   "execution_count": null,
   "id": "09864482",
   "metadata": {},
   "outputs": [],
   "source": [
    "# TRY WRITING MY OWN LOGISTIC LOG-LIKELIHOOD FUNCTION INVERSE\n",
    "# RETURNING 1/LOG_LIKE. THEN MINIMISE IT. \n",
    "# parm IS A VECTOR OF PARAMETERS WITH LENGTH EQUALS LOCI NUMBER\n",
    "/*\n",
    "log.like.inv<-function(parms)\n",
    "{\n",
    "    temp<-train_genotype%*%parms\n",
    "    temp1<-exp(temp)\n",
    "    p<-temp1/(1+temp1)\n",
    "    l<-y*log(p)+(1-y)*log(1-p)\n",
    "    # REMOVE TOO SMALL PROB\n",
    "    l2<-l[!is.na(l)]\n",
    "    return(1/fsum(l2))\n",
    "}\n",
    "log.like.inv<-cmpfun(log.like.inv)\n",
    "\n",
    "# TRY \n",
    "log.like.inv(rep(0, length(POS)))\n",
    "system.time(log.like.inv(rep(0, length(POS))))\n",
    "*/\n",
    "# ELAPSE TIME 0.06, TOTAL CPU TIME 1.25s ACROSS 20 CORES. PERFECT SCALING...?\n",
    "# THE EVALUATION OF THE LOG-LIKE INVOLVES A MATRIX MULTIPLICATION. \n",
    "# A GOOD LINPACK DOES THE JOB"
   ]
  }
 ],
 "metadata": {
  "kernelspec": {
   "display_name": "R",
   "language": "R",
   "name": "ir"
  },
  "language_info": {
   "codemirror_mode": "r",
   "file_extension": ".r",
   "mimetype": "text/x-r-source",
   "name": "R",
   "pygments_lexer": "r",
   "version": "3.5.3"
  }
 },
 "nbformat": 4,
 "nbformat_minor": 5
}
