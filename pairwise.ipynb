{
 "cells": [
  {
   "cell_type": "code",
   "execution_count": 21,
   "id": "d8a2a770",
   "metadata": {},
   "outputs": [],
   "source": [
    "# PAIRWISE CLASSIFICATION EXAMPLE\n",
    "# BFgam VS CMgam\n",
    "# 28/07/2019\n",
    "require(compiler)\n",
    "require(RcppNumerical)\n",
    "setMKLthreads(20)\n",
    "#setwd()"
   ]
  },
  {
   "cell_type": "code",
   "execution_count": 2,
   "id": "15bd8e18",
   "metadata": {},
   "outputs": [
    {
     "data": {
      "text/html": [
       "<ol class=list-inline>\n",
       "\t<li>'haplotype'</li>\n",
       "\t<li>'label'</li>\n",
       "\t<li>'POS'</li>\n",
       "</ol>\n"
      ],
      "text/latex": [
       "\\begin{enumerate*}\n",
       "\\item 'haplotype'\n",
       "\\item 'label'\n",
       "\\item 'POS'\n",
       "\\end{enumerate*}\n"
      ],
      "text/markdown": [
       "1. 'haplotype'\n",
       "2. 'label'\n",
       "3. 'POS'\n",
       "\n",
       "\n"
      ],
      "text/plain": [
       "[1] \"haplotype\" \"label\"     \"POS\"      "
      ]
     },
     "metadata": {},
     "output_type": "display_data"
    }
   ],
   "source": [
    "# FOR SIMPLICITY I JUST USE THE SAME SNPs AS IN THE 13-POPULATION CLASSIFICATION\n",
    "load('Haplotype_16Filtered.RData')\n",
    "ls()"
   ]
  },
  {
   "cell_type": "code",
   "execution_count": 3,
   "id": "ed85913e",
   "metadata": {},
   "outputs": [],
   "source": [
    "# JUST SOME FUNCTIONS\n",
    "fsum<-function(x) {.Primitive('sum')(x)}\n",
    "gc2<-function() {invisible(gc())}"
   ]
  },
  {
   "cell_type": "code",
   "execution_count": 4,
   "id": "69890eb2",
   "metadata": {},
   "outputs": [
    {
     "data": {
      "text/html": [
       "<ol class=list-inline>\n",
       "\t<li>184</li>\n",
       "\t<li>117461</li>\n",
       "</ol>\n"
      ],
      "text/latex": [
       "\\begin{enumerate*}\n",
       "\\item 184\n",
       "\\item 117461\n",
       "\\end{enumerate*}\n"
      ],
      "text/markdown": [
       "1. 184\n",
       "2. 117461\n",
       "\n",
       "\n"
      ],
      "text/plain": [
       "[1]    184 117461"
      ]
     },
     "metadata": {},
     "output_type": "display_data"
    },
    {
     "data": {
      "text/html": [
       "<ol class=list-inline>\n",
       "\t<li>594</li>\n",
       "\t<li>117461</li>\n",
       "</ol>\n"
      ],
      "text/latex": [
       "\\begin{enumerate*}\n",
       "\\item 594\n",
       "\\item 117461\n",
       "\\end{enumerate*}\n"
      ],
      "text/markdown": [
       "1. 594\n",
       "2. 117461\n",
       "\n",
       "\n"
      ],
      "text/plain": [
       "[1]    594 117461"
      ]
     },
     "metadata": {},
     "output_type": "display_data"
    }
   ],
   "source": [
    "# CHOOSE THE TWO TARGETED POPULATIONS\n",
    "pop1<-'BFgam'\n",
    "pop2<-'CMgam'\n",
    "haplotype1<-haplotype[label==pop1,]\n",
    "haplotype2<-haplotype[label==pop2,]\n",
    "dim(haplotype1)\n",
    "dim(haplotype2)\n",
    "rm(haplotype); gc2(); "
   ]
  },
  {
   "cell_type": "code",
   "execution_count": 5,
   "id": "0658a234",
   "metadata": {},
   "outputs": [],
   "source": [
    "# FILTER MAF ON THE COMBINED POPULATION. RETAIN THE ALLELE FREQ (freq) VECTOR\n",
    "mode(haplotype1)<-'numeric'\n",
    "mode(haplotype2)<-'numeric'\n",
    "freq<-apply(rbind(haplotype1, haplotype2), 2, fsum)/(nrow(haplotype1)+nrow(haplotype2))\n",
    "maf<-freq\n",
    "maf[maf>0.5]<-1-maf[maf>0.5]"
   ]
  },
  {
   "cell_type": "code",
   "execution_count": 6,
   "id": "6af21eea",
   "metadata": {},
   "outputs": [
    {
     "data": {
      "text/html": [
       "107195"
      ],
      "text/latex": [
       "107195"
      ],
      "text/markdown": [
       "107195"
      ],
      "text/plain": [
       "[1] 107195"
      ]
     },
     "metadata": {},
     "output_type": "display_data"
    },
    {
     "data": {
      "text/html": [
       "<ol class=list-inline>\n",
       "\t<li>184</li>\n",
       "\t<li>107195</li>\n",
       "</ol>\n"
      ],
      "text/latex": [
       "\\begin{enumerate*}\n",
       "\\item 184\n",
       "\\item 107195\n",
       "\\end{enumerate*}\n"
      ],
      "text/markdown": [
       "1. 184\n",
       "2. 107195\n",
       "\n",
       "\n"
      ],
      "text/plain": [
       "[1]    184 107195"
      ]
     },
     "metadata": {},
     "output_type": "display_data"
    },
    {
     "data": {
      "text/html": [
       "<ol class=list-inline>\n",
       "\t<li>594</li>\n",
       "\t<li>107195</li>\n",
       "</ol>\n"
      ],
      "text/latex": [
       "\\begin{enumerate*}\n",
       "\\item 594\n",
       "\\item 107195\n",
       "\\end{enumerate*}\n"
      ],
      "text/markdown": [
       "1. 594\n",
       "2. 107195\n",
       "\n",
       "\n"
      ],
      "text/plain": [
       "[1]    594 107195"
      ]
     },
     "metadata": {},
     "output_type": "display_data"
    },
    {
     "data": {
      "text/html": [
       "107195"
      ],
      "text/latex": [
       "107195"
      ],
      "text/markdown": [
       "107195"
      ],
      "text/plain": [
       "[1] 107195"
      ]
     },
     "metadata": {},
     "output_type": "display_data"
    }
   ],
   "source": [
    "# SELECT LOCI WITH MAF>5%?\n",
    "s<-(maf>=0.05)\n",
    "sum(s)\n",
    "#plot(maf1, maf2)\n",
    "haplotype1<-haplotype1[,s]\n",
    "haplotype2<-haplotype2[,s]\n",
    "freq<-freq[s]\n",
    "POS<-POS[s]\n",
    "dim(haplotype1)\n",
    "dim(haplotype2)\n",
    "length(POS)\n",
    "rm(maf); rm(s); gc2(); \n",
    "# 107195 LOCI REMAINING"
   ]
  },
  {
   "cell_type": "code",
   "execution_count": 7,
   "id": "76ad0516",
   "metadata": {},
   "outputs": [
    {
     "data": {
      "text/html": [
       "1"
      ],
      "text/latex": [
       "1"
      ],
      "text/markdown": [
       "1"
      ],
      "text/plain": [
       "[1] 1"
      ]
     },
     "metadata": {},
     "output_type": "display_data"
    },
    {
     "data": {
      "text/html": [
       "0"
      ],
      "text/latex": [
       "0"
      ],
      "text/markdown": [
       "0"
      ],
      "text/plain": [
       "[1] 0"
      ]
     },
     "metadata": {},
     "output_type": "display_data"
    },
    {
     "data": {
      "text/html": [
       "0"
      ],
      "text/latex": [
       "0"
      ],
      "text/markdown": [
       "0"
      ],
      "text/plain": [
       "[1] 0"
      ]
     },
     "metadata": {},
     "output_type": "display_data"
    },
    {
     "data": {
      "text/html": [
       "0"
      ],
      "text/latex": [
       "0"
      ],
      "text/markdown": [
       "0"
      ],
      "text/plain": [
       "[1] 0"
      ]
     },
     "metadata": {},
     "output_type": "display_data"
    }
   ],
   "source": [
    "# I DON'T THINK I NEED ANOTHER ROUND OF LD PRUNNING. \n",
    "# NOW LOOK AT PRIVATE ALLELES OUT OF THESE 107195 LOCI?\n",
    "freq1<-apply(haplotype1, 2, fsum)/nrow(haplotype1)\n",
    "freq2<-apply(haplotype2, 2, fsum)/nrow(haplotype2)\n",
    "\n",
    "sum(freq1==0 & freq2>0)\n",
    "sum(freq1==1 & freq1<1)\n",
    "sum(freq2==0 & freq1>0)\n",
    "sum(freq2==1 & freq1<1)\n",
    "rm(freq1); rm(freq2); gc2(); \n",
    "# SO THE CONCLUSION IS THAT THERE AREN'T TOO MANY PRIVATE ALLELES IN THIS EXAMPLE"
   ]
  },
  {
   "cell_type": "code",
   "execution_count": 8,
   "id": "9906040b",
   "metadata": {},
   "outputs": [
    {
     "data": {
      "text/html": [
       "<ol class=list-inline>\n",
       "\t<li>92</li>\n",
       "\t<li>107195</li>\n",
       "</ol>\n"
      ],
      "text/latex": [
       "\\begin{enumerate*}\n",
       "\\item 92\n",
       "\\item 107195\n",
       "\\end{enumerate*}\n"
      ],
      "text/markdown": [
       "1. 92\n",
       "2. 107195\n",
       "\n",
       "\n"
      ],
      "text/plain": [
       "[1]     92 107195"
      ]
     },
     "metadata": {},
     "output_type": "display_data"
    },
    {
     "data": {
      "text/html": [
       "<ol class=list-inline>\n",
       "\t<li>297</li>\n",
       "\t<li>107195</li>\n",
       "</ol>\n"
      ],
      "text/latex": [
       "\\begin{enumerate*}\n",
       "\\item 297\n",
       "\\item 107195\n",
       "\\end{enumerate*}\n"
      ],
      "text/markdown": [
       "1. 297\n",
       "2. 107195\n",
       "\n",
       "\n"
      ],
      "text/plain": [
       "[1]    297 107195"
      ]
     },
     "metadata": {},
     "output_type": "display_data"
    }
   ],
   "source": [
    "# CREATE GENOTYPE DATASETS AND POPULATION LABELS\n",
    "odd<-seq(1, nrow(haplotype1), 2)\n",
    "even<-seq(2, nrow(haplotype1), 2)\n",
    "genotype1<-haplotype1[odd,]+haplotype2[even,]\n",
    "rm(odd); rm(even);\n",
    "odd<-seq(1, nrow(haplotype2), 2)\n",
    "even<-seq(2, nrow(haplotype2), 2)\n",
    "genotype2<-haplotype2[odd,]+haplotype2[even,]\n",
    "rm(odd); rm(even);\n",
    "dim(genotype1)\n",
    "dim(genotype2)\n",
    "genotype_both<-rbind(genotype1, genotype2)\n",
    "label1<-rep(pop1, nrow(genotype1))\n",
    "label2<-rep(pop2, nrow(genotype2))\n",
    "label_both<-c(label1, label2)\n",
    "col1<-rep(1, nrow(genotype1))\n",
    "col2<-rep(2, nrow(genotype2))\n",
    "col_both<-c(col1, col2)\n",
    "gc2();"
   ]
  },
  {
   "cell_type": "code",
   "execution_count": 10,
   "id": "e0d7ca00",
   "metadata": {},
   "outputs": [],
   "source": [
    "# SUPERVISED LEARNING\n",
    "# THE PLAN IS USE LOGISTIC REGRESSION AS THE CLASSIFIER\n",
    "# BUT THE FIRST STEP IS ALWATS TO SPLIT INTO TRAINING AND TESTING SET. 80:20, STRATIFIED. \n",
    "set.seed(12345)\n",
    "s<-sample(nrow(genotype1), size=round(0.8*nrow(genotype1)))\n",
    "train_genotype1<-genotype1[s,]\n",
    "test_genotype1<-genotype1[-s,]\n",
    "train_label1<-label1[s]\n",
    "test_label1<-label1[-s]\n",
    "train_col1<-col1[s]\n",
    "test_col1<-col1[-s]\n",
    "rm(s)\n",
    "s<-sample(nrow(genotype2), size=round(0.8*nrow(genotype2)))\n",
    "train_genotype2<-genotype2[s,]\n",
    "test_genotype2<-genotype2[-s,]\n",
    "train_label2<-label2[s]\n",
    "test_label2<-label2[-s]\n",
    "train_col2<-col2[s]\n",
    "test_col2<-col2[-s]\n",
    "rm(s)\n",
    "# COMBINE\n",
    "train_genotype<-rbind(train_genotype1, train_genotype2)\n",
    "train_label<-c(train_label1, train_label2)\n",
    "train_col<-c(train_col1, train_col2)\n",
    "test_genotype<-rbind(test_genotype1, test_genotype2)\n",
    "test_label<-c(test_label1, test_label2)\n",
    "test_col<-c(test_col1, test_col2)"
   ]
  },
  {
   "cell_type": "code",
   "execution_count": 11,
   "id": "95bf747a",
   "metadata": {},
   "outputs": [],
   "source": [
    "# CHECK DIMINSIONS (OPTIONAL, JUST FOR ERROR CHECKING)\n",
    "#dim(train_genotype)\n",
    "#length(train_label)\n",
    "#length(train_col)\n",
    "#dim(test_genotype)\n",
    "#length(test_label)\n",
    "#length(test_col)"
   ]
  },
  {
   "cell_type": "code",
   "execution_count": 12,
   "id": "9a005ec2",
   "metadata": {},
   "outputs": [],
   "source": [
    "# 1) LOGISTIC REGRESSION ON THE RAW GENOTYPE. WILL IT WORK?\n",
    "#m<-glm(train_label~train_genotype, family='binomial')"
   ]
  },
  {
   "cell_type": "code",
   "execution_count": 29,
   "id": "8c597526",
   "metadata": {},
   "outputs": [
    {
     "data": {
      "text/plain": [
       "   user  system elapsed \n",
       "   3.68    0.00    3.69 "
      ]
     },
     "metadata": {},
     "output_type": "display_data"
    },
    {
     "data": {
      "text/html": [
       "-4.23831806983799e-07"
      ],
      "text/latex": [
       "-4.23831806983799e-07"
      ],
      "text/markdown": [
       "-4.23831806983799e-07"
      ],
      "text/plain": [
       "[1] -4.238318e-07"
      ]
     },
     "metadata": {},
     "output_type": "display_data"
    }
   ],
   "source": [
    "# THE PLAIN VANILLA glm() IS TOO SLOW\n",
    "# TRY USING fastLR() FROM RcppNumerical PACKAGE\n",
    "# y IS THE NUMERIC VERSION OF train_label. 0=pop1, 1=pop2\n",
    "y<-as.numeric(train_label==pop2)\n",
    "system.time(m<-fastLR(y=y, x=train_genotype, maxit=1000))\n",
    "# THE MAXIMISED LOG-LIKELIHOOD VALUE\n",
    "m$loglikelihood"
   ]
  },
  {
   "cell_type": "code",
   "execution_count": 35,
   "id": "d697355c",
   "metadata": {},
   "outputs": [
    {
     "data": {
      "text/html": [
       "<table>\n",
       "<thead><tr><th scope=col>linear_predictor</th><th scope=col>train_label</th></tr></thead>\n",
       "<tbody>\n",
       "\t<tr><td>-23.16115</td><td>BFgam    </td></tr>\n",
       "\t<tr><td>-24.62318</td><td>BFgam    </td></tr>\n",
       "\t<tr><td>-37.44539</td><td>BFgam    </td></tr>\n",
       "\t<tr><td>-19.66619</td><td>BFgam    </td></tr>\n",
       "\t<tr><td>-21.34424</td><td>BFgam    </td></tr>\n",
       "\t<tr><td>-20.46904</td><td>BFgam    </td></tr>\n",
       "\t<tr><td>-33.03828</td><td>BFgam    </td></tr>\n",
       "\t<tr><td>-19.97020</td><td>BFgam    </td></tr>\n",
       "\t<tr><td>-22.89617</td><td>BFgam    </td></tr>\n",
       "\t<tr><td>-19.34783</td><td>BFgam    </td></tr>\n",
       "\t<tr><td>-25.40275</td><td>BFgam    </td></tr>\n",
       "\t<tr><td>-18.22002</td><td>BFgam    </td></tr>\n",
       "\t<tr><td>-26.03792</td><td>BFgam    </td></tr>\n",
       "\t<tr><td>-25.37924</td><td>BFgam    </td></tr>\n",
       "\t<tr><td>-28.64198</td><td>BFgam    </td></tr>\n",
       "\t<tr><td>-24.44711</td><td>BFgam    </td></tr>\n",
       "\t<tr><td>-23.56805</td><td>BFgam    </td></tr>\n",
       "\t<tr><td>-19.64491</td><td>BFgam    </td></tr>\n",
       "\t<tr><td>-18.06563</td><td>BFgam    </td></tr>\n",
       "\t<tr><td>-35.58384</td><td>BFgam    </td></tr>\n",
       "\t<tr><td>-21.34005</td><td>BFgam    </td></tr>\n",
       "\t<tr><td>-31.63995</td><td>BFgam    </td></tr>\n",
       "\t<tr><td>-23.52365</td><td>BFgam    </td></tr>\n",
       "\t<tr><td>-18.99009</td><td>BFgam    </td></tr>\n",
       "\t<tr><td>-25.34849</td><td>BFgam    </td></tr>\n",
       "\t<tr><td>-29.52357</td><td>BFgam    </td></tr>\n",
       "\t<tr><td>-34.15031</td><td>BFgam    </td></tr>\n",
       "\t<tr><td>-19.35397</td><td>BFgam    </td></tr>\n",
       "\t<tr><td>-20.60869</td><td>BFgam    </td></tr>\n",
       "\t<tr><td>-26.92056</td><td>BFgam    </td></tr>\n",
       "\t<tr><td>...</td><td>...</td></tr>\n",
       "\t<tr><td>50.06511</td><td>CMgam   </td></tr>\n",
       "\t<tr><td>55.82958</td><td>CMgam   </td></tr>\n",
       "\t<tr><td>19.60427</td><td>CMgam   </td></tr>\n",
       "\t<tr><td>41.80183</td><td>CMgam   </td></tr>\n",
       "\t<tr><td>38.08720</td><td>CMgam   </td></tr>\n",
       "\t<tr><td>43.47832</td><td>CMgam   </td></tr>\n",
       "\t<tr><td>47.34722</td><td>CMgam   </td></tr>\n",
       "\t<tr><td>49.50819</td><td>CMgam   </td></tr>\n",
       "\t<tr><td>20.37737</td><td>CMgam   </td></tr>\n",
       "\t<tr><td>19.70509</td><td>CMgam   </td></tr>\n",
       "\t<tr><td>50.03279</td><td>CMgam   </td></tr>\n",
       "\t<tr><td>49.20905</td><td>CMgam   </td></tr>\n",
       "\t<tr><td>40.80716</td><td>CMgam   </td></tr>\n",
       "\t<tr><td>46.49587</td><td>CMgam   </td></tr>\n",
       "\t<tr><td>44.85897</td><td>CMgam   </td></tr>\n",
       "\t<tr><td>43.93040</td><td>CMgam   </td></tr>\n",
       "\t<tr><td>20.11660</td><td>CMgam   </td></tr>\n",
       "\t<tr><td>41.58387</td><td>CMgam   </td></tr>\n",
       "\t<tr><td>44.11199</td><td>CMgam   </td></tr>\n",
       "\t<tr><td>41.53638</td><td>CMgam   </td></tr>\n",
       "\t<tr><td>46.21302</td><td>CMgam   </td></tr>\n",
       "\t<tr><td>39.11744</td><td>CMgam   </td></tr>\n",
       "\t<tr><td>20.77739</td><td>CMgam   </td></tr>\n",
       "\t<tr><td>60.64344</td><td>CMgam   </td></tr>\n",
       "\t<tr><td>62.14579</td><td>CMgam   </td></tr>\n",
       "\t<tr><td>40.24784</td><td>CMgam   </td></tr>\n",
       "\t<tr><td>69.81839</td><td>CMgam   </td></tr>\n",
       "\t<tr><td>29.41286</td><td>CMgam   </td></tr>\n",
       "\t<tr><td>44.20908</td><td>CMgam   </td></tr>\n",
       "\t<tr><td>48.85245</td><td>CMgam   </td></tr>\n",
       "</tbody>\n",
       "</table>\n"
      ],
      "text/latex": [
       "\\begin{tabular}{r|ll}\n",
       " linear\\_predictor & train\\_label\\\\\n",
       "\\hline\n",
       "\t -23.16115 & BFgam    \\\\\n",
       "\t -24.62318 & BFgam    \\\\\n",
       "\t -37.44539 & BFgam    \\\\\n",
       "\t -19.66619 & BFgam    \\\\\n",
       "\t -21.34424 & BFgam    \\\\\n",
       "\t -20.46904 & BFgam    \\\\\n",
       "\t -33.03828 & BFgam    \\\\\n",
       "\t -19.97020 & BFgam    \\\\\n",
       "\t -22.89617 & BFgam    \\\\\n",
       "\t -19.34783 & BFgam    \\\\\n",
       "\t -25.40275 & BFgam    \\\\\n",
       "\t -18.22002 & BFgam    \\\\\n",
       "\t -26.03792 & BFgam    \\\\\n",
       "\t -25.37924 & BFgam    \\\\\n",
       "\t -28.64198 & BFgam    \\\\\n",
       "\t -24.44711 & BFgam    \\\\\n",
       "\t -23.56805 & BFgam    \\\\\n",
       "\t -19.64491 & BFgam    \\\\\n",
       "\t -18.06563 & BFgam    \\\\\n",
       "\t -35.58384 & BFgam    \\\\\n",
       "\t -21.34005 & BFgam    \\\\\n",
       "\t -31.63995 & BFgam    \\\\\n",
       "\t -23.52365 & BFgam    \\\\\n",
       "\t -18.99009 & BFgam    \\\\\n",
       "\t -25.34849 & BFgam    \\\\\n",
       "\t -29.52357 & BFgam    \\\\\n",
       "\t -34.15031 & BFgam    \\\\\n",
       "\t -19.35397 & BFgam    \\\\\n",
       "\t -20.60869 & BFgam    \\\\\n",
       "\t -26.92056 & BFgam    \\\\\n",
       "\t ... & ...\\\\\n",
       "\t 50.06511 & CMgam   \\\\\n",
       "\t 55.82958 & CMgam   \\\\\n",
       "\t 19.60427 & CMgam   \\\\\n",
       "\t 41.80183 & CMgam   \\\\\n",
       "\t 38.08720 & CMgam   \\\\\n",
       "\t 43.47832 & CMgam   \\\\\n",
       "\t 47.34722 & CMgam   \\\\\n",
       "\t 49.50819 & CMgam   \\\\\n",
       "\t 20.37737 & CMgam   \\\\\n",
       "\t 19.70509 & CMgam   \\\\\n",
       "\t 50.03279 & CMgam   \\\\\n",
       "\t 49.20905 & CMgam   \\\\\n",
       "\t 40.80716 & CMgam   \\\\\n",
       "\t 46.49587 & CMgam   \\\\\n",
       "\t 44.85897 & CMgam   \\\\\n",
       "\t 43.93040 & CMgam   \\\\\n",
       "\t 20.11660 & CMgam   \\\\\n",
       "\t 41.58387 & CMgam   \\\\\n",
       "\t 44.11199 & CMgam   \\\\\n",
       "\t 41.53638 & CMgam   \\\\\n",
       "\t 46.21302 & CMgam   \\\\\n",
       "\t 39.11744 & CMgam   \\\\\n",
       "\t 20.77739 & CMgam   \\\\\n",
       "\t 60.64344 & CMgam   \\\\\n",
       "\t 62.14579 & CMgam   \\\\\n",
       "\t 40.24784 & CMgam   \\\\\n",
       "\t 69.81839 & CMgam   \\\\\n",
       "\t 29.41286 & CMgam   \\\\\n",
       "\t 44.20908 & CMgam   \\\\\n",
       "\t 48.85245 & CMgam   \\\\\n",
       "\\end{tabular}\n"
      ],
      "text/markdown": [
       "\n",
       "| linear_predictor | train_label |\n",
       "|---|---|\n",
       "| -23.16115 | BFgam     |\n",
       "| -24.62318 | BFgam     |\n",
       "| -37.44539 | BFgam     |\n",
       "| -19.66619 | BFgam     |\n",
       "| -21.34424 | BFgam     |\n",
       "| -20.46904 | BFgam     |\n",
       "| -33.03828 | BFgam     |\n",
       "| -19.97020 | BFgam     |\n",
       "| -22.89617 | BFgam     |\n",
       "| -19.34783 | BFgam     |\n",
       "| -25.40275 | BFgam     |\n",
       "| -18.22002 | BFgam     |\n",
       "| -26.03792 | BFgam     |\n",
       "| -25.37924 | BFgam     |\n",
       "| -28.64198 | BFgam     |\n",
       "| -24.44711 | BFgam     |\n",
       "| -23.56805 | BFgam     |\n",
       "| -19.64491 | BFgam     |\n",
       "| -18.06563 | BFgam     |\n",
       "| -35.58384 | BFgam     |\n",
       "| -21.34005 | BFgam     |\n",
       "| -31.63995 | BFgam     |\n",
       "| -23.52365 | BFgam     |\n",
       "| -18.99009 | BFgam     |\n",
       "| -25.34849 | BFgam     |\n",
       "| -29.52357 | BFgam     |\n",
       "| -34.15031 | BFgam     |\n",
       "| -19.35397 | BFgam     |\n",
       "| -20.60869 | BFgam     |\n",
       "| -26.92056 | BFgam     |\n",
       "| ... | ... |\n",
       "| 50.06511 | CMgam    |\n",
       "| 55.82958 | CMgam    |\n",
       "| 19.60427 | CMgam    |\n",
       "| 41.80183 | CMgam    |\n",
       "| 38.08720 | CMgam    |\n",
       "| 43.47832 | CMgam    |\n",
       "| 47.34722 | CMgam    |\n",
       "| 49.50819 | CMgam    |\n",
       "| 20.37737 | CMgam    |\n",
       "| 19.70509 | CMgam    |\n",
       "| 50.03279 | CMgam    |\n",
       "| 49.20905 | CMgam    |\n",
       "| 40.80716 | CMgam    |\n",
       "| 46.49587 | CMgam    |\n",
       "| 44.85897 | CMgam    |\n",
       "| 43.93040 | CMgam    |\n",
       "| 20.11660 | CMgam    |\n",
       "| 41.58387 | CMgam    |\n",
       "| 44.11199 | CMgam    |\n",
       "| 41.53638 | CMgam    |\n",
       "| 46.21302 | CMgam    |\n",
       "| 39.11744 | CMgam    |\n",
       "| 20.77739 | CMgam    |\n",
       "| 60.64344 | CMgam    |\n",
       "| 62.14579 | CMgam    |\n",
       "| 40.24784 | CMgam    |\n",
       "| 69.81839 | CMgam    |\n",
       "| 29.41286 | CMgam    |\n",
       "| 44.20908 | CMgam    |\n",
       "| 48.85245 | CMgam    |\n",
       "\n"
      ],
      "text/plain": [
       "    linear_predictor train_label\n",
       "1   -23.16115        BFgam      \n",
       "2   -24.62318        BFgam      \n",
       "3   -37.44539        BFgam      \n",
       "4   -19.66619        BFgam      \n",
       "5   -21.34424        BFgam      \n",
       "6   -20.46904        BFgam      \n",
       "7   -33.03828        BFgam      \n",
       "8   -19.97020        BFgam      \n",
       "9   -22.89617        BFgam      \n",
       "10  -19.34783        BFgam      \n",
       "11  -25.40275        BFgam      \n",
       "12  -18.22002        BFgam      \n",
       "13  -26.03792        BFgam      \n",
       "14  -25.37924        BFgam      \n",
       "15  -28.64198        BFgam      \n",
       "16  -24.44711        BFgam      \n",
       "17  -23.56805        BFgam      \n",
       "18  -19.64491        BFgam      \n",
       "19  -18.06563        BFgam      \n",
       "20  -35.58384        BFgam      \n",
       "21  -21.34005        BFgam      \n",
       "22  -31.63995        BFgam      \n",
       "23  -23.52365        BFgam      \n",
       "24  -18.99009        BFgam      \n",
       "25  -25.34849        BFgam      \n",
       "26  -29.52357        BFgam      \n",
       "27  -34.15031        BFgam      \n",
       "28  -19.35397        BFgam      \n",
       "29  -20.60869        BFgam      \n",
       "30  -26.92056        BFgam      \n",
       "... ...              ...        \n",
       "283 50.06511         CMgam      \n",
       "284 55.82958         CMgam      \n",
       "285 19.60427         CMgam      \n",
       "286 41.80183         CMgam      \n",
       "287 38.08720         CMgam      \n",
       "288 43.47832         CMgam      \n",
       "289 47.34722         CMgam      \n",
       "290 49.50819         CMgam      \n",
       "291 20.37737         CMgam      \n",
       "292 19.70509         CMgam      \n",
       "293 50.03279         CMgam      \n",
       "294 49.20905         CMgam      \n",
       "295 40.80716         CMgam      \n",
       "296 46.49587         CMgam      \n",
       "297 44.85897         CMgam      \n",
       "298 43.93040         CMgam      \n",
       "299 20.11660         CMgam      \n",
       "300 41.58387         CMgam      \n",
       "301 44.11199         CMgam      \n",
       "302 41.53638         CMgam      \n",
       "303 46.21302         CMgam      \n",
       "304 39.11744         CMgam      \n",
       "305 20.77739         CMgam      \n",
       "306 60.64344         CMgam      \n",
       "307 62.14579         CMgam      \n",
       "308 40.24784         CMgam      \n",
       "309 69.81839         CMgam      \n",
       "310 29.41286         CMgam      \n",
       "311 44.20908         CMgam      \n",
       "312 48.85245         CMgam      "
      ]
     },
     "metadata": {},
     "output_type": "display_data"
    }
   ],
   "source": [
    "# TO SEE THE FITTED VALUES OF THE TRAIN SET\n",
    "# temp IS THE LINEAR PREDICTOR. IF temp<0 IT IS pop1=BFgam\n",
    "temp<-train_genotype%*%m$coefficients\n",
    "data.frame(linear_predictor=temp, train_label=train_label)"
   ]
  },
  {
   "cell_type": "code",
   "execution_count": 36,
   "id": "62a6299f",
   "metadata": {},
   "outputs": [
    {
     "data": {
      "text/html": [
       "<table>\n",
       "<thead><tr><th scope=col>linear_predictor</th><th scope=col>test_label</th></tr></thead>\n",
       "<tbody>\n",
       "\t<tr><td>32.7606433</td><td>BFgam     </td></tr>\n",
       "\t<tr><td>18.9777854</td><td>BFgam     </td></tr>\n",
       "\t<tr><td>30.6749041</td><td>BFgam     </td></tr>\n",
       "\t<tr><td>34.5459421</td><td>BFgam     </td></tr>\n",
       "\t<tr><td>21.7344473</td><td>BFgam     </td></tr>\n",
       "\t<tr><td>33.1786939</td><td>BFgam     </td></tr>\n",
       "\t<tr><td>31.0772465</td><td>BFgam     </td></tr>\n",
       "\t<tr><td>24.4533526</td><td>BFgam     </td></tr>\n",
       "\t<tr><td>29.0503038</td><td>BFgam     </td></tr>\n",
       "\t<tr><td>21.3667515</td><td>BFgam     </td></tr>\n",
       "\t<tr><td>26.7615738</td><td>BFgam     </td></tr>\n",
       "\t<tr><td>26.2903790</td><td>BFgam     </td></tr>\n",
       "\t<tr><td>19.1152319</td><td>BFgam     </td></tr>\n",
       "\t<tr><td>29.1419861</td><td>BFgam     </td></tr>\n",
       "\t<tr><td>26.4544255</td><td>BFgam     </td></tr>\n",
       "\t<tr><td>34.1977739</td><td>BFgam     </td></tr>\n",
       "\t<tr><td>28.1429230</td><td>BFgam     </td></tr>\n",
       "\t<tr><td>20.3150861</td><td>BFgam     </td></tr>\n",
       "\t<tr><td> 7.7259626</td><td>CMgam     </td></tr>\n",
       "\t<tr><td> 5.3717631</td><td>CMgam     </td></tr>\n",
       "\t<tr><td>-2.5321732</td><td>CMgam     </td></tr>\n",
       "\t<tr><td>25.5418282</td><td>CMgam     </td></tr>\n",
       "\t<tr><td> 1.5476343</td><td>CMgam     </td></tr>\n",
       "\t<tr><td> 0.6664714</td><td>CMgam     </td></tr>\n",
       "\t<tr><td>27.7941364</td><td>CMgam     </td></tr>\n",
       "\t<tr><td> 4.7917714</td><td>CMgam     </td></tr>\n",
       "\t<tr><td> 1.6477848</td><td>CMgam     </td></tr>\n",
       "\t<tr><td>27.7371503</td><td>CMgam     </td></tr>\n",
       "\t<tr><td>34.9964483</td><td>CMgam     </td></tr>\n",
       "\t<tr><td>27.6526108</td><td>CMgam     </td></tr>\n",
       "\t<tr><td>...</td><td>...</td></tr>\n",
       "\t<tr><td>26.67331</td><td>CMgam   </td></tr>\n",
       "\t<tr><td>51.79255</td><td>CMgam   </td></tr>\n",
       "\t<tr><td>38.87994</td><td>CMgam   </td></tr>\n",
       "\t<tr><td>48.47631</td><td>CMgam   </td></tr>\n",
       "\t<tr><td>22.22667</td><td>CMgam   </td></tr>\n",
       "\t<tr><td>50.49174</td><td>CMgam   </td></tr>\n",
       "\t<tr><td>30.76734</td><td>CMgam   </td></tr>\n",
       "\t<tr><td>39.32033</td><td>CMgam   </td></tr>\n",
       "\t<tr><td>26.72230</td><td>CMgam   </td></tr>\n",
       "\t<tr><td>54.81645</td><td>CMgam   </td></tr>\n",
       "\t<tr><td>47.31462</td><td>CMgam   </td></tr>\n",
       "\t<tr><td>25.70348</td><td>CMgam   </td></tr>\n",
       "\t<tr><td>30.56126</td><td>CMgam   </td></tr>\n",
       "\t<tr><td>23.19009</td><td>CMgam   </td></tr>\n",
       "\t<tr><td>24.24038</td><td>CMgam   </td></tr>\n",
       "\t<tr><td>26.84090</td><td>CMgam   </td></tr>\n",
       "\t<tr><td>28.72877</td><td>CMgam   </td></tr>\n",
       "\t<tr><td>24.57901</td><td>CMgam   </td></tr>\n",
       "\t<tr><td>31.48966</td><td>CMgam   </td></tr>\n",
       "\t<tr><td>28.51100</td><td>CMgam   </td></tr>\n",
       "\t<tr><td>29.62092</td><td>CMgam   </td></tr>\n",
       "\t<tr><td>31.19441</td><td>CMgam   </td></tr>\n",
       "\t<tr><td>34.14585</td><td>CMgam   </td></tr>\n",
       "\t<tr><td>38.42971</td><td>CMgam   </td></tr>\n",
       "\t<tr><td>26.70309</td><td>CMgam   </td></tr>\n",
       "\t<tr><td>25.34321</td><td>CMgam   </td></tr>\n",
       "\t<tr><td>24.74704</td><td>CMgam   </td></tr>\n",
       "\t<tr><td>26.26458</td><td>CMgam   </td></tr>\n",
       "\t<tr><td>27.43277</td><td>CMgam   </td></tr>\n",
       "\t<tr><td>26.82592</td><td>CMgam   </td></tr>\n",
       "</tbody>\n",
       "</table>\n"
      ],
      "text/latex": [
       "\\begin{tabular}{r|ll}\n",
       " linear\\_predictor & test\\_label\\\\\n",
       "\\hline\n",
       "\t 32.7606433 & BFgam     \\\\\n",
       "\t 18.9777854 & BFgam     \\\\\n",
       "\t 30.6749041 & BFgam     \\\\\n",
       "\t 34.5459421 & BFgam     \\\\\n",
       "\t 21.7344473 & BFgam     \\\\\n",
       "\t 33.1786939 & BFgam     \\\\\n",
       "\t 31.0772465 & BFgam     \\\\\n",
       "\t 24.4533526 & BFgam     \\\\\n",
       "\t 29.0503038 & BFgam     \\\\\n",
       "\t 21.3667515 & BFgam     \\\\\n",
       "\t 26.7615738 & BFgam     \\\\\n",
       "\t 26.2903790 & BFgam     \\\\\n",
       "\t 19.1152319 & BFgam     \\\\\n",
       "\t 29.1419861 & BFgam     \\\\\n",
       "\t 26.4544255 & BFgam     \\\\\n",
       "\t 34.1977739 & BFgam     \\\\\n",
       "\t 28.1429230 & BFgam     \\\\\n",
       "\t 20.3150861 & BFgam     \\\\\n",
       "\t  7.7259626 & CMgam     \\\\\n",
       "\t  5.3717631 & CMgam     \\\\\n",
       "\t -2.5321732 & CMgam     \\\\\n",
       "\t 25.5418282 & CMgam     \\\\\n",
       "\t  1.5476343 & CMgam     \\\\\n",
       "\t  0.6664714 & CMgam     \\\\\n",
       "\t 27.7941364 & CMgam     \\\\\n",
       "\t  4.7917714 & CMgam     \\\\\n",
       "\t  1.6477848 & CMgam     \\\\\n",
       "\t 27.7371503 & CMgam     \\\\\n",
       "\t 34.9964483 & CMgam     \\\\\n",
       "\t 27.6526108 & CMgam     \\\\\n",
       "\t ... & ...\\\\\n",
       "\t 26.67331 & CMgam   \\\\\n",
       "\t 51.79255 & CMgam   \\\\\n",
       "\t 38.87994 & CMgam   \\\\\n",
       "\t 48.47631 & CMgam   \\\\\n",
       "\t 22.22667 & CMgam   \\\\\n",
       "\t 50.49174 & CMgam   \\\\\n",
       "\t 30.76734 & CMgam   \\\\\n",
       "\t 39.32033 & CMgam   \\\\\n",
       "\t 26.72230 & CMgam   \\\\\n",
       "\t 54.81645 & CMgam   \\\\\n",
       "\t 47.31462 & CMgam   \\\\\n",
       "\t 25.70348 & CMgam   \\\\\n",
       "\t 30.56126 & CMgam   \\\\\n",
       "\t 23.19009 & CMgam   \\\\\n",
       "\t 24.24038 & CMgam   \\\\\n",
       "\t 26.84090 & CMgam   \\\\\n",
       "\t 28.72877 & CMgam   \\\\\n",
       "\t 24.57901 & CMgam   \\\\\n",
       "\t 31.48966 & CMgam   \\\\\n",
       "\t 28.51100 & CMgam   \\\\\n",
       "\t 29.62092 & CMgam   \\\\\n",
       "\t 31.19441 & CMgam   \\\\\n",
       "\t 34.14585 & CMgam   \\\\\n",
       "\t 38.42971 & CMgam   \\\\\n",
       "\t 26.70309 & CMgam   \\\\\n",
       "\t 25.34321 & CMgam   \\\\\n",
       "\t 24.74704 & CMgam   \\\\\n",
       "\t 26.26458 & CMgam   \\\\\n",
       "\t 27.43277 & CMgam   \\\\\n",
       "\t 26.82592 & CMgam   \\\\\n",
       "\\end{tabular}\n"
      ],
      "text/markdown": [
       "\n",
       "| linear_predictor | test_label |\n",
       "|---|---|\n",
       "| 32.7606433 | BFgam      |\n",
       "| 18.9777854 | BFgam      |\n",
       "| 30.6749041 | BFgam      |\n",
       "| 34.5459421 | BFgam      |\n",
       "| 21.7344473 | BFgam      |\n",
       "| 33.1786939 | BFgam      |\n",
       "| 31.0772465 | BFgam      |\n",
       "| 24.4533526 | BFgam      |\n",
       "| 29.0503038 | BFgam      |\n",
       "| 21.3667515 | BFgam      |\n",
       "| 26.7615738 | BFgam      |\n",
       "| 26.2903790 | BFgam      |\n",
       "| 19.1152319 | BFgam      |\n",
       "| 29.1419861 | BFgam      |\n",
       "| 26.4544255 | BFgam      |\n",
       "| 34.1977739 | BFgam      |\n",
       "| 28.1429230 | BFgam      |\n",
       "| 20.3150861 | BFgam      |\n",
       "|  7.7259626 | CMgam      |\n",
       "|  5.3717631 | CMgam      |\n",
       "| -2.5321732 | CMgam      |\n",
       "| 25.5418282 | CMgam      |\n",
       "|  1.5476343 | CMgam      |\n",
       "|  0.6664714 | CMgam      |\n",
       "| 27.7941364 | CMgam      |\n",
       "|  4.7917714 | CMgam      |\n",
       "|  1.6477848 | CMgam      |\n",
       "| 27.7371503 | CMgam      |\n",
       "| 34.9964483 | CMgam      |\n",
       "| 27.6526108 | CMgam      |\n",
       "| ... | ... |\n",
       "| 26.67331 | CMgam    |\n",
       "| 51.79255 | CMgam    |\n",
       "| 38.87994 | CMgam    |\n",
       "| 48.47631 | CMgam    |\n",
       "| 22.22667 | CMgam    |\n",
       "| 50.49174 | CMgam    |\n",
       "| 30.76734 | CMgam    |\n",
       "| 39.32033 | CMgam    |\n",
       "| 26.72230 | CMgam    |\n",
       "| 54.81645 | CMgam    |\n",
       "| 47.31462 | CMgam    |\n",
       "| 25.70348 | CMgam    |\n",
       "| 30.56126 | CMgam    |\n",
       "| 23.19009 | CMgam    |\n",
       "| 24.24038 | CMgam    |\n",
       "| 26.84090 | CMgam    |\n",
       "| 28.72877 | CMgam    |\n",
       "| 24.57901 | CMgam    |\n",
       "| 31.48966 | CMgam    |\n",
       "| 28.51100 | CMgam    |\n",
       "| 29.62092 | CMgam    |\n",
       "| 31.19441 | CMgam    |\n",
       "| 34.14585 | CMgam    |\n",
       "| 38.42971 | CMgam    |\n",
       "| 26.70309 | CMgam    |\n",
       "| 25.34321 | CMgam    |\n",
       "| 24.74704 | CMgam    |\n",
       "| 26.26458 | CMgam    |\n",
       "| 27.43277 | CMgam    |\n",
       "| 26.82592 | CMgam    |\n",
       "\n"
      ],
      "text/plain": [
       "    linear_predictor test_label\n",
       "1   32.7606433       BFgam     \n",
       "2   18.9777854       BFgam     \n",
       "3   30.6749041       BFgam     \n",
       "4   34.5459421       BFgam     \n",
       "5   21.7344473       BFgam     \n",
       "6   33.1786939       BFgam     \n",
       "7   31.0772465       BFgam     \n",
       "8   24.4533526       BFgam     \n",
       "9   29.0503038       BFgam     \n",
       "10  21.3667515       BFgam     \n",
       "11  26.7615738       BFgam     \n",
       "12  26.2903790       BFgam     \n",
       "13  19.1152319       BFgam     \n",
       "14  29.1419861       BFgam     \n",
       "15  26.4544255       BFgam     \n",
       "16  34.1977739       BFgam     \n",
       "17  28.1429230       BFgam     \n",
       "18  20.3150861       BFgam     \n",
       "19   7.7259626       CMgam     \n",
       "20   5.3717631       CMgam     \n",
       "21  -2.5321732       CMgam     \n",
       "22  25.5418282       CMgam     \n",
       "23   1.5476343       CMgam     \n",
       "24   0.6664714       CMgam     \n",
       "25  27.7941364       CMgam     \n",
       "26   4.7917714       CMgam     \n",
       "27   1.6477848       CMgam     \n",
       "28  27.7371503       CMgam     \n",
       "29  34.9964483       CMgam     \n",
       "30  27.6526108       CMgam     \n",
       "... ...              ...       \n",
       "48  26.67331         CMgam     \n",
       "49  51.79255         CMgam     \n",
       "50  38.87994         CMgam     \n",
       "51  48.47631         CMgam     \n",
       "52  22.22667         CMgam     \n",
       "53  50.49174         CMgam     \n",
       "54  30.76734         CMgam     \n",
       "55  39.32033         CMgam     \n",
       "56  26.72230         CMgam     \n",
       "57  54.81645         CMgam     \n",
       "58  47.31462         CMgam     \n",
       "59  25.70348         CMgam     \n",
       "60  30.56126         CMgam     \n",
       "61  23.19009         CMgam     \n",
       "62  24.24038         CMgam     \n",
       "63  26.84090         CMgam     \n",
       "64  28.72877         CMgam     \n",
       "65  24.57901         CMgam     \n",
       "66  31.48966         CMgam     \n",
       "67  28.51100         CMgam     \n",
       "68  29.62092         CMgam     \n",
       "69  31.19441         CMgam     \n",
       "70  34.14585         CMgam     \n",
       "71  38.42971         CMgam     \n",
       "72  26.70309         CMgam     \n",
       "73  25.34321         CMgam     \n",
       "74  24.74704         CMgam     \n",
       "75  26.26458         CMgam     \n",
       "76  27.43277         CMgam     \n",
       "77  26.82592         CMgam     "
      ]
     },
     "metadata": {},
     "output_type": "display_data"
    }
   ],
   "source": [
    "# HOW ABOUT FITTING TO THE TEST SET?\n",
    "# IT DOESN'T SEEM TO WORK AT ALL\n",
    "# OVERFITTING???\n",
    "temp<-test_genotype%*%m$coefficients\n",
    "data.frame(linear_predictor=temp, test_label=test_label)"
   ]
  },
  {
   "cell_type": "markdown",
   "id": "7b21ae3a",
   "metadata": {},
   "source": [
    "IGNORE THE THINGS BELOW\n",
    "29/07/2019\n",
    "\n"
   ]
  },
  {
   "cell_type": "code",
   "execution_count": 17,
   "id": "81d2a77f",
   "metadata": {},
   "outputs": [
    {
     "data": {
      "text/html": [
       "<table>\n",
       "<thead><tr><th scope=col>POS</th><th scope=col>coef</th></tr></thead>\n",
       "<tbody>\n",
       "\t<tr><td>34841837   </td><td>-0.06120580</td></tr>\n",
       "\t<tr><td>30493816   </td><td> 0.05098087</td></tr>\n",
       "\t<tr><td>10671913   </td><td> 0.04793063</td></tr>\n",
       "\t<tr><td> 6947514   </td><td>-0.04740008</td></tr>\n",
       "\t<tr><td>29147463   </td><td> 0.04713984</td></tr>\n",
       "\t<tr><td>14450548   </td><td> 0.04665493</td></tr>\n",
       "\t<tr><td> 7278547   </td><td> 0.04612495</td></tr>\n",
       "\t<tr><td>26580211   </td><td>-0.04561867</td></tr>\n",
       "\t<tr><td>31626039   </td><td> 0.04488609</td></tr>\n",
       "\t<tr><td>16135172   </td><td> 0.04480461</td></tr>\n",
       "</tbody>\n",
       "</table>\n"
      ],
      "text/latex": [
       "\\begin{tabular}{r|ll}\n",
       " POS & coef\\\\\n",
       "\\hline\n",
       "\t 34841837    & -0.06120580\\\\\n",
       "\t 30493816    &  0.05098087\\\\\n",
       "\t 10671913    &  0.04793063\\\\\n",
       "\t  6947514    & -0.04740008\\\\\n",
       "\t 29147463    &  0.04713984\\\\\n",
       "\t 14450548    &  0.04665493\\\\\n",
       "\t  7278547    &  0.04612495\\\\\n",
       "\t 26580211    & -0.04561867\\\\\n",
       "\t 31626039    &  0.04488609\\\\\n",
       "\t 16135172    &  0.04480461\\\\\n",
       "\\end{tabular}\n"
      ],
      "text/markdown": [
       "\n",
       "| POS | coef |\n",
       "|---|---|\n",
       "| 34841837    | -0.06120580 |\n",
       "| 30493816    |  0.05098087 |\n",
       "| 10671913    |  0.04793063 |\n",
       "|  6947514    | -0.04740008 |\n",
       "| 29147463    |  0.04713984 |\n",
       "| 14450548    |  0.04665493 |\n",
       "|  7278547    |  0.04612495 |\n",
       "| 26580211    | -0.04561867 |\n",
       "| 31626039    |  0.04488609 |\n",
       "| 16135172    |  0.04480461 |\n",
       "\n"
      ],
      "text/plain": [
       "   POS      coef       \n",
       "1  34841837 -0.06120580\n",
       "2  30493816  0.05098087\n",
       "3  10671913  0.04793063\n",
       "4   6947514 -0.04740008\n",
       "5  29147463  0.04713984\n",
       "6  14450548  0.04665493\n",
       "7   7278547  0.04612495\n",
       "8  26580211 -0.04561867\n",
       "9  31626039  0.04488609\n",
       "10 16135172  0.04480461"
      ]
     },
     "metadata": {},
     "output_type": "display_data"
    },
    {
     "data": {
      "image/png": "[encoded data removed]",
      "text/plain": [
       "plot without title"
      ]
     },
     "metadata": {},
     "output_type": "display_data"
    }
   ],
   "source": [
    "# SNPs CONTRIBUTION?\n",
    "plot(m$coefficients)\n",
    "contribution_order<-order(abs(m$coefficients), decreasing=T)\n",
    "data.frame(POS=POS[contribution_order[1:10]], coef=m$coefficients[contribution_order[1:10]])"
   ]
  },
  {
   "cell_type": "code",
   "execution_count": 31,
   "id": "0f973872",
   "metadata": {},
   "outputs": [
    {
     "data": {
      "text/html": [
       "-0.00462402256695181"
      ],
      "text/latex": [
       "-0.00462402256695181"
      ],
      "text/markdown": [
       "-0.00462402256695181"
      ],
      "text/plain": [
       "[1] -0.004624023"
      ]
     },
     "metadata": {},
     "output_type": "display_data"
    },
    {
     "data": {
      "text/plain": [
       "   user  system elapsed \n",
       "   1.25    0.00    0.06 "
      ]
     },
     "metadata": {},
     "output_type": "display_data"
    }
   ],
   "source": [
    "# THE PLAIN VANILLA glm() IS TOO SLOW\n",
    "# TRY WRITING MY OWN LOGISTIC LOG-LIKELIHOOD FUNCTION INVERSE\n",
    "# RETURNING 1/LOG_LIKE. THEN MINIMISE IT. \n",
    "# parm IS A VECTOR OF PARAMETERS WITH LENGTH EQUALS LOCI NUMBER\n",
    "# y IS THE RESPONSE, OR THE CLASS LABELS (VECTOR), 0=pop1, 1=pop2\n",
    "y<-as.numeric(train_label==pop2)\n",
    "log.like.inv<-function(parms)\n",
    "{\n",
    "    temp<-train_genotype%*%parms\n",
    "    temp1<-exp(temp)\n",
    "    p<-temp1/(1+temp1)\n",
    "    l<-y*log(p)+(1-y)*log(1-p)\n",
    "    # REMOVE TOO SMALL PROB\n",
    "    l2<-l[!is.na(l)]\n",
    "    return(1/fsum(l2))\n",
    "}\n",
    "log.like.inv<-cmpfun(log.like.inv)\n",
    "\n",
    "# TRY \n",
    "log.like.inv(rep(0, 107195))\n",
    "system.time(log.like.inv(rep(0, 107195)))\n",
    "# ELAPSE TIME 0.06, TOTAL CPU TIME 1.25s ACROSS 20 CORES. PERFECT SCALING...?\n",
    "# THE EVALUATION OF THE LOG-LIKE INVOLVES A MATRIX MULTIPLICATION. \n",
    "# A GOOD LINPACK DOES THE JOB"
   ]
  },
  {
   "cell_type": "code",
   "execution_count": 34,
   "id": "52cf9a77",
   "metadata": {},
   "outputs": [
    {
     "data": {
      "text/html": [
       "-4.23833401740529e-07"
      ],
      "text/latex": [
       "-4.23833401740529e-07"
      ],
      "text/markdown": [
       "-4.23833401740529e-07"
      ],
      "text/plain": [
       "[1] -4.238334e-07"
      ]
     },
     "metadata": {},
     "output_type": "display_data"
    }
   ],
   "source": [
    "# IF WE EVALUATE THE FUNCTION AT THE SAME POINT WE SHOULD GET THE SAME LOG-LIKE VALUE\n",
    "1/log.like.inv(m$coefficients)\n",
    "# YAY!!!"
   ]
  },
  {
   "cell_type": "code",
   "execution_count": 12,
   "id": "67788c92",
   "metadata": {},
   "outputs": [],
   "source": [
    "# REPEAT PATTERSON'S NORMALISATION BUT ONLY ON THE TRAINING SET\n",
    "train_freq<-apply(train_genotype, 2, fsum)/(2*nrow(train_genotype))\n",
    "train_freq2<-matrix(train_freq, nc=ncol(train_genotype), nr=nrow(train_genotype), byrow=T)\n",
    "normal_train_genotype<-(train_genotype-2*train_freq2)/sqrt(train_freq2*(1-train_freq2))\n",
    "rm(train_freq2); gc2(); "
   ]
  },
  {
   "cell_type": "code",
   "execution_count": 13,
   "id": "f01dbaa8",
   "metadata": {},
   "outputs": [
    {
     "data": {
      "text/plain": [
       "   user  system elapsed \n",
       "  19.91    0.63    2.67 "
      ]
     },
     "metadata": {},
     "output_type": "display_data"
    },
    {
     "data": {
      "text/html": [
       "<ol class=list-inline>\n",
       "\t<li>312</li>\n",
       "\t<li>50</li>\n",
       "</ol>\n"
      ],
      "text/latex": [
       "\\begin{enumerate*}\n",
       "\\item 312\n",
       "\\item 50\n",
       "\\end{enumerate*}\n"
      ],
      "text/markdown": [
       "1. 312\n",
       "2. 50\n",
       "\n",
       "\n"
      ],
      "text/plain": [
       "[1] 312  50"
      ]
     },
     "metadata": {},
     "output_type": "display_data"
    }
   ],
   "source": [
    "# PCA VIA prccmp(). USE FIRST n=50 COMPONENTS\n",
    "system.time(e<-prcomp(normal_train_genotype))\n",
    "n<-50\n",
    "train_feature<-normal_train_genotype%*%e$rotation[,1:n]\n",
    "dim(train_feature)"
   ]
  },
  {
   "cell_type": "code",
   "execution_count": 17,
   "id": "21e2dd4d",
   "metadata": {},
   "outputs": [
    {
     "data": {
      "image/png": "[encoded data removed]",
      "text/plain": [
       "Plot with title \"Histogram of LD_train[train_label == pop2]\""
      ]
     },
     "metadata": {},
     "output_type": "display_data"
    }
   ],
   "source": [
    "# LDA, AND EXTRACT THE ONLY LD COMPONENT\n",
    "m_lda<-lda(train_feature, grouping=train_label, prior=c(0.5, 0.5))\n",
    "LD_train<-train_feature%*%m_lda$scaling"
   ]
  },
  {
   "cell_type": "code",
   "execution_count": 15,
   "id": "fe291bed",
   "metadata": {},
   "outputs": [
    {
     "data": {
      "text/html": [
       "<ol class=list-inline>\n",
       "\t<li>50</li>\n",
       "\t<li>1</li>\n",
       "</ol>\n"
      ],
      "text/latex": [
       "\\begin{enumerate*}\n",
       "\\item 50\n",
       "\\item 1\n",
       "\\end{enumerate*}\n"
      ],
      "text/markdown": [
       "1. 50\n",
       "2. 1\n",
       "\n",
       "\n"
      ],
      "text/plain": [
       "[1] 50  1"
      ]
     },
     "metadata": {},
     "output_type": "display_data"
    },
    {
     "data": {
      "image/png": "[encoded data removed]",
      "text/plain": [
       "plot without title"
      ]
     },
     "metadata": {},
     "output_type": "display_data"
    }
   ],
   "source": [
    "# OR SIMPLE PLOT IT OUT\n",
    "plot(m_lda)"
   ]
  },
  {
   "cell_type": "code",
   "execution_count": 19,
   "id": "310edbfd",
   "metadata": {},
   "outputs": [
    {
     "data": {
      "text/html": [
       "<ol class=list-inline>\n",
       "\t<li>77</li>\n",
       "\t<li>50</li>\n",
       "</ol>\n"
      ],
      "text/latex": [
       "\\begin{enumerate*}\n",
       "\\item 77\n",
       "\\item 50\n",
       "\\end{enumerate*}\n"
      ],
      "text/markdown": [
       "1. 77\n",
       "2. 50\n",
       "\n",
       "\n"
      ],
      "text/plain": [
       "[1] 77 50"
      ]
     },
     "metadata": {},
     "output_type": "display_data"
    },
    {
     "data": {
      "text/html": [
       "0.727272727272727"
      ],
      "text/latex": [
       "0.727272727272727"
      ],
      "text/markdown": [
       "0.727272727272727"
      ],
      "text/plain": [
       "[1] 0.7272727"
      ]
     },
     "metadata": {},
     "output_type": "display_data"
    }
   ],
   "source": [
    "# NOW TURN TO THE TEST SET. FIRST NORMALISE IT VIA THE SAME PATTERSON FORMULA AND allele_freq\n",
    "# THEN CREATE test_feature USING THE SAME PCA ROTATION\n",
    "test_freq2<-matrix(train_freq, nc=ncol(test_genotype), nr=nrow(test_genotype), byrow=T)\n",
    "normal_test_genotype<-(test_genotype-2*test_freq2)/sqrt(test_freq2*(1-test_freq2))\n",
    "test_feature<-normal_test_genotype%*%e$rotation[,1:n]\n",
    "dim(test_feature)\n",
    "rm(train_freq); rm(test_freq2); invisible(gc());\n",
    "# PREDICT THE CLASSES GIVEN THE TESTING FEATURES VIA THE EXISTING LDA MODEL. \n",
    "result_lda<-predict(m_lda, test_feature)$class\n",
    "result_lda<-as.character(result_lda)\n",
    "LD_test<-test_feature%*%m_lda$scaling\n",
    "# ACCURACY\n",
    "sum(result_lda==test_label)/length(test_label)"
   ]
  },
  {
   "cell_type": "code",
   "execution_count": 20,
   "id": "c5388ee9",
   "metadata": {},
   "outputs": [
    {
     "data": {
      "image/png": "[encoded data removed]",
      "text/plain": [
       "plot without title"
      ]
     },
     "metadata": {},
     "output_type": "display_data"
    }
   ],
   "source": [
    "plot(LD_train, rep(0, length(LD_train)), col=train_col, ylim=c(-0.2, 0.2))\n",
    "points(LD_test, rep(0, length(LD_test)), col=test_col, pch=3)"
   ]
  },
  {
   "cell_type": "code",
   "execution_count": 21,
   "id": "e4f78f1e",
   "metadata": {},
   "outputs": [
    {
     "name": "stdout",
     "output_type": "stream",
     "text": [
      "# weights:  52 (51 variable)\n",
      "initial  value 216.261920 \n",
      "iter  10 value 160.040778\n",
      "iter  20 value 152.305255\n",
      "iter  30 value 150.485107\n",
      "iter  40 value 148.939593\n",
      "iter  50 value 147.832421\n",
      "iter  60 value 147.105045\n",
      "iter  70 value 146.625598\n",
      "final  value 146.621689 \n",
      "converged\n"
     ]
    }
   ],
   "source": [
    "# HOW ABOUT USING LOGISTIC REGRESSION AS OUR CLASSIFIER? USE muiltinom() FROM PACKAGE nnet. \n",
    "# BUT WE NEED TO PUT train_label AND train_feature INTO A DATA FRAME. STUBBORN. \n",
    "# AND, NOT SURE IF I UNDERSTAND THE OUTPUTS FROM multinom(). \n",
    "train_df<-data.frame(train_label=train_label, train_feature=train_feature)\n",
    "m_lr<-multinom(train_label~., data=train_df)"
   ]
  },
  {
   "cell_type": "code",
   "execution_count": 22,
   "id": "4f67ede0",
   "metadata": {},
   "outputs": [
    {
     "data": {
      "text/html": [
       "0.766233766233766"
      ],
      "text/latex": [
       "0.766233766233766"
      ],
      "text/markdown": [
       "0.766233766233766"
      ],
      "text/plain": [
       "[1] 0.7662338"
      ]
     },
     "metadata": {},
     "output_type": "display_data"
    }
   ],
   "source": [
    "# PREDICT WITH OUT TEST SET. AGAIN I NEED TO CREATE A DATA FRAME. \n",
    "test_df<-data.frame(test_feature=test_feature)\n",
    "# TO AVOID ERRORS I NEED TO SET THE COLUMN NAMES OF test_df TO MATCH THOSE OF train_df. VERY STUBBORN. \n",
    "names(test_df)<-names(train_df)[-1]\n",
    "# PUT THE test_df TO TEST THE ALGORITHM\n",
    "result_lr<-predict(m_lr, test_df, type='class')\n",
    "result_lr<-as.character(result_lr)\n",
    "# ACCURACY. SHOULD BE AROUND 90%\n",
    "sum(result_lr==test_label)/length(test_label)"
   ]
  },
  {
   "cell_type": "code",
   "execution_count": 23,
   "id": "6c210d6e",
   "metadata": {},
   "outputs": [
    {
     "ename": "ERROR",
     "evalue": "Error in xy.coords(x, y, xlabel, ylabel, log): 'x' is a list, but does not have components 'x' and 'y'\n",
     "output_type": "error",
     "traceback": [
      "Error in xy.coords(x, y, xlabel, ylabel, log): 'x' is a list, but does not have components 'x' and 'y'\nTraceback:\n",
      "1. plot(m_lr)",
      "2. plot.default(m_lr)",
      "3. xy.coords(x, y, xlabel, ylabel, log)",
      "4. stop(\"'x' is a list, but does not have components 'x' and 'y'\")"
     ]
    }
   ],
   "source": []
  },
  {
   "cell_type": "code",
   "execution_count": null,
   "id": "7115111a",
   "metadata": {},
   "outputs": [],
   "source": []
  }
 ],
 "metadata": {
  "kernelspec": {
   "display_name": "R",
   "language": "R",
   "name": "ir"
  },
  "language_info": {
   "codemirror_mode": "r",
   "file_extension": ".r",
   "mimetype": "text/x-r-source",
   "name": "R",
   "pygments_lexer": "r",
   "version": "3.5.3"
  }
 },
 "nbformat": 4,
 "nbformat_minor": 5
}
